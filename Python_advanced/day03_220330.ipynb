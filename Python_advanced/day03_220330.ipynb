{
 "cells": [
  {
   "cell_type": "code",
   "execution_count": 1,
   "metadata": {},
   "outputs": [],
   "source": [
    "import sys                      #하드웨어 접근 모듈\n",
    "from PyQt5.QtWidgets import *   #파이큐티 관련 모듈\n",
    "from PyQt5 import uic           #ui 관련 모듈\n",
    "\n"
   ]
  },
  {
   "cell_type": "code",
   "execution_count": 2,
   "metadata": {},
   "outputs": [
    {
     "ename": "AttributeError",
     "evalue": "'MyWindow' object has no attribute 'btn_clicked'",
     "output_type": "error",
     "traceback": [
      "\u001b[1;31m---------------------------------------------------------------------------\u001b[0m",
      "\u001b[1;31mAttributeError\u001b[0m                            Traceback (most recent call last)",
      "\u001b[1;32m~\\AppData\\Local\\Temp/ipykernel_7440/3171355637.py\u001b[0m in \u001b[0;36m<module>\u001b[1;34m\u001b[0m\n\u001b[0;32m     14\u001b[0m \u001b[1;33m\u001b[0m\u001b[0m\n\u001b[0;32m     15\u001b[0m \u001b[0mapp\u001b[0m \u001b[1;33m=\u001b[0m \u001b[0mQApplication\u001b[0m\u001b[1;33m(\u001b[0m\u001b[0msys\u001b[0m\u001b[1;33m.\u001b[0m\u001b[0margv\u001b[0m\u001b[1;33m)\u001b[0m            \u001b[1;31m# 파이썬은 원래 인터프리터 -> 한 줄씩 실행 후 창이 꺼져야 정상\u001b[0m\u001b[1;33m\u001b[0m\u001b[1;33m\u001b[0m\u001b[0m\n\u001b[1;32m---> 16\u001b[1;33m \u001b[0mwindow\u001b[0m \u001b[1;33m=\u001b[0m \u001b[0mMyWindow\u001b[0m\u001b[1;33m(\u001b[0m\u001b[1;33m)\u001b[0m                     \u001b[1;31m# 윈도우 클래스로 객체 생성\u001b[0m\u001b[1;33m\u001b[0m\u001b[1;33m\u001b[0m\u001b[0m\n\u001b[0m\u001b[0;32m     17\u001b[0m \u001b[0mwindow\u001b[0m\u001b[1;33m.\u001b[0m\u001b[0mshow\u001b[0m\u001b[1;33m(\u001b[0m\u001b[1;33m)\u001b[0m                           \u001b[1;31m# 생성한 객체를 통해 창을 보여주는\u001b[0m\u001b[1;33m\u001b[0m\u001b[1;33m\u001b[0m\u001b[0m\n\u001b[0;32m     18\u001b[0m \u001b[0mapp\u001b[0m\u001b[1;33m.\u001b[0m\u001b[0mexec_\u001b[0m\u001b[1;33m(\u001b[0m\u001b[1;33m)\u001b[0m                             \u001b[1;31m# 윈도우 창이 열린 상태로 계속 대기 유지\u001b[0m\u001b[1;33m\u001b[0m\u001b[1;33m\u001b[0m\u001b[0m\n",
      "\u001b[1;32m~\\AppData\\Local\\Temp/ipykernel_7440/3171355637.py\u001b[0m in \u001b[0;36m__init__\u001b[1;34m(self)\u001b[0m\n\u001b[0;32m      8\u001b[0m         \u001b[0msuper\u001b[0m\u001b[1;33m(\u001b[0m\u001b[1;33m)\u001b[0m\u001b[1;33m.\u001b[0m\u001b[0m__init__\u001b[0m\u001b[1;33m(\u001b[0m\u001b[1;33m)\u001b[0m              \u001b[1;31m# 부모의 생성자를 이용\u001b[0m\u001b[1;33m\u001b[0m\u001b[1;33m\u001b[0m\u001b[0m\n\u001b[0;32m      9\u001b[0m         \u001b[0mself\u001b[0m\u001b[1;33m.\u001b[0m\u001b[0msetupUi\u001b[0m\u001b[1;33m(\u001b[0m\u001b[0mself\u001b[0m\u001b[1;33m)\u001b[0m              \u001b[1;31m# ui 창 생성\u001b[0m\u001b[1;33m\u001b[0m\u001b[1;33m\u001b[0m\u001b[0m\n\u001b[1;32m---> 10\u001b[1;33m         \u001b[0mself\u001b[0m\u001b[1;33m.\u001b[0m\u001b[0mpushButton\u001b[0m\u001b[1;33m.\u001b[0m\u001b[0mclicked\u001b[0m\u001b[1;33m.\u001b[0m\u001b[0mconnect\u001b[0m\u001b[1;33m(\u001b[0m\u001b[0mself\u001b[0m\u001b[1;33m.\u001b[0m\u001b[0mbtn_clicked\u001b[0m\u001b[1;33m)\u001b[0m\u001b[1;33m\u001b[0m\u001b[1;33m\u001b[0m\u001b[0m\n\u001b[0m\u001b[0;32m     11\u001b[0m \u001b[1;33m\u001b[0m\u001b[0m\n\u001b[0;32m     12\u001b[0m     \u001b[1;32mdef\u001b[0m \u001b[0mbin_clicked\u001b[0m\u001b[1;33m(\u001b[0m\u001b[0mself\u001b[0m\u001b[1;33m)\u001b[0m\u001b[1;33m:\u001b[0m\u001b[1;33m\u001b[0m\u001b[1;33m\u001b[0m\u001b[0m\n",
      "\u001b[1;31mAttributeError\u001b[0m: 'MyWindow' object has no attribute 'btn_clicked'"
     ]
    }
   ],
   "source": [
    "# 버튼이 동작하는 창\n",
    "\n",
    "form_class = uic.loadUiType(\"day02_220329.ui\")[0] # pyqt로 만든 ui 폼 불러오기\n",
    "\n",
    "\n",
    "class MyWindow(QMainWindow, form_class): # Mywindow 클래스 를 상속받아서 작성\n",
    "    def __init__(self):                  # 생성자로 창생성\n",
    "        super().__init__()              # 부모의 생성자를 이용\n",
    "        self.setupUi(self)              # ui 창 생성\n",
    "        self.pushButton.clicked.connect(self.btn_clicked)\n",
    "\n",
    "    def bin_clicked(self):\n",
    "        print(\"clicked 06 김수연\")\n",
    "\n",
    "app = QApplication(sys.argv)            # 파이썬은 원래 인터프리터 -> 한 줄씩 실행 후 창이 꺼져야 정상\n",
    "window = MyWindow()                     # 윈도우 클래스로 객체 생성\n",
    "window.show()                           # 생성한 객체를 통해 창을 보여주는\n",
    "app.exec_()                             # 윈도우 창이 열린 상태로 계속 대기 유지\n"
   ]
  }
 ],
 "metadata": {
  "interpreter": {
   "hash": "c70382d6e6eb62a6ed0310338bc5b0fda788da35d140e0e4ee7db99f072cd977"
  },
  "kernelspec": {
   "display_name": "Python 3.9.7 ('base')",
   "language": "python",
   "name": "python3"
  },
  "language_info": {
   "codemirror_mode": {
    "name": "ipython",
    "version": 3
   },
   "file_extension": ".py",
   "mimetype": "text/x-python",
   "name": "python",
   "nbconvert_exporter": "python",
   "pygments_lexer": "ipython3",
   "version": "3.9.7"
  },
  "orig_nbformat": 4
 },
 "nbformat": 4,
 "nbformat_minor": 2
}
