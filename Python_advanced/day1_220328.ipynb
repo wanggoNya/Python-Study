{
 "cells": [
  {
   "cell_type": "code",
   "execution_count": 2,
   "metadata": {},
   "outputs": [],
   "source": [
    "import pybithumb\n"
   ]
  },
  {
   "cell_type": "code",
   "execution_count": 7,
   "metadata": {},
   "outputs": [
    {
     "name": "stdout",
     "output_type": "stream",
     "text": [
      "['BTC', 'ETH', 'LTC', 'ETC', 'XRP', 'BCH', 'QTUM', 'BTG', 'EOS', 'ICX', 'TRX', 'ELF', 'OMG', 'KNC', 'GLM', 'ZIL', 'WAXP', 'POWR', 'LRC', 'STEEM', 'STRAX', 'ZRX', 'REP', 'XEM', 'SNT', 'ADA', 'CTXC', 'BAT', 'WTC', 'THETA', 'LOOM', 'WAVES', 'LINK', 'ENJ', 'VET', 'MTL', 'IOST', 'TMTG', 'QKC', 'ATOLO', 'AMO', 'BSV', 'ORBS', 'TFUEL', 'VALOR', 'CON', 'ANKR', 'MIX', 'CRO', 'FX', 'CHR', 'MBL', 'MXC', 'FCT2', 'TRV', 'DAD', 'WOM', 'SOC', 'BOA', 'MEV', 'SXP', 'COS', 'APIX', 'EL', 'BASIC', 'HIVE', 'XPR', 'VRA', 'FIT', 'EGG', 'BORA', 'ARPA', 'CTC', 'APM', 'CKB', 'AERGO', 'ANW', 'CENNZ', 'EVZ', 'CYCLUB', 'SRM', 'QTCON', 'UNI', 'YFI', 'UMA', 'AAVE', 'COMP', 'REN', 'BAL', 'RSR', 'NMR', 'RLC', 'UOS', 'SAND', 'GOM2', 'RINGX', 'BEL', 'OBSR', 'ORC', 'POLA', 'AWO', 'ADP', 'DVI', 'GHX', 'MIR', 'MVC', 'BLY', 'WOZX', 'ANV', 'GRT', 'MM', 'BIOT', 'XNO', 'SNX', 'SOFI', 'COLA', 'OXT', 'LINA', 'MAP', 'AQT', 'WIKEN', 'CTSI', 'MANA', 'LPT', 'MKR', 'SUSHI', 'ASM', 'PUNDIX', 'CELR', 'CWD', 'ARW', 'FRONT', 'RLY', 'OCEAN', 'BFC', 'ALICE', 'COTI', 'CAKE', 'BNT', 'XVS', 'CHZ', 'AXS', 'DAO', 'DAI', 'MATIC', 'WOO', 'BAKE', 'VELO', 'BCD', 'XLM', 'VSYS', 'IPX', 'WICC', 'ONT', 'LUNA', 'AION', 'META', 'KLAY', 'ONG', 'ALGO', 'JST', 'XTZ', 'MLK', 'WEMIX', 'DOT', 'ATOM', 'SSX', 'TEMCO', 'HIBS', 'BURGER', 'DOGE', 'KSM', 'CTK', 'XYM', 'BNB', 'NFT', 'SUN', 'XEC', 'PCI', 'SOL', 'EGLD', 'GO', 'DFA', 'C98', 'MED', '1INCH', 'BOBA', 'GALA', 'BTT', 'EFI', 'CSPR', 'AVAX', 'TDROP', 'SPRT', 'NPT', 'T']\n"
     ]
    }
   ],
   "source": [
    "tickers = pybithumb.get_tickers()\n",
    "for\n",
    "print(tickers)"
   ]
  }
 ],
 "metadata": {
  "interpreter": {
   "hash": "c70382d6e6eb62a6ed0310338bc5b0fda788da35d140e0e4ee7db99f072cd977"
  },
  "kernelspec": {
   "display_name": "Python 3.9.7 ('base')",
   "language": "python",
   "name": "python3"
  },
  "language_info": {
   "codemirror_mode": {
    "name": "ipython",
    "version": 3
   },
   "file_extension": ".py",
   "mimetype": "text/x-python",
   "name": "python",
   "nbconvert_exporter": "python",
   "pygments_lexer": "ipython3",
   "version": "3.9.7"
  },
  "orig_nbformat": 4
 },
 "nbformat": 4,
 "nbformat_minor": 2
}
