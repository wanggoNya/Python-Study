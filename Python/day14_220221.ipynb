{
 "cells": [
  {
   "cell_type": "code",
   "execution_count": 1,
   "metadata": {},
   "outputs": [
    {
     "name": "stdout",
     "output_type": "stream",
     "text": [
      "cherry\n",
      "2\n"
     ]
    }
   ],
   "source": [
    "fruit_tuple = ('apple', 'banana', 'cherry', 'orange')\n",
    "print(fruit_tuple[2])\n",
    "print(fruit_tuple.index('cherry'))"
   ]
  },
  {
   "cell_type": "code",
   "execution_count": 2,
   "metadata": {},
   "outputs": [
    {
     "data": {
      "text/plain": [
       "['John', 'Sam']"
      ]
     },
     "execution_count": 2,
     "metadata": {},
     "output_type": "execute_result"
    }
   ],
   "source": [
    "names_list = ['John', 'Tim', 'Sam']\n",
    "del names_list[1]\n",
    "names_list"
   ]
  },
  {
   "cell_type": "code",
   "execution_count": 4,
   "metadata": {},
   "outputs": [
    {
     "data": {
      "text/plain": [
       "['John', 'Sam', 'swanni', 'swannii']"
      ]
     },
     "execution_count": 4,
     "metadata": {},
     "output_type": "execute_result"
    }
   ],
   "source": [
    "names_list.append(input('Add a name : '))\n",
    "names_list"
   ]
  },
  {
   "cell_type": "code",
   "execution_count": 5,
   "metadata": {},
   "outputs": [
    {
     "data": {
      "text/plain": [
       "['John', 'Sam', 'swanni', 'swannii']"
      ]
     },
     "execution_count": 5,
     "metadata": {},
     "output_type": "execute_result"
    }
   ],
   "source": [
    "names_list.sort()\n",
    "names_list"
   ]
  },
  {
   "cell_type": "code",
   "execution_count": 10,
   "metadata": {},
   "outputs": [
    {
     "name": "stdout",
     "output_type": "stream",
     "text": [
      "['Austin', 'John', 'Sam']\n",
      "['John', 'Sam', 'Austin']\n"
     ]
    }
   ],
   "source": [
    "names_list = ['John','Sam', 'Austin']\n",
    "print(sorted(names_list))\n",
    "print(names_list)\n"
   ]
  },
  {
   "cell_type": "code",
   "execution_count": null,
   "metadata": {},
   "outputs": [],
   "source": [
    "color = {1:'red', 2:'blue', 3:'green'}"
   ]
  },
  {
   "cell_type": "code",
   "execution_count": 17,
   "metadata": {},
   "outputs": [
    {
     "name": "stdout",
     "output_type": "stream",
     "text": [
      "('Korea', 'US', 'UK', 'Japan', 'Rusia')\n",
      "Korea has index number 0\n"
     ]
    }
   ],
   "source": [
    "cont = ('Korea', 'US', 'UK', 'Japan', 'Rusia')\n",
    "print(cont)\n",
    "ent = input(\"Enter the country ('Korea', 'US', 'UK', 'Japan', 'Rusia')\")\n",
    "print(f'{ent} has index number {cont.index(ent)}')\n"
   ]
  },
  {
   "cell_type": "code",
   "execution_count": 18,
   "metadata": {},
   "outputs": [
    {
     "name": "stdout",
     "output_type": "stream",
     "text": [
      "2 has UK\n"
     ]
    }
   ],
   "source": [
    "cont = ('Korea', 'US', 'UK', 'Japan', 'Rusia')\n",
    "ent = int(input(\"Enter the number between 0 and 4\"))\n",
    "print(f'{ent} has {cont[ent]}')"
   ]
  },
  {
   "cell_type": "code",
   "execution_count": 24,
   "metadata": {},
   "outputs": [
    {
     "name": "stdout",
     "output_type": "stream",
     "text": [
      "['abc', 'baseball', 'basketball']\n"
     ]
    }
   ],
   "source": [
    "spo = ['baseball', 'basketball']\n",
    "what = input(\"what's your favorite sport?\")\n",
    "spo.append(what)\n",
    "spo.sort()\n",
    "print(spo)"
   ]
  },
  {
   "cell_type": "code",
   "execution_count": 47,
   "metadata": {},
   "outputs": [
    {
     "name": "stdout",
     "output_type": "stream",
     "text": [
      "dict_values(['a', 'b', 'd', 'c'])\n",
      "{1: 'a', 2: 'b', 3: 'd', 4: 'c'}\n",
      "['a', 'c', 'd']\n"
     ]
    }
   ],
   "source": [
    "food ={}\n",
    "num = 1\n",
    "for i in range(0,4):\n",
    "    what = input(\"what's your favorite food?\")\n",
    "    food[num] = what\n",
    "    num += 1\n",
    "print(food.values())\n",
    "print(food)\n",
    "what2 = int(input(\"remove food\"))\n",
    "del(food[what2])\n",
    "food2 = sorted(food.values())\n",
    "print(food2)"
   ]
  }
 ],
 "metadata": {
  "interpreter": {
   "hash": "513dc2e41d739bb2c947903f3c0bbf636d03aa53ab50e61c694a27481c81805e"
  },
  "kernelspec": {
   "display_name": "Python 3.9.7 ('base')",
   "language": "python",
   "name": "python3"
  },
  "language_info": {
   "codemirror_mode": {
    "name": "ipython",
    "version": 3
   },
   "file_extension": ".py",
   "mimetype": "text/x-python",
   "name": "python",
   "nbconvert_exporter": "python",
   "pygments_lexer": "ipython3",
   "version": "3.9.7"
  },
  "orig_nbformat": 4
 },
 "nbformat": 4,
 "nbformat_minor": 2
}
