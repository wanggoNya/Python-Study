{
 "cells": [
  {
   "cell_type": "code",
   "execution_count": 2,
   "metadata": {},
   "outputs": [
    {
     "name": "stdout",
     "output_type": "stream",
     "text": [
      "The last number you entered was a 5\n"
     ]
    }
   ],
   "source": [
    "num = 0\n",
    "while num < 5:\n",
    "    num = int(input(\"Enter a number : \"))\n",
    "print(\"The last number you entered was a\", num)\n"
   ]
  },
  {
   "cell_type": "code",
   "execution_count": 18,
   "metadata": {},
   "outputs": [
    {
     "name": "stdout",
     "output_type": "stream",
     "text": [
      "3\n"
     ]
    }
   ],
   "source": [
    "num = int(input(\"Enter a number : \"))\n",
    "num2 = int(input(\"Enter a number : \"))\n",
    "total = num + num2\n",
    "add = input(\"Do you want to add the another number?(y/n)\")\n",
    "while add == 'y':\n",
    "    num3 = int(input(\"Enter a number : \"))\n",
    "    add = input(\"Do you want to add the another number?(y/n)\")\n",
    "    total = num + num2 + num3\n",
    "print(total)"
   ]
  },
  {
   "cell_type": "code",
   "execution_count": 25,
   "metadata": {},
   "outputs": [
    {
     "name": "stdout",
     "output_type": "stream",
     "text": [
      "1 has now been invited\n",
      "2 has now been invited\n",
      "3 has now been invited\n",
      "3 people will come you party!??\n"
     ]
    }
   ],
   "source": [
    "num = int(input(\"how many people invite you party?\"))\n",
    "sum = 0\n",
    "while num > sum:\n",
    "    na = input(\"enter the name you want to invite party\")\n",
    "    sum  += 1\n",
    "    print(f'{na} has now been invited')\n",
    "print(sum,'people will come you party!??')"
   ]
  },
  {
   "cell_type": "code",
   "execution_count": 27,
   "metadata": {},
   "outputs": [],
   "source": [
    "compnum  = 50\n",
    "num = int(input(\"enter the number\"))\n",
    "while compnum != num:\n",
    "    if compnum > num:\n",
    "        num = int(input(\"too lower 다시다시\"))\n",
    "\n",
    "    elif compnum < num:\n",
    "        num = int(input(\"넘 높아 다시다시\"))\n",
    "    \n",
    "    else:\n",
    "        print(50, '=', num, '정답')"
   ]
  },
  {
   "cell_type": "code",
   "execution_count": 44,
   "metadata": {},
   "outputs": [
    {
     "name": "stdout",
     "output_type": "stream",
     "text": [
      "23 만에 81 그게 바로 정답\n"
     ]
    }
   ],
   "source": [
    "import random\n",
    "count = 0\n",
    "compnum = random.randint(1,100)\n",
    "num = int(input(\"enter the number\"))\n",
    "while compnum != num:\n",
    "    if compnum > num:\n",
    "        num = int(input(\"too lower 다시다시\"))\n",
    "        count += 1\n",
    "    elif compnum < num:\n",
    "        num = int(input(\"넘 높아 다시다시\"))\n",
    "        count += 1\n",
    "print(count,'만에',compnum,'그게 바로 정답')\n",
    "    "
   ]
  },
  {
   "cell_type": "code",
   "execution_count": 65,
   "metadata": {},
   "outputs": [
    {
     "name": "stdout",
     "output_type": "stream",
     "text": [
      "There are 10 green bottles hanging on the wall, 10 green bottles hanging on the wall, and if 1 green bottle should accidentally fall\n",
      "There are -1 green bottles hanging on the wall, -1 green bottles hanging on the wall, and if 1 green bottle should accidentally fall\n",
      "No, try again\n",
      "There are no more green bottles hanging on the wall\n"
     ]
    }
   ],
   "source": [
    "num = 10\n",
    "n = 0\n",
    "to = num - n\n",
    "print(f'There are {num} green bottles hanging on the wall, {num} green bottles hanging on the wall, and if 1 green bottle should accidentally fall')\n",
    "while to > 0:\n",
    "    n = int(input('how many green bottles will be hanging on the wall'))\n",
    "    to -=  n\n",
    "    print(f'There are {to} green bottles hanging on the wall, {to} green bottles hanging on the wall, and if 1 green bottle should accidentally fall')\n",
    "    if n > num:\n",
    "        print('No, try again')\n",
    "print('There are no more green bottles hanging on the wall')\n",
    "\n"
   ]
  },
  {
   "cell_type": "code",
   "execution_count": 66,
   "metadata": {},
   "outputs": [
    {
     "name": "stdout",
     "output_type": "stream",
     "text": [
      "0.2908935102713951\n"
     ]
    }
   ],
   "source": [
    "#########################################################\n",
    "# Random : Python can generate random values\n",
    "\n",
    "# - Random numbers within a specified range. \n",
    "# - A random choice from a range of items that are input. \n",
    "\n",
    "# To use these two options, you will need to import the random module. \n",
    "# You do this by typing import random at the start of your program.\n",
    "import random\n",
    "num = random.random()\n",
    "print(num)\n",
    "\n",
    "# random floating number between 0 and 1"
   ]
  },
  {
   "cell_type": "code",
   "execution_count": null,
   "metadata": {},
   "outputs": [],
   "source": [
    "#Picks a random number bewteen the numbers 0 and 100(inclusive) in steps of five\n",
    "#It will only pick from 0,5,10,20,,.. etx\n",
    "num = random.randrange(0,100,5) # 100포함하여 100까지 5 단위로 랜덤 뽑아냄\n",
    "print(num)\n"
   ]
  },
  {
   "cell_type": "code",
   "execution_count": null,
   "metadata": {},
   "outputs": [],
   "source": [
    "import random\n",
    "ran = random.randint(1,5)\n",
    "num = int(input(\"Enter the number\"))\n",
    "while ran == num:\n",
    "    num = int(input(\"Enter the number\"))\n",
    "    print(\"well done\")"
   ]
  },
  {
   "cell_type": "code",
   "execution_count": null,
   "metadata": {},
   "outputs": [],
   "source": [
    "import random\n",
    "cho = random.choice(['h','t'])\n",
    "you = input(\"Choice (h/t)\")\n",
    "if cho == you:\n",
    "    print(\"you win\")\n",
    "elif cho != you:\n",
    "    print(\"bad luck\")"
   ]
  },
  {
   "cell_type": "code",
   "execution_count": null,
   "metadata": {},
   "outputs": [],
   "source": [
    "import random\n",
    "quiz = 0\n",
    "score = 0\n",
    "while quiz < 5:\n",
    "    quiz += 1\n",
    "    num1 = random.randint(0,10)\n",
    "    num2 = random.randint(0,10)\n",
    "    ans = int(input(f\"{num1}+{num2} = What answer?\"))\n",
    "    if ans == (num1 + num2):\n",
    "        score += 1\n",
    "print(score)\n",
    "\n"
   ]
  },
  {
   "cell_type": "code",
   "execution_count": 25,
   "metadata": {},
   "outputs": [
    {
     "name": "stdout",
     "output_type": "stream",
     "text": [
      "The cutest in the world\n",
      "well done,yellow is your personal color,,,^^\n"
     ]
    }
   ],
   "source": [
    "import random\n",
    "cho = random.choice(['red', 'yellow', 'blue', 'purple', 'green'])\n",
    "while True:\n",
    "    ans = input(\"choose one color ('red', 'yellow', 'blue', 'purple', 'green')\")\n",
    "    if cho == ans:\n",
    "        print(f\"well done,{cho} is your personal color,,,^^\")\n",
    "        break\n",
    "    elif cho != ans:\n",
    "        if cho == 'red':\n",
    "            print(\"When you are shy, your face will be this color \")\n",
    "        elif cho == 'yellow':\n",
    "            print(\"The cutest in the world\")\n",
    "        elif cho == 'blue':\n",
    "            print(\"The sky in Seoul was like this color \")\n",
    "        elif cho == 'purple':\n",
    "            print(\"Closing color in the rainbow\")\n",
    "        elif cho == 'green':\n",
    "            print(\"I remember summer~~~grass bug sound 찌르르\")"
   ]
  }
 ],
 "metadata": {
  "interpreter": {
   "hash": "513dc2e41d739bb2c947903f3c0bbf636d03aa53ab50e61c694a27481c81805e"
  },
  "kernelspec": {
   "display_name": "Python 3.9.7 ('base')",
   "language": "python",
   "name": "python3"
  },
  "language_info": {
   "codemirror_mode": {
    "name": "ipython",
    "version": 3
   },
   "file_extension": ".py",
   "mimetype": "text/x-python",
   "name": "python",
   "nbconvert_exporter": "python",
   "pygments_lexer": "ipython3",
   "version": "3.9.7"
  },
  "orig_nbformat": 4
 },
 "nbformat": 4,
 "nbformat_minor": 2
}
