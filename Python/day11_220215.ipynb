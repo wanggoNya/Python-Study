{
 "cells": [
  {
   "cell_type": "code",
   "execution_count": 2,
   "metadata": {},
   "outputs": [
    {
     "name": "stdout",
     "output_type": "stream",
     "text": [
      "Hello sooyeon\n"
     ]
    }
   ],
   "source": [
    "#001 Ask for the user's first name and display the output message\n",
    "# output : Hello [first name]\n",
    "# input : First name :\n",
    "\n",
    "fn = input(\"First Name\")\n",
    "print('Hello', fn)\n",
    "\n"
   ]
  },
  {
   "cell_type": "code",
   "execution_count": 3,
   "metadata": {},
   "outputs": [
    {
     "name": "stdout",
     "output_type": "stream",
     "text": [
      "Hello sooyeon kim\n"
     ]
    }
   ],
   "source": [
    "fn = input(\"Please enter your Firstname\")\n",
    "sn = input(\"Please enter your Surname\")\n",
    "print('Hello', fn, sn)"
   ]
  },
  {
   "cell_type": "code",
   "execution_count": 6,
   "metadata": {},
   "outputs": [
    {
     "name": "stdout",
     "output_type": "stream",
     "text": [
      "The Total is 14\n"
     ]
    }
   ],
   "source": [
    "num1 = int(input(\"Please enter first number\"))\n",
    "num2 = int(input(\"Please enter second number\"))\n",
    "print(f'The Total is {num1+num2}')\n"
   ]
  },
  {
   "cell_type": "code",
   "execution_count": 8,
   "metadata": {},
   "outputs": [
    {
     "name": "stdout",
     "output_type": "stream",
     "text": [
      "The answer is 2\n"
     ]
    }
   ],
   "source": [
    "num1 = int(input(\"Enter the number of sclices of pizza you started with :\"))\n",
    "num2 = int(input(\"How many slices have you eaten?\"))\n",
    "\n",
    "answer = num1 - num2\n",
    "print(f'The answer is {answer}')\n"
   ]
  },
  {
   "cell_type": "code",
   "execution_count": 10,
   "metadata": {},
   "outputs": [
    {
     "name": "stdout",
     "output_type": "stream",
     "text": [
      "In 32, day there are...\n",
      "        768 hours,\n",
      "        46080 minutes,\n",
      "        2764800 seconds\n"
     ]
    }
   ],
   "source": [
    "day = int(input(\"Enter the number of days :\"))\n",
    "hour = day * 24\n",
    "min = hour * 60\n",
    "sec = min * 60\n",
    "print(f'In {day}, days there are...')\n",
    "print(f'    {hour} hours,')\n",
    "print(f'    {min} minutes,')\n",
    "print(f'    {sec} seconds')"
   ]
  },
  {
   "cell_type": "code",
   "execution_count": 14,
   "metadata": {},
   "outputs": [
    {
     "name": "stdout",
     "output_type": "stream",
     "text": [
      "12 goes into 123 answer 10\n"
     ]
    }
   ],
   "source": [
    "la = int(input(\"Enter the number of over 100 :\"))\n",
    "sm = int(input(\"Enter the number of over 10 :\"))\n",
    "ti = la // sm\n",
    "print(f'{sm} goes into {la} answer {ti}')"
   ]
  },
  {
   "cell_type": "code",
   "execution_count": 23,
   "metadata": {},
   "outputs": [
    {
     "name": "stdout",
     "output_type": "stream",
     "text": [
      "123 142\n"
     ]
    }
   ],
   "source": [
    "la = int(input(\"Enter first number :\"))\n",
    "sm = int(input(\"Enter second number : \"))\n",
    "\n",
    "if la > sm:\n",
    "    print(f'{sm} {la}')\n",
    "elif sm > la:\n",
    "    print(f'{la} {sm}')\n",
    "else:\n",
    "    print(f'{sm}')"
   ]
  },
  {
   "cell_type": "code",
   "execution_count": 26,
   "metadata": {},
   "outputs": [
    {
     "name": "stdout",
     "output_type": "stream",
     "text": [
      "Thank you\n"
     ]
    }
   ],
   "source": [
    "`la = int(input(\"Enter number :\"))\n",
    "\n",
    "if (la > 10) and (la < 20):\n",
    "    print('Thank you')\n",
    "else:\n",
    "    print('incorrect number')`\n",
    "    "
   ]
  },
  {
   "cell_type": "code",
   "execution_count": 32,
   "metadata": {},
   "outputs": [
    {
     "name": "stdout",
     "output_type": "stream",
     "text": [
      "I like red too\n"
     ]
    }
   ],
   "source": [
    "la = input(\"Enter color :\")\n",
    "\n",
    "if 'red' in ['red','Red','RED']:\n",
    "    print(f'I like {la} too')\n",
    "else:\n",
    "    print(f\"I don't like {la}, I prefer red.\")"
   ]
  },
  {
   "cell_type": "code",
   "execution_count": 42,
   "metadata": {},
   "outputs": [
    {
     "name": "stdout",
     "output_type": "stream",
     "text": [
      "Enjoy your day\n"
     ]
    }
   ],
   "source": [
    "la = input(\"Is It raining?\")\n",
    "laaa= la.lower()\n",
    "if laaa == 'yes':\n",
    "    print('Take an umbrella')\n",
    "\n",
    "elif la == 'no':\n",
    "    laa = input(\"Is It windy?\")\n",
    "    laaa= laa.lower()\n",
    "    if laaa == 'yes':\n",
    "        print('It is too windy for an umbrella')\n",
    "    else:\n",
    "        print(\"Enjoy your day\")"
   ]
  },
  {
   "cell_type": "code",
   "execution_count": 52,
   "metadata": {},
   "outputs": [
    {
     "name": "stdout",
     "output_type": "stream",
     "text": [
      "You can vote You can by a lottery ticket\n"
     ]
    }
   ],
   "source": [
    "age = int(input(\"What's your age? : \"))\n",
    "vote = \"You can vote\"\n",
    "dri = \"You can learn to drive\"\n",
    "lot = \"You can by a lottery ticket\"\n",
    "tr= \"You can go Trick or Treating\"\n",
    "if age >= 18 :\n",
    "    print(vote)\n",
    "elif age == 17:\n",
    "    print(dri)\n",
    "elif age == 16:\n",
    "    print(lot)\n",
    "elif age < 16:\n",
    "    print(tr)"
   ]
  },
  {
   "cell_type": "code",
   "execution_count": 55,
   "metadata": {},
   "outputs": [
    {
     "name": "stdout",
     "output_type": "stream",
     "text": [
      "11\n"
     ]
    }
   ],
   "source": [
    "name = str(input(\"what's your name?\"))\n",
    "print(len(name))"
   ]
  },
  {
   "cell_type": "code",
   "execution_count": 64,
   "metadata": {},
   "outputs": [
    {
     "name": "stdout",
     "output_type": "stream",
     "text": [
      "Kkkkkkk Kkkk\n"
     ]
    }
   ],
   "source": [
    "fname = str(input(\"what's your first name?\"))\n",
    "lname = str(input(\"what's your last name?\"))\n",
    "fln = fname.capitalize()\n",
    "lln = lname.capitalize()\n",
    "print(fln,lln)"
   ]
  },
  {
   "cell_type": "code",
   "execution_count": 67,
   "metadata": {},
   "outputs": [
    {
     "name": "stdout",
     "output_type": "stream",
     "text": [
      "Kim sooyeon\n"
     ]
    }
   ],
   "source": [
    "fname = str(input(\"what's your first name?\"))\n",
    "if len(fname) <= 5:\n",
    "    lname = str(input(\"what's your last name?\"))    \n",
    "    fln = fname.capitalize()\n",
    "    print(fln,lname)\n",
    "else:\n",
    "    FN = fname.lower()\n",
    "    print(FN)"
   ]
  },
  {
   "cell_type": "code",
   "execution_count": 2,
   "metadata": {},
   "outputs": [
    {
     "name": "stdout",
     "output_type": "stream",
     "text": [
      "agagagay\n"
     ]
    }
   ],
   "source": [
    "word = str(input(\"what word? : \"))\n",
    "if word[0] in 'aeiou':\n",
    "    pig = word+'way'\n",
    "    print(pig.lower())\n",
    "else:\n",
    "    pig = word[1:]+word[0]+'ay'\n",
    "    print(pig.lower())"
   ]
  }
 ],
 "metadata": {
  "interpreter": {
   "hash": "513dc2e41d739bb2c947903f3c0bbf636d03aa53ab50e61c694a27481c81805e"
  },
  "kernelspec": {
   "display_name": "Python 3.9.7 ('base')",
   "language": "python",
   "name": "python3"
  },
  "language_info": {
   "codemirror_mode": {
    "name": "ipython",
    "version": 3
   },
   "file_extension": ".py",
   "mimetype": "text/x-python",
   "name": "python",
   "nbconvert_exporter": "python",
   "pygments_lexer": "ipython3",
   "version": "3.9.7"
  },
  "orig_nbformat": 4
 },
 "nbformat": 4,
 "nbformat_minor": 2
}
