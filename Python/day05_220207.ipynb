{
 "cells": [
  {
   "cell_type": "code",
   "execution_count": 31,
   "metadata": {},
   "outputs": [],
   "source": [
    "# #################\n",
    "# # Function\n",
    "\n",
    "# 함수 만들기\n",
    "\n",
    "# 수학에서의 함수와 유사\n",
    "\n",
    "# 딸기 (input) -> 믹서기(함수) -> 딸기 주스 (output)\n",
    "# 바나나 (input) -> 믹서기(함수) -> 바나나 주스 (output)\n",
    "# 사과 (input) -> 믹서기(함수) -> 사과 주스 (output)\n",
    "\n",
    "# def 함수명() :\n",
    "#     수행"
   ]
  },
  {
   "cell_type": "code",
   "execution_count": 32,
   "metadata": {},
   "outputs": [
    {
     "name": "stdout",
     "output_type": "stream",
     "text": [
      "hi\n",
      "hi\n",
      "hi\n"
     ]
    }
   ],
   "source": [
    "def print_3(hi) :\n",
    "    print(hi)\n",
    "    print(hi)\n",
    "    print(hi)\n",
    "print_3('hi')\n"
   ]
  },
  {
   "cell_type": "code",
   "execution_count": 33,
   "metadata": {},
   "outputs": [
    {
     "name": "stdout",
     "output_type": "stream",
     "text": [
      "hello\n",
      "hello\n",
      "hello\n"
     ]
    }
   ],
   "source": [
    "def print_3(val):\n",
    "    print(val)\n",
    "    \n",
    "    print(val)\n",
    "    print(val)\n",
    "\n",
    "print_3('hello')\n"
   ]
  },
  {
   "cell_type": "code",
   "execution_count": 34,
   "metadata": {},
   "outputs": [
    {
     "name": "stdout",
     "output_type": "stream",
     "text": [
      "hi\n",
      "hi\n",
      "hi\n"
     ]
    }
   ],
   "source": [
    "def print_3(val,n):\n",
    "    for i in range(n):\n",
    "        print(val)\n",
    "\n",
    "print_3('hi',3)"
   ]
  },
  {
   "cell_type": "code",
   "execution_count": 35,
   "metadata": {},
   "outputs": [
    {
     "ename": "TypeError",
     "evalue": "print_3() takes 2 positional arguments but 3 were given",
     "output_type": "error",
     "traceback": [
      "\u001b[1;31m---------------------------------------------------------------------------\u001b[0m",
      "\u001b[1;31mTypeError\u001b[0m                                 Traceback (most recent call last)",
      "\u001b[1;32mC:\\Users\\SOOYEO~1\\AppData\\Local\\Temp/ipykernel_9540/2685900095.py\u001b[0m in \u001b[0;36m<module>\u001b[1;34m\u001b[0m\n\u001b[0;32m      4\u001b[0m         \u001b[0mprint\u001b[0m\u001b[1;33m(\u001b[0m\u001b[0mval\u001b[0m\u001b[1;33m)\u001b[0m\u001b[1;33m\u001b[0m\u001b[1;33m\u001b[0m\u001b[0m\n\u001b[0;32m      5\u001b[0m \u001b[1;33m\u001b[0m\u001b[0m\n\u001b[1;32m----> 6\u001b[1;33m \u001b[0mprint_3\u001b[0m\u001b[1;33m(\u001b[0m\u001b[1;34m'hi'\u001b[0m\u001b[1;33m,\u001b[0m\u001b[1;36m2\u001b[0m\u001b[1;33m,\u001b[0m\u001b[1;36m3\u001b[0m\u001b[1;33m)\u001b[0m \u001b[1;31m#매개변수 2개 넣음\u001b[0m\u001b[1;33m\u001b[0m\u001b[1;33m\u001b[0m\u001b[0m\n\u001b[0m",
      "\u001b[1;31mTypeError\u001b[0m: print_3() takes 2 positional arguments but 3 were given"
     ]
    }
   ],
   "source": [
    "# 매개 변수를 2개 지정했으나 함수를 호출할 때 3개를 넣으면 에러가 발생\n",
    "def print_3(val,n):\n",
    "    for i in range(n):\n",
    "        print(val)\n",
    "\n",
    "print_3('hi',2,3) #매개변수 2개 넣음 "
   ]
  },
  {
   "cell_type": "code",
   "execution_count": null,
   "metadata": {},
   "outputs": [],
   "source": [
    "# 가변 매개 변수\n",
    "# 함수를 선언할 때 매개변수와 함수를 호줄할 때 매개변수가 같아야만 하고 많아도 안된다.\n",
    "def print_n_times(n, *args): #관용적으로 args를 사용\n",
    "    for i in range(n):\n",
    "        for v in args:\n",
    "            print(v)\n",
    "        print()\n",
    "print_n_times(3,'hi','hello','good morning')\n",
    "print_n_times(3,'hi','hello')"
   ]
  },
  {
   "cell_type": "code",
   "execution_count": null,
   "metadata": {},
   "outputs": [],
   "source": [
    "#입력받은 정수들을 모두 더한 합을 반환하는 sum_all 함수 작성\n",
    "def sum_all_5(*args):\n",
    "    print(sum(args))"
   ]
  },
  {
   "cell_type": "code",
   "execution_count": null,
   "metadata": {},
   "outputs": [],
   "source": [
    "# 기본 매개변수\n",
    "# 순서를 기본 매개변수 뒤에 위치시킨다.\n",
    "def print_3(n=2,val):\n",
    "    for i in range(n):\n",
    "        print(val)\n",
    "print_3('hi')"
   ]
  },
  {
   "cell_type": "code",
   "execution_count": null,
   "metadata": {},
   "outputs": [],
   "source": [
    "def test(a,b=10,c=100):\n",
    "    print(a+b+c)\n",
    "\n",
    "# 1 기본 형태\n",
    "test(10,20,30)\n",
    "\n",
    "# 2 모든 매개변수 지정\n",
    "test(a=10, b=20, c=30)\n",
    "\n",
    "# 3 순서를 섞어서 지정\n",
    "test(c=30, a=10, b=20)\n",
    "\n",
    "# 4 일부만 지정\n",
    "test(10, c=30)"
   ]
  },
  {
   "cell_type": "code",
   "execution_count": null,
   "metadata": {},
   "outputs": [],
   "source": [
    "def return_test():\n",
    "    print('A위치입니다.')\n",
    "    return #return을 만나면 끝\n",
    "    print('B위치입니다.')\n",
    "\n",
    "return_test()"
   ]
  },
  {
   "cell_type": "code",
   "execution_count": null,
   "metadata": {},
   "outputs": [
    {
     "data": {
      "text/plain": [
       "100"
      ]
     },
     "execution_count": 15,
     "metadata": {},
     "output_type": "execute_result"
    }
   ],
   "source": [
    "def return_test():\n",
    "    return 100\n",
    "\n",
    "return_test()"
   ]
  },
  {
   "cell_type": "code",
   "execution_count": null,
   "metadata": {},
   "outputs": [],
   "source": [
    "def sum_all(start,end):\n",
    "    output=0\n",
    "    for i in range(start,end+1):\n",
    "        output += i #계속 더해주는것\n",
    "    return output\n",
    "\n",
    "print('0에서 100까지의 합',sum_all(0,100))\n",
    "print('0에서 100까지의 합',sum_all(0,1000))\n",
    "print('0에서 100까지의 합',sum_all(50,100))\n",
    "print('0에서 100까지의 합',sum_all(500,1000))"
   ]
  },
  {
   "cell_type": "code",
   "execution_count": null,
   "metadata": {},
   "outputs": [],
   "source": [
    "# 재귀함수\n",
    "def hello():\n",
    "    print('hi')\n",
    "    return hello()\n",
    "hello()"
   ]
  },
  {
   "cell_type": "code",
   "execution_count": null,
   "metadata": {},
   "outputs": [
    {
     "name": "stdout",
     "output_type": "stream",
     "text": [
      "3! 6\n",
      "3! 120\n",
      "3! 5040\n"
     ]
    }
   ],
   "source": [
    "# 반복문으로 팩토리얼 구하기\n",
    "def facto(s):\n",
    "    fac = 1\n",
    "    for i in range(1,s):\n",
    "        fac = fac * (i+1)\n",
    "    return fac\n",
    "\n",
    "print('3!', facto(3))\n",
    "print('3!', facto(5))\n",
    "print('3!', facto(7))\n"
   ]
  },
  {
   "cell_type": "code",
   "execution_count": null,
   "metadata": {},
   "outputs": [
    {
     "name": "stdout",
     "output_type": "stream",
     "text": [
      "3! 6\n",
      "3! 120\n",
      "3! 5040\n"
     ]
    }
   ],
   "source": [
    "# 재귀(recursion)로 팩토리얼 구하기\n",
    "def facto(n):\n",
    "    if n == 0 :\n",
    "        return 1\n",
    "    else:\n",
    "        return n * facto(n-1)\n",
    "print('3!', facto(3))\n",
    "print('3!', facto(5))\n",
    "print('3!', facto(7))\n",
    "# 개발자들 사이에서는 재귀함수를 절대 사용하지 말자는 의견도 있음\n",
    "# 가독성이 좋고 간결하고 멋스러워 보이는 장점이 있음( 예쁜.. 쓰레기? )\n",
    "    "
   ]
  },
  {
   "cell_type": "code",
   "execution_count": null,
   "metadata": {},
   "outputs": [],
   "source": [
    "# 피보나치 수열\n",
    "def fibo(n):\n",
    "    if n == 0 or n == 2 :\n",
    "        return 1\n",
    "    else:\n",
    "        return fibo(n-1) + fibo(n-2)\n",
    "\n",
    "print('fibonacci(1) : ' , fibo(1))\n",
    "print('fibonacci(1) : ' , fibo(2))\n",
    "print('fibonacci(1) : ' , fibo(3))\n",
    "print('fibonacci(1) : ' , fibo(4))\n",
    "print('fibonacci(1) : ' , fibo(5))"
   ]
  },
  {
   "cell_type": "code",
   "execution_count": null,
   "metadata": {},
   "outputs": [
    {
     "name": "stdout",
     "output_type": "stream",
     "text": [
      "hello123\n"
     ]
    }
   ],
   "source": [
    "print(\"hello123\")\n"
   ]
  },
  {
   "cell_type": "code",
   "execution_count": null,
   "metadata": {},
   "outputs": [],
   "source": [
    "# 인수와 매개변수\n",
    "# 함수와 매서드\n",
    "# 객체와 인스턴스\n",
    "\n",
    "# # 함수의 종류 4가지\n",
    "# 1. input, output 모두 있음(***)\n",
    "# 2. output만 있음\n",
    "# 3. input만 있음\n",
    "# 4. 둘다없음"
   ]
  },
  {
   "cell_type": "code",
   "execution_count": 40,
   "metadata": {},
   "outputs": [
    {
     "name": "stdout",
     "output_type": "stream",
     "text": [
      "1\n"
     ]
    }
   ],
   "source": [
    "# 지역 변수 local variable / 전역 변수 global variable\n",
    "# global은 쓰지 말자!\n",
    "a = 1\n",
    "def vartest(a):    \n",
    "    a = a + 1\n",
    "vartest(a)\n",
    "print(a)\n"
   ]
  },
  {
   "cell_type": "code",
   "execution_count": 43,
   "metadata": {},
   "outputs": [
    {
     "name": "stdout",
     "output_type": "stream",
     "text": [
      "7\n"
     ]
    }
   ],
   "source": [
    "# lambda \n",
    "def add(a,b):\n",
    "    return a+b\n",
    "\n",
    "add = lambda a,b : a+b\n",
    "\n",
    "print(add(3,4))"
   ]
  }
 ],
 "metadata": {
  "interpreter": {
   "hash": "513dc2e41d739bb2c947903f3c0bbf636d03aa53ab50e61c694a27481c81805e"
  },
  "kernelspec": {
   "display_name": "Python 3.9.7 64-bit ('base': conda)",
   "language": "python",
   "name": "python3"
  },
  "language_info": {
   "codemirror_mode": {
    "name": "ipython",
    "version": 3
   },
   "file_extension": ".py",
   "mimetype": "text/x-python",
   "name": "python",
   "nbconvert_exporter": "python",
   "pygments_lexer": "ipython3",
   "version": "3.9.7"
  },
  "orig_nbformat": 4
 },
 "nbformat": 4,
 "nbformat_minor": 2
}
