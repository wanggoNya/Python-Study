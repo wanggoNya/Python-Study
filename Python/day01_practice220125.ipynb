{
  "cells": [
    {
      "cell_type": "markdown",
      "metadata": {
        "colab_type": "text",
        "id": "view-in-github"
      },
      "source": [
        "<a href=\"https://colab.research.google.com/github/wanggoNya/ai/blob/main/Untitled0.ipynb\" target=\"_parent\"><img src=\"https://colab.research.google.com/assets/colab-badge.svg\" alt=\"Open In Colab\"/></a>"
      ]
    },
    {
      "cell_type": "code",
      "execution_count": 78,
      "metadata": {
        "colab": {
          "base_uri": "https://localhost:8080/",
          "height": 52
        },
        "id": "1oQ8yT7TxLMd",
        "outputId": "1797e460-4d3d-4daa-c045-1759c62cf3fd"
      },
      "outputs": [
        {
          "name": "stdout",
          "output_type": "stream",
          "text": [
            "Hello World\n"
          ]
        },
        {
          "data": {
            "application/vnd.google.colaboratory.intrinsic+json": {
              "type": "string"
            },
            "text/plain": [
              "'\\n작성자 : 홍길동\\n작성일 : 2022-01-25\\n버전 : 0.1\\n'"
            ]
          },
          "execution_count": 78,
          "metadata": {},
          "output_type": "execute_result"
        }
      ],
      "source": [
        "print('Hello World')\n",
        "'''\n",
        "작성자 : 홍길동\n",
        "작성일 : 2022-01-25\n",
        "버전 : 0.1\n",
        "'''\n",
        "\n",
        "# 행의 우측~ ㅎㅎ"
      ]
    },
    {
      "cell_type": "code",
      "execution_count": null,
      "metadata": {
        "colab": {
          "base_uri": "https://localhost:8080/"
        },
        "id": "OoZ-jNWu_Up4",
        "outputId": "dd03190e-2f80-4afb-ec61-ed418fd81cfb"
      },
      "outputs": [
        {
          "name": "stdout",
          "output_type": "stream",
          "text": [
            "100\n"
          ]
        }
      ],
      "source": [
        "# 변수\n",
        "score = 100\n",
        "print(score)"
      ]
    },
    {
      "cell_type": "code",
      "execution_count": 1,
      "metadata": {
        "colab": {
          "base_uri": "https://localhost:8080/"
        },
        "id": "CSRdKpuD_Uk9",
        "outputId": "0d1dd3b8-e1e2-4773-be7a-f0130d2712c3"
      },
      "outputs": [
        {
          "name": "stdout",
          "output_type": "stream",
          "text": [
            "o\n"
          ]
        }
      ],
      "source": [
        "s = 'Hello'\n",
        "print(s[4])"
      ]
    },
    {
      "cell_type": "code",
      "execution_count": null,
      "metadata": {
        "colab": {
          "base_uri": "https://localhost:8080/"
        },
        "id": "2mf3ocXOe0a3",
        "outputId": "2a5af1b6-57dc-4de4-85f9-0e75f1b4cd67"
      },
      "outputs": [
        {
          "name": "stdout",
          "output_type": "stream",
          "text": [
            "901\n"
          ]
        }
      ],
      "source": [
        "ss = \"980719-1234567\"\n",
        "print(ss[0:6:2]) "
      ]
    },
    {
      "cell_type": "code",
      "execution_count": null,
      "metadata": {
        "colab": {
          "base_uri": "https://localhost:8080/"
        },
        "id": "K3CotsJVg1o2",
        "outputId": "79aa6497-068b-46f5-bce7-d8d0122378c3"
      },
      "outputs": [
        {
          "name": "stdout",
          "output_type": "stream",
          "text": [
            "재미있는 파이썬\n"
          ]
        }
      ],
      "source": [
        "print('재미있는', end = ' ')\n",
        "print('파이썬')\n"
      ]
    },
    {
      "cell_type": "markdown",
      "metadata": {
        "id": "gOErwfWiezfp"
      },
      "source": []
    },
    {
      "cell_type": "code",
      "execution_count": null,
      "metadata": {
        "colab": {
          "base_uri": "https://localhost:8080/"
        },
        "id": "8LANXpczoxki",
        "outputId": "16e9b78d-4467-42ca-e378-a1ea2bbf94ac"
      },
      "outputs": [
        {
          "name": "stdout",
          "output_type": "stream",
          "text": [
            "국어/영어/수학\n"
          ]
        }
      ],
      "source": [
        "print('국어', '영어', '수학', sep = '/')"
      ]
    },
    {
      "cell_type": "code",
      "execution_count": null,
      "metadata": {
        "colab": {
          "base_uri": "https://localhost:8080/"
        },
        "id": "PQK8OLkJrCxA",
        "outputId": "859bb2de-32df-45de-c487-49ca2e5b9e5a"
      },
      "outputs": [
        {
          "name": "stdout",
          "output_type": "stream",
          "text": [
            "10\n",
            "10을 입력하세요\n",
            "원주율은 3.140000 입니다.\n",
            "저는 대학생입니다.\n",
            "저는 대학생 입니다.\n"
          ]
        }
      ],
      "source": [
        "print(10)\n",
        "print('%d을 입력하세요' % 10)\n",
        "print('원주율은 %f 입니다.' % 3.14)\n",
        "std = \"대학생\"\n",
        "print('저는 %s입니다.' % std)\n",
        "print('저는',std,'입니다.')\n"
      ]
    },
    {
      "cell_type": "code",
      "execution_count": null,
      "metadata": {
        "colab": {
          "base_uri": "https://localhost:8080/"
        },
        "id": "urNMatSvtPQh",
        "outputId": "f17e75d9-770b-4ddb-ca47-9c10a30d7cea"
      },
      "outputs": [
        {
          "name": "stdout",
          "output_type": "stream",
          "text": [
            "    1\n",
            "원주율은  3.14 입니다.\n"
          ]
        }
      ],
      "source": [
        "print(\"%5d\" % 1) #앞에 공백 5자리수 넣기\n",
        "print('원주율은 %5.2f 입니다.' %3.14) #앞에 공백 5자리수 넣고, 소수 2째자리까지"
      ]
    },
    {
      "cell_type": "code",
      "execution_count": null,
      "metadata": {
        "colab": {
          "base_uri": "https://localhost:8080/"
        },
        "id": "N6SipeuUvYAM",
        "outputId": "613f0eef-6f08-4a4e-9838-3870c4ffe251"
      },
      "outputs": [
        {
          "name": "stdout",
          "output_type": "stream",
          "text": [
            "우편번호 : 31425\n",
            "우편번호 : 31425\n"
          ]
        }
      ],
      "source": [
        "zipcode = \"31425\"\n",
        "print('우편번호 : %s' % zipcode)\n",
        "print('우편번호 : {}'.format(zipcode))"
      ]
    },
    {
      "cell_type": "code",
      "execution_count": null,
      "metadata": {
        "colab": {
          "base_uri": "https://localhost:8080/"
        },
        "id": "-AOrdCRU2ah9",
        "outputId": "5ea6f009-e52f-40c2-ba16-c68235639103"
      },
      "outputs": [
        {
          "name": "stdout",
          "output_type": "stream",
          "text": [
            "you make me happy\n"
          ]
        }
      ],
      "source": [
        "who = 'you'\n",
        "how = 'happy'\n",
        "print(f'{who} make me {how}')"
      ]
    },
    {
      "cell_type": "code",
      "execution_count": null,
      "metadata": {
        "colab": {
          "base_uri": "https://localhost:8080/"
        },
        "id": "SZXeG_az3uZw",
        "outputId": "45a03cb5-a922-47d3-ec13-5fdc9b468f3e"
      },
      "outputs": [
        {
          "name": "stdout",
          "output_type": "stream",
          "text": [
            "내년에는 26입니다.\n"
          ]
        }
      ],
      "source": [
        "age = 25\n",
        "print(f'내년에는 {age+1}입니다.')"
      ]
    },
    {
      "cell_type": "code",
      "execution_count": null,
      "metadata": {
        "colab": {
          "base_uri": "https://localhost:8080/"
        },
        "id": "_UDqPQef4jf5",
        "outputId": "a9113d4a-bf68-4408-c444-0aa63bd4df60"
      },
      "outputs": [
        {
          "name": "stdout",
          "output_type": "stream",
          "text": [
            "ㅇ\n",
            "당신이 입력한 내용은 ㅇ입니다.\n",
            "당신이 입력한 내용은 ㅇ 입니다.\n"
          ]
        }
      ],
      "source": [
        "n=input()\n",
        "print(f'당신이 입력한 내용은 {n}입니다.')#f-string\n",
        "print('당신이 입력한 내용은',n,'입니다.')"
      ]
    },
    {
      "cell_type": "code",
      "execution_count": null,
      "metadata": {
        "colab": {
          "base_uri": "https://localhost:8080/"
        },
        "id": "Fzv2orLB5RhA",
        "outputId": "263ca5ef-ba5b-4761-b39e-c4c527d343b9"
      },
      "outputs": [
        {
          "name": "stdout",
          "output_type": "stream",
          "text": [
            "당신의 나이를 입력하세요ㅇ\n",
            "당신의 나이는 ㅇ입니다.\n"
          ]
        }
      ],
      "source": [
        "age = input('당신의 나이를 입력하세요')\n",
        "print(f'당신의 나이는 {n}입니다.')"
      ]
    },
    {
      "cell_type": "code",
      "execution_count": 76,
      "metadata": {
        "colab": {
          "base_uri": "https://localhost:8080/"
        },
        "id": "Y4fmXq835eu6",
        "outputId": "3e1beea4-9600-47c2-c025-94e448ca93e5"
      },
      "outputs": [
        {
          "name": "stdout",
          "output_type": "stream",
          "text": [
            "성함 : 홍길동\n",
            "나이 : 25\n",
            "당신의 이름은 홍길동이고, 나이는 25입니다.\n"
          ]
        }
      ],
      "source": [
        "name = input('성함 : ')\n",
        "age = input('나이 : ')\n",
        "print(f'당신의 이름은 {name}이고, 나이는 {age}입니다.')"
      ]
    },
    {
      "cell_type": "code",
      "execution_count": 77,
      "metadata": {
        "colab": {
          "base_uri": "https://localhost:8080/"
        },
        "id": "OZl0iUgQ6UrH",
        "outputId": "40a7637e-5629-4171-9961-b6208565f5cd"
      },
      "outputs": [
        {
          "name": "stdout",
          "output_type": "stream",
          "text": [
            "성함 : 홍길동\n",
            "나이 : 25\n",
            "당신의 이름은 홍길동 이고, 나이는 25 입니다.\n",
            "당신의 이름은 홍길동이고, 나이는 25입니다.\n",
            "당신의 이름은 홍길동이고, 나이는 25입니다.\n",
            "당신의 이름은 홍길동이고, 나이는 25입니다.\n"
          ]
        }
      ],
      "source": [
        "name = input('성함 : ')\n",
        "age = int(input('나이 : '))\n",
        "#1 기본\n",
        "print('당신의 이름은', name, '이고, 나이는', age, '입니다.')\n",
        "#2 F-STRING\n",
        "print(f'당신의 이름은 {name}이고, 나이는 {age}입니다.')\n",
        "#3 format()\n",
        "print('당신의 이름은 {}이고, 나이는 {}입니다.'.format(name, age))\n",
        "#3 %연산자\n",
        "print('당신의 이름은 %s이고, 나이는 %s입니다.' %(name, age))\n"
      ]
    },
    {
      "cell_type": "code",
      "execution_count": null,
      "metadata": {
        "colab": {
          "base_uri": "https://localhost:8080/"
        },
        "id": "HadkD_IC90so",
        "outputId": "b690141e-9d1d-4d74-b289-5647ce830d7e"
      },
      "outputs": [
        {
          "name": "stdout",
          "output_type": "stream",
          "text": [
            "할부 개월 입력 : 1\n",
            "1개월 동안 매달 내는 금액은 50000.0원 입니다.\n",
            "할부 개월 입력 : 1\n",
            "1개월 동안 매달 내는 금액은 50000.0원 입니다.\n",
            "할부 개월 입력 : 1\n",
            "1개월 동안 매달내는 금액은 50000.000000원 입니다.\n",
            "할부 개월 입력 : 1\n",
            "1 개월 동안 매달내는 금액은 50000.0 원 입니다.\n"
          ]
        }
      ],
      "source": [
        "#1 f-string\n",
        "month = int(input('할부 개월 입력 : '))\n",
        "price = round(50000/month,2)\n",
        "print(f'{month}개월 동안 매달 내는 금액은 {price}원 입니다.')\n",
        "\n",
        "#2 format()\n",
        "month = int(input('할부 개월 입력 : '))\n",
        "price = float(50000/month)\n",
        "print('{}개월 동안 매달 내는 금액은 {}원 입니다.'.format(month, price))\n",
        "\n",
        "#3 %연산자\n",
        "month = int(input('할부 개월 입력 : '))\n",
        "price = float(50000/month)\n",
        "print('%d개월 동안 매달내는 금액은 %f원 입니다.' %(month, price))\n",
        "\n",
        "#4 기본\n",
        "month = int(input('할부 개월 입력 : '))\n",
        "price = float(50000/month)\n",
        "print(month, '개월 동안 매달내는 금액은', price, '원 입니다.' )\n"
      ]
    },
    {
      "cell_type": "code",
      "execution_count": null,
      "metadata": {
        "id": "Hoj5etmWBJC2"
      },
      "outputs": [],
      "source": []
    },
    {
      "cell_type": "code",
      "execution_count": null,
      "metadata": {
        "colab": {
          "base_uri": "https://localhost:8080/"
        },
        "id": "9awfVKnrFF_a",
        "outputId": "959f92d3-2407-4a6b-c455-a230a5ce8410"
      },
      "outputs": [
        {
          "name": "stdout",
          "output_type": "stream",
          "text": [
            "실수 1 :1\n",
            "실수 2 :2\n",
            "1.0과 2.0의 합계는 3.0입니다.\n"
          ]
        }
      ],
      "source": [
        "num1 = float(input('실수 1 :'))\n",
        "num2 = float(input('실수 2 :'))\n",
        "sum = num1+num2\n",
        "print(f'{num1}과 {num2}의 합계는 {sum}입니다.')"
      ]
    }
  ],
  "metadata": {
    "colab": {
      "authorship_tag": "ABX9TyPXMmw5Nd39BAJkw6EIsbEM",
      "collapsed_sections": [],
      "include_colab_link": true,
      "name": "Untitled0.ipynb",
      "provenance": []
    },
    "kernelspec": {
      "display_name": "Python 3",
      "name": "python3"
    },
    "language_info": {
      "codemirror_mode": {
        "name": "ipython",
        "version": 3
      },
      "file_extension": ".py",
      "mimetype": "text/x-python",
      "name": "python",
      "nbconvert_exporter": "python",
      "pygments_lexer": "ipython3",
      "version": "3.9.7"
    }
  },
  "nbformat": 4,
  "nbformat_minor": 0
}
