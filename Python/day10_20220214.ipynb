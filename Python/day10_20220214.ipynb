{
 "cells": [
  {
   "cell_type": "code",
   "execution_count": 5,
   "metadata": {},
   "outputs": [
    {
     "name": "stdout",
     "output_type": "stream",
     "text": [
      "문자(3) :  efa\n",
      "숫자(4) :  1232\n"
     ]
    }
   ],
   "source": [
    "# by 민지수\n",
    "\n",
    "str=input('숫자를 포함한 문자열을 입력하세요>>> ')\n",
    "\n",
    "ai=\"\"\n",
    "no=\"\"\n",
    "\n",
    "for i in str :\n",
    "    if 64<ord(i)<123:\n",
    "        ai=ai+i\n",
    "    \n",
    "    elif 48<ord(i)<58:\n",
    "        no=no+i\n",
    "    \n",
    "    \n",
    "print(f'문자({len(ai)}) : ',ai)\n",
    "print(f'숫자({len(no)}) : ',no)\n"
   ]
  },
  {
   "cell_type": "code",
   "execution_count": null,
   "metadata": {},
   "outputs": [],
   "source": [
    "# 아스키코드\n",
    "# ord : 문자나 숫자를 -> 아스키코드로\n",
    "# chr : 아스키 코드를 -> 문자나 숫자로"
   ]
  },
  {
   "cell_type": "code",
   "execution_count": 9,
   "metadata": {},
   "outputs": [
    {
     "name": "stdout",
     "output_type": "stream",
     "text": [
      "The number of lowercase characters is : 0\n",
      "The number of uppercase characters is : 4\n"
     ]
    }
   ],
   "source": []
  },
  {
   "cell_type": "code",
   "execution_count": 2,
   "metadata": {},
   "outputs": [
    {
     "name": "stdout",
     "output_type": "stream",
     "text": [
      "숫자 : 10\n",
      "알파벳 : "
     ]
    }
   ],
   "source": [
    "sen = input(\"숫자와 알파벳을 섞어 문장을 입력\")\n",
    "num = ''\n",
    "alp = ''\n",
    "\n",
    "for i in sen:\n",
    "    if i.isalpha() :\n",
    "        alp = alp + i\n",
    "        \n",
    "    elif i.isnumeric():\n",
    "        num = num + i\n",
    "        \n",
    "print('숫자 :', num)\n",
    "print('알파벳 :', alp, end='')\n"
   ]
  },
  {
   "cell_type": "code",
   "execution_count": 17,
   "metadata": {},
   "outputs": [
    {
     "name": "stdout",
     "output_type": "stream",
     "text": [
      "The number of lowercase characters is : 4\n",
      "The number of uppercase characters is : 6\n",
      "HIIHhihihi\n"
     ]
    }
   ],
   "source": [
    "\n",
    "str=input('Enter String : ') # input typing message\n",
    "\n",
    "upp=\"\" # uppercase room\n",
    "low=\"\" # lowercase room\n",
    "chstr=\"\" # room for changing message\n",
    "\n",
    "for i in str : # repeat of reading str\n",
    "    if 64<ord(i)<91: # if ASCII CODE of 'i' is uppercase\n",
    "        upp=upp+i # add i to upp\n",
    "\n",
    "    elif 96<ord(i)<123: # if ASCII CODE of 'i' is lowercase\n",
    "        low=low+i # add i to low\n",
    "\n",
    "for ch in str: # repeat of reading str\n",
    "    if 64<ord(ch)<91: # if ASCII CODE of 'ch' is uppercase\n",
    "        ch = chr(ord(ch) + 32) # change ASCII CODE to lowercase\n",
    "        chstr = chstr + ch # add 'ch' to room of changing message\n",
    "    elif 96<ord(ch)<123: # if ASCII CODE of 'ch' is lowercase\n",
    "        ch = chr(ord(ch) - 32) # change ASCII CODE to uppercase\n",
    "        chstr = chstr + ch # add 'ch' to room of changing message\n",
    "\n",
    "print(f'The number of lowercase characters is : {len(low)}') #print lowercase\n",
    "print(f'The number of uppercase characters is : {len(upp)}') #print uppercase\n",
    "print(chstr) #print changing message"
   ]
  }
 ],
 "metadata": {
  "interpreter": {
   "hash": "513dc2e41d739bb2c947903f3c0bbf636d03aa53ab50e61c694a27481c81805e"
  },
  "kernelspec": {
   "display_name": "Python 3.9.7 ('base')",
   "language": "python",
   "name": "python3"
  },
  "language_info": {
   "codemirror_mode": {
    "name": "ipython",
    "version": 3
   },
   "file_extension": ".py",
   "mimetype": "text/x-python",
   "name": "python",
   "nbconvert_exporter": "python",
   "pygments_lexer": "ipython3",
   "version": "3.9.7"
  },
  "orig_nbformat": 4
 },
 "nbformat": 4,
 "nbformat_minor": 2
}
