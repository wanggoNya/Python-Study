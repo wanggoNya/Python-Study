{
 "cells": [
  {
   "cell_type": "code",
   "execution_count": null,
   "metadata": {},
   "outputs": [],
   "source": [
    "# Function ( subprograms )\n",
    "\n",
    "# Blocks of code which perform specific tasks and can be called upon at any time \n",
    "# in the program to run that code.\n",
    "\n",
    "# Advantages\n",
    "# - it can be used and reused at diffenent times during the program.\n",
    "# - it makes the program simpler to understand as the code is grouped together into chunks.\n",
    "\n",
    "def get_name():  #4\n",
    "  user_name = input('Enter your name : ')  #5\n",
    "  return user_name  #6\n",
    "\n",
    "def print_Msg(user_name):  #9\n",
    "  print(\"Hello\", user_name)  # 10\n",
    "\n",
    "def main():   #2\n",
    "  user_name = get_name()  #3  # 7\n",
    "  print_Msg(user_name)  #8\n",
    "\n",
    "\n",
    "main()   #1"
   ]
  },
  {
   "cell_type": "code",
   "execution_count": null,
   "metadata": {},
   "outputs": [],
   "source": [
    "def get_data():#4\n",
    "    user_name = input('Enter your name : ') #5\n",
    "    user_age = input('Enter your age : ') #6\n",
    "    data_tuple = (user_name, user_age) #7\n",
    "    return data_tuple #8\n",
    "\n",
    "def message(user_name, user_age): #11\n",
    "  if user_age <= 10: #12\n",
    "    print('Hi', user_name) #13\n",
    "  else: # 14\n",
    "    print('Hello', user_name) #15\n",
    "\n",
    "def main(): #2\n",
    "  user_name, user_age = get_data() #3 #9\n",
    "  message(user_name, user_age)  # 10 #16\n",
    "\n",
    "main() # 1\n",
    "\n",
    "# 4 5 6 7 8 11 12 13 14 15 2 3,9 10 1"
   ]
  },
  {
   "cell_type": "code",
   "execution_count": 2,
   "metadata": {},
   "outputs": [
    {
     "name": "stdout",
     "output_type": "stream",
     "text": [
      "1 2 3 4 5 6 7 8 9 10 "
     ]
    }
   ],
   "source": [
    "\n",
    "def count():\n",
    "    num = int(input(\"enter the number\"))\n",
    "    return num\n",
    "\n",
    "def count_num(a):\n",
    "    for i in range(1, a+1):\n",
    "        print(i,end=' ')\n",
    "\n",
    "def ans():\n",
    "    num = count()\n",
    "    count_num(num)\n",
    "    \n",
    "ans()"
   ]
  },
  {
   "cell_type": "code",
   "execution_count": null,
   "metadata": {},
   "outputs": [],
   "source": [
    "import random\n",
    "def count():\n",
    "    num1 = int(input(\"enter the number\"))\n",
    "    num2 = int(input(\"enter the number\"))\n",
    "    comp_num = random.randint(num1, num2)\n",
    "    answer = int(input(f\"{num1}과 {num2} 사이의 숫자 맞춰보세용\"))\n",
    "    data = (comp_num, answer)\n",
    "    return data\n",
    "    \n",
    "def quiz(a, b):\n",
    "    if a > b:\n",
    "        re = \"too low 좀더 높이셈 \"\n",
    "    elif a == b:\n",
    "        re = \"정답\"\n",
    "    elif a < b:\n",
    "        re = \"좀더 높은 수를 고르세용 \"\n",
    "        \n",
    "def ans():\n",
    "    comp_num, answer = count()\n",
    "    quiz(comp_num, answer)\n",
    "ans()"
   ]
  },
  {
   "cell_type": "code",
   "execution_count": null,
   "metadata": {},
   "outputs": [],
   "source": [
    "# Define a subprogram  that will ask the user to  pick a low and a high  number, \n",
    "# and then  generate a random  number between those  two values and store it in  \n",
    "# a variable called  “comp_num”.  \n",
    "\n",
    "# Define another  subprogram that will  give the instruction \n",
    "# “I am  thinking of a number…”  and then ask the user to  guess the number \n",
    "# they  are thinking of.  \n",
    "\n",
    "# Define a third  subprogram that will  check to see \n",
    "# if the  comp_num is the same  as the user’s guess. If it  is, \n",
    "# it should display the  message “Correct, you  win”, \n",
    "# otherwise it should  keep looping, telling the  user if they are too low or  too high \n",
    "# and asking them  to guess again until they  guess correctly. \n",
    "\n",
    "# Condition : 4 subprograms \n",
    "\n",
    "import random\n",
    "\n",
    "def pick_num():\n",
    "  low = int(input('Enter the bottom of the range : '))\n",
    "  high = int(input('Enter the top of the range : '))\n",
    "  comp_num = random.randint(low, high)\n",
    "  return comp_num\n",
    "\n",
    "def first_guess():\n",
    "  print('I am thinking of a number...')\n",
    "  guess = int(input('WHat am I thinking of : '))\n",
    "  return guess\n",
    "\n",
    "def check_answer(comp_num, guess):\n",
    "  try_again = True\n",
    "  while try_again == True:\n",
    "    if comp_num == guess:\n",
    "      print('Correct, you win')\n",
    "      try_again = False\n",
    "    elif comp_num > guess:\n",
    "      guess = int(input('too low, try again'))\n",
    "    else:\n",
    "      guess = int(input('too high, try again'))\n",
    "      \n",
    "def main():\n",
    "  comp_num = pick_num()\n",
    "  guess = first_guess()\n",
    "  check_answer(comp_num, guess)\n",
    "\n",
    "main()"
   ]
  }
 ],
 "metadata": {
  "interpreter": {
   "hash": "513dc2e41d739bb2c947903f3c0bbf636d03aa53ab50e61c694a27481c81805e"
  },
  "kernelspec": {
   "display_name": "Python 3.9.7 ('base')",
   "language": "python",
   "name": "python3"
  },
  "language_info": {
   "codemirror_mode": {
    "name": "ipython",
    "version": 3
   },
   "file_extension": ".py",
   "mimetype": "text/x-python",
   "name": "python",
   "nbconvert_exporter": "python",
   "pygments_lexer": "ipython3",
   "version": "3.9.7"
  },
  "orig_nbformat": 4
 },
 "nbformat": 4,
 "nbformat_minor": 2
}
