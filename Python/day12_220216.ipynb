{
 "cells": [
  {
   "cell_type": "code",
   "execution_count": 2,
   "metadata": {},
   "outputs": [
    {
     "data": {
      "text/plain": [
       "10.0"
      ]
     },
     "execution_count": 2,
     "metadata": {},
     "output_type": "execute_result"
    }
   ],
   "source": [
    "import math\n",
    "math.sqrt(100)\n"
   ]
  },
  {
   "cell_type": "code",
   "execution_count": 1,
   "metadata": {},
   "outputs": [
    {
     "ename": "NameError",
     "evalue": "name 'math' is not defined",
     "output_type": "error",
     "traceback": [
      "\u001b[1;31m---------------------------------------------------------------------------\u001b[0m",
      "\u001b[1;31mNameError\u001b[0m                                 Traceback (most recent call last)",
      "\u001b[1;32mC:\\Users\\SOOYEO~1\\AppData\\Local\\Temp/ipykernel_6528/929699079.py\u001b[0m in \u001b[0;36m<module>\u001b[1;34m\u001b[0m\n\u001b[1;32m----> 1\u001b[1;33m \u001b[0mmath\u001b[0m\u001b[1;33m.\u001b[0m\u001b[0mpi\u001b[0m\u001b[1;33m\u001b[0m\u001b[1;33m\u001b[0m\u001b[0m\n\u001b[0m",
      "\u001b[1;31mNameError\u001b[0m: name 'math' is not defined"
     ]
    }
   ],
   "source": [
    "math.pi\n",
    "\n",
    "# Gives you pi to decimal places, but you must have,,,,,,,,,\n"
   ]
  },
  {
   "cell_type": "code",
   "execution_count": 6,
   "metadata": {},
   "outputs": [
    {
     "data": {
      "text/plain": [
       "35.11"
      ]
     },
     "execution_count": 6,
     "metadata": {},
     "output_type": "execute_result"
    }
   ],
   "source": [
    "import math\n",
    "num = int(input(\"Enter a number over than 500\"))\n",
    "round(math.sqrt(num), 2)\n"
   ]
  },
  {
   "cell_type": "code",
   "execution_count": 8,
   "metadata": {},
   "outputs": [
    {
     "name": "stdout",
     "output_type": "stream",
     "text": [
      "6958.627727701391\n"
     ]
    }
   ],
   "source": [
    "num = int(input(\"Enter the radius\"))\n",
    "\n",
    "print((math.pi)*(num**2))\n"
   ]
  },
  {
   "cell_type": "code",
   "execution_count": 10,
   "metadata": {},
   "outputs": [
    {
     "name": "stdout",
     "output_type": "stream",
     "text": [
      "2 divided by 1 is 2 with 0 remaining\n"
     ]
    }
   ],
   "source": [
    "num1 = int(input(\"Enter a first number\"))\n",
    "num2 = int(input(\"Enter a second number\"))\n",
    "div = num1//num2\n",
    "div2 = num1 % num2\n",
    "\n",
    "print(f'{num1} divided by {num2} is {div} with {div2} remaining')\n"
   ]
  },
  {
   "cell_type": "code",
   "execution_count": 18,
   "metadata": {},
   "outputs": [
    {
     "name": "stdout",
     "output_type": "stream",
     "text": [
      "Error Message : please enter 1 or 2\n"
     ]
    }
   ],
   "source": [
    "num = int(input(\"1) Square \\n 2)triangle \\n Enter a number\"))\n",
    "\n",
    "if num == 1:\n",
    "    le = int(input(\"what's square's side length?\"))\n",
    "    le2 = int(input(\"what's square's length?\"))\n",
    "    print(\"Squares's Area is\", le*le2)\n",
    "\n",
    "elif num == 2:\n",
    "    le = int(input(\"what's triangle's length?\"))\n",
    "    le2 = int(input(\"what's triangle's height?\"))\n",
    "    print(\"Triangle's Area is\", le*le2*0.5)\n",
    "\n",
    "else:\n",
    "    print(\"Error Message : please enter 1 or 2\")\n"
   ]
  },
  {
   "cell_type": "code",
   "execution_count": 31,
   "metadata": {},
   "outputs": [
    {
     "name": "stdout",
     "output_type": "stream",
     "text": [
      "23\n",
      "23\n",
      "23\n"
     ]
    }
   ],
   "source": [
    "name = input(\"Enter your name : \")\n",
    "num = int(input(\"몇번\"))\n",
    "\n",
    "for i in range(num):\n",
    "    print(name)"
   ]
  },
  {
   "cell_type": "code",
   "execution_count": 32,
   "metadata": {},
   "outputs": [
    {
     "name": "stdout",
     "output_type": "stream",
     "text": [
      "r\n",
      "l\n",
      "a\n",
      "n\n",
      "t\n",
      "d\n",
      "u\n",
      "s\n"
     ]
    }
   ],
   "source": [
    "name = input(\"Enter your name : \")\n",
    "for i in name[0:]:\n",
    "    print(i)"
   ]
  },
  {
   "cell_type": "code",
   "execution_count": 40,
   "metadata": {},
   "outputs": [
    {
     "name": "stdout",
     "output_type": "stream",
     "text": [
      "50\n",
      "49\n",
      "48\n",
      "47\n",
      "46\n",
      "45\n",
      "you entered 45\n"
     ]
    }
   ],
   "source": [
    "num = int(input(\"Enter num (not over 50) \"))\n",
    "for i in range(50,num-1,-1):\n",
    "    print(i)\n",
    "print('you entered',num)"
   ]
  },
  {
   "cell_type": "code",
   "execution_count": 63,
   "metadata": {},
   "outputs": [
    {
     "ename": "ValueError",
     "evalue": "invalid literal for int() with base 10: ''",
     "output_type": "error",
     "traceback": [
      "\u001b[1;31m---------------------------------------------------------------------------\u001b[0m",
      "\u001b[1;31mValueError\u001b[0m                                Traceback (most recent call last)",
      "\u001b[1;32mC:\\Users\\SOOYEO~1\\AppData\\Local\\Temp/ipykernel_6528/2695386472.py\u001b[0m in \u001b[0;36m<module>\u001b[1;34m\u001b[0m\n\u001b[0;32m      2\u001b[0m \u001b[1;33m\u001b[0m\u001b[0m\n\u001b[0;32m      3\u001b[0m \u001b[1;32mfor\u001b[0m \u001b[0mi\u001b[0m \u001b[1;32min\u001b[0m \u001b[0mrange\u001b[0m\u001b[1;33m(\u001b[0m\u001b[1;36m5\u001b[0m\u001b[1;33m)\u001b[0m\u001b[1;33m:\u001b[0m\u001b[1;33m\u001b[0m\u001b[1;33m\u001b[0m\u001b[0m\n\u001b[1;32m----> 4\u001b[1;33m     \u001b[0mnum1\u001b[0m \u001b[1;33m=\u001b[0m \u001b[0mint\u001b[0m\u001b[1;33m(\u001b[0m\u001b[0minput\u001b[0m\u001b[1;33m(\u001b[0m\u001b[1;34m\"Enter num1\"\u001b[0m\u001b[1;33m)\u001b[0m\u001b[1;33m)\u001b[0m\u001b[1;33m\u001b[0m\u001b[1;33m\u001b[0m\u001b[0m\n\u001b[0m\u001b[0;32m      5\u001b[0m     \u001b[0mye\u001b[0m \u001b[1;33m=\u001b[0m \u001b[0minput\u001b[0m\u001b[1;33m(\u001b[0m\u001b[1;34m\"are you include the nums?\"\u001b[0m\u001b[1;33m)\u001b[0m\u001b[1;33m\u001b[0m\u001b[1;33m\u001b[0m\u001b[0m\n\u001b[0;32m      6\u001b[0m     \u001b[0myes\u001b[0m \u001b[1;33m=\u001b[0m \u001b[0mye\u001b[0m\u001b[1;33m.\u001b[0m\u001b[0mlower\u001b[0m\u001b[1;33m(\u001b[0m\u001b[1;33m)\u001b[0m\u001b[1;33m\u001b[0m\u001b[1;33m\u001b[0m\u001b[0m\n",
      "\u001b[1;31mValueError\u001b[0m: invalid literal for int() with base 10: ''"
     ]
    }
   ],
   "source": [
    "total = 0\n",
    "for i in range(5):\n",
    "    num1 = int(input(\"Enter num1\"))\n",
    "    ye = input(\"are you include the nums?\")\n",
    "    yes = ye.lower()\n",
    "    if 'yes' == yes:\n",
    "        total += num1\n",
    "print(total)\n",
    "\n"
   ]
  },
  {
   "cell_type": "code",
   "execution_count": 73,
   "metadata": {},
   "outputs": [
    {
     "name": "stdout",
     "output_type": "stream",
     "text": [
      "1\n"
     ]
    }
   ],
   "source": [
    "ye = input(\"choose up and down\")\n",
    "\n",
    "if ye.lower() == 'up':\n",
    "    num1 = int(input(\"Enter num1\"))\n",
    "    for i in range(1,num1+1):\n",
    "        print(i)\n",
    "elif ye.lower() == 'down':\n",
    "    num1 = int(input(\"Enter num (not over 20)\"))\n",
    "    for i in range(20,num1-1,-1):\n",
    "        print(i)\n",
    "else:\n",
    "    print(\"I don't understand\")\n",
    "\n"
   ]
  },
  {
   "cell_type": "code",
   "execution_count": 80,
   "metadata": {},
   "outputs": [
    {
     "name": "stdout",
     "output_type": "stream",
     "text": [
      "1 has been invited.\n",
      "2 has been invited.\n",
      "3 has been invited.\n",
      "4 has been invited.\n",
      "5 has been invited.\n",
      "6 has been invited.\n",
      "7 has been invited.\n",
      "8 has been invited.\n"
     ]
    }
   ],
   "source": [
    "num1 = int(input(\"How many people invite party\"))\n",
    "if num1 <= 10:\n",
    "    for i in range(0,num1):\n",
    "        name = input(\"who's name\")\n",
    "        print(f'{name} has been invited.')\n",
    "elif num1 > 10:\n",
    "    print(\"too many people..\")\n"
   ]
  },
  {
   "cell_type": "code",
   "execution_count": 84,
   "metadata": {},
   "outputs": [
    {
     "name": "stdout",
     "output_type": "stream",
     "text": [
      "The total is 292\n"
     ]
    }
   ],
   "source": [
    "total = 0\n",
    "\n",
    "while total < 100:\n",
    "    num = int(input('Enter a number : '))\n",
    "    total = total + num\n",
    "print('The total is', total)"
   ]
  },
  {
   "cell_type": "code",
   "execution_count": 89,
   "metadata": {},
   "outputs": [
    {
     "name": "stdout",
     "output_type": "stream",
     "text": [
      "The total is 49\n"
     ]
    }
   ],
   "source": [
    "total= 0\n",
    "while total <= 50:\n",
    "    num = int(input('Enter a number : '))\n",
    "    total = total + num\n",
    "    \n",
    "total = total - num\n",
    "print('The total is', total)\n"
   ]
  }
 ],
 "metadata": {
  "interpreter": {
   "hash": "513dc2e41d739bb2c947903f3c0bbf636d03aa53ab50e61c694a27481c81805e"
  },
  "kernelspec": {
   "display_name": "Python 3.9.7 ('base')",
   "language": "python",
   "name": "python3"
  },
  "language_info": {
   "codemirror_mode": {
    "name": "ipython",
    "version": 3
   },
   "file_extension": ".py",
   "mimetype": "text/x-python",
   "name": "python",
   "nbconvert_exporter": "python",
   "pygments_lexer": "ipython3",
   "version": "3.9.7"
  },
  "orig_nbformat": 4
 },
 "nbformat": 4,
 "nbformat_minor": 2
}
