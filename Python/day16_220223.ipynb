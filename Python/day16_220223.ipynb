{
 "cells": [
  {
   "cell_type": "code",
   "execution_count": 7,
   "metadata": {},
   "outputs": [
    {
     "name": "stdout",
     "output_type": "stream",
     "text": [
      "0, 1, 2, 3, 5, 8"
     ]
    }
   ],
   "source": [
    "# 피보나치 수열\n",
    "# 첫번째 프린트방법\n",
    "\n",
    "n = int(input(\"num? : \")) # n 입력\n",
    "\n",
    "li = [0, 1] # 최초 li 정의\n",
    "\n",
    "print('0',end='') # 최초 0부터 프린트\n",
    "\n",
    "while (li[0]+li[1]) <= n: # 마지막 숫자가 n을 넘지 않을때까지 반복\n",
    "\n",
    "    li = [li[1], (li[0]+li[1])] #리스트 안에 숫자 2개를 피보나치 수열의 규칙에 맞게 정의해줌\n",
    "    \n",
    "    print(f', {li[-1]}', end='') # 연결해서 출력\n"
   ]
  },
  {
   "cell_type": "code",
   "execution_count": 9,
   "metadata": {},
   "outputs": [
    {
     "name": "stdout",
     "output_type": "stream",
     "text": [
      "0, 1, 1, 2, 3, 5, 8\n"
     ]
    }
   ],
   "source": [
    "\n",
    "# 두번째 프린트방법\n",
    "\n",
    "n = int(input(\"num? : \")) # n 입력\n",
    "\n",
    "li = [0, 1] # 최초 li 정의\n",
    "\n",
    "zero = \"0, 1, \" #최초 프린트값 정해줌\n",
    "\n",
    "while (li[0]+li[1]) <= n: # 마지막 숫자가 n을 넘지 않을때까지 반복\n",
    "\n",
    "    li = [li[1], (li[0]+li[1])] #리스트 안에 숫자 2개를 피보나치 수열의 규칙에 맞게 정의해줌\n",
    "\n",
    "    zero += str(li[-1]) + \", \" #zero 안에 수열을 계속 저장해줌\n",
    "\n",
    "zero = zero[:-2] #마지막에 쉼표 하나를 빼기 위해 [-2]까지 다시 정의해줌\n",
    "\n",
    "print(zero) # 연결해서 출력\n"
   ]
  },
  {
   "cell_type": "code",
   "execution_count": 16,
   "metadata": {},
   "outputs": [
    {
     "data": {
      "text/plain": [
       "[1, 2, 3, 5, 8, 13, 21, 34, 55]"
      ]
     },
     "execution_count": 16,
     "metadata": {},
     "output_type": "execute_result"
    }
   ],
   "source": [
    "# by austin 일반적인 방법 1\n",
    "new = []\n",
    "def fib(n): # n번째의 피보나치 수열 값을 찾는 함수\n",
    "    a, b = 1, 1\n",
    "    if n == 1:\n",
    "        new.append(1)\n",
    "        return new\n",
    "    elif n == 2: # 1번째와 2번째의 값은 1\n",
    "        new.append(1,1)\n",
    "        return new\n",
    "\n",
    "    for i in range(1, n): # 1번째부터 n번째까지 \n",
    "        a, b = b, a + b\n",
    "        new.append(a)\n",
    "    return new\n",
    "\n",
    "fib(10)\n",
    "        "
   ]
  },
  {
   "cell_type": "code",
   "execution_count": null,
   "metadata": {},
   "outputs": [],
   "source": [
    "# 2D lists  2차원 리스트   #   VS  pandas 's dataframe\n",
    "#               math    korean \n",
    "# austin        90        80\n",
    "# rick           80        85\n",
    "# andy         100      70\n",
    "\n",
    "grade = [[90,80],[80,85],[100,70]]\n",
    "\n",
    "grade[2][0]"
   ]
  },
  {
   "cell_type": "code",
   "execution_count": 29,
   "metadata": {},
   "outputs": [
    {
     "ename": "AttributeError",
     "evalue": "'int' object has no attribute 'append'",
     "output_type": "error",
     "traceback": [
      "\u001b[1;31m---------------------------------------------------------------------------\u001b[0m",
      "\u001b[1;31mAttributeError\u001b[0m                            Traceback (most recent call last)",
      "\u001b[1;32mC:\\Users\\SOOYEO~1\\AppData\\Local\\Temp/ipykernel_16624/2484628687.py\u001b[0m in \u001b[0;36m<module>\u001b[1;34m\u001b[0m\n\u001b[0;32m      5\u001b[0m     \u001b[0mage\u001b[0m \u001b[1;33m=\u001b[0m \u001b[0mstr\u001b[0m\u001b[1;33m(\u001b[0m\u001b[0minput\u001b[0m\u001b[1;33m(\u001b[0m\u001b[1;34m\"Enter the age\"\u001b[0m\u001b[1;33m)\u001b[0m\u001b[1;33m)\u001b[0m\u001b[1;33m\u001b[0m\u001b[1;33m\u001b[0m\u001b[0m\n\u001b[0;32m      6\u001b[0m     \u001b[0mshsize\u001b[0m \u001b[1;33m=\u001b[0m \u001b[0mstr\u001b[0m\u001b[1;33m(\u001b[0m\u001b[0minput\u001b[0m\u001b[1;33m(\u001b[0m\u001b[1;34m\"Enter the shoe size\"\u001b[0m\u001b[1;33m)\u001b[0m\u001b[1;33m)\u001b[0m\u001b[1;33m\u001b[0m\u001b[1;33m\u001b[0m\u001b[0m\n\u001b[1;32m----> 7\u001b[1;33m     \u001b[0minfo\u001b[0m\u001b[1;33m[\u001b[0m\u001b[1;36m0\u001b[0m\u001b[1;33m]\u001b[0m\u001b[1;33m[\u001b[0m\u001b[0mn\u001b[0m\u001b[1;33m]\u001b[0m\u001b[1;33m.\u001b[0m\u001b[0mappend\u001b[0m\u001b[1;33m(\u001b[0m\u001b[0mname\u001b[0m\u001b[1;33m)\u001b[0m\u001b[1;33m\u001b[0m\u001b[1;33m\u001b[0m\u001b[0m\n\u001b[0m\u001b[0;32m      8\u001b[0m     \u001b[0minfo\u001b[0m\u001b[1;33m[\u001b[0m\u001b[1;36m1\u001b[0m\u001b[1;33m]\u001b[0m\u001b[1;33m[\u001b[0m\u001b[0mn\u001b[0m\u001b[1;33m]\u001b[0m\u001b[1;33m.\u001b[0m\u001b[0mappend\u001b[0m\u001b[1;33m(\u001b[0m\u001b[0mage\u001b[0m\u001b[1;33m)\u001b[0m\u001b[1;33m\u001b[0m\u001b[1;33m\u001b[0m\u001b[0m\n\u001b[0;32m      9\u001b[0m     \u001b[0minfo\u001b[0m\u001b[1;33m[\u001b[0m\u001b[1;36m2\u001b[0m\u001b[1;33m]\u001b[0m\u001b[1;33m[\u001b[0m\u001b[0mn\u001b[0m\u001b[1;33m]\u001b[0m\u001b[1;33m.\u001b[0m\u001b[0mappend\u001b[0m\u001b[1;33m(\u001b[0m\u001b[0mshsize\u001b[0m\u001b[1;33m)\u001b[0m\u001b[1;33m\u001b[0m\u001b[1;33m\u001b[0m\u001b[0m\n",
      "\u001b[1;31mAttributeError\u001b[0m: 'int' object has no attribute 'append'"
     ]
    }
   ],
   "source": [
    "n = 0\n",
    "info = [[0,0],[0,0],[0,0],[0,0]]\n",
    "for i in range(1,5):\n",
    "    name = str(input(\"Enter the name\"))\n",
    "    age = str(input(\"Enter the age\"))\n",
    "    shsize = str(input(\"Enter the shoe size\"))\n",
    "    info[0][n].append(name)\n",
    "    info[1][n].append(age)\n",
    "    info[2][n].append(shsize)\n",
    "    n += 1\n",
    "print(info)"
   ]
  },
  {
   "cell_type": "code",
   "execution_count": 30,
   "metadata": {},
   "outputs": [
    {
     "data": {
      "text/plain": [
       "['tda']"
      ]
     },
     "execution_count": 30,
     "metadata": {},
     "output_type": "execute_result"
    }
   ],
   "source": [
    "n = 'tda'\n",
    "li = []\n",
    "li.append(n)\n",
    "li"
   ]
  },
  {
   "cell_type": "code",
   "execution_count": 39,
   "metadata": {},
   "outputs": [
    {
     "name": "stdout",
     "output_type": "stream",
     "text": [
      "('수', {'Age': '1', 'Shoe': '1'})\n",
      "('수연', {'Age': '1', 'Shoe': '1'})\n",
      "('재', {'Age': '1', 'Shoe': '1'})\n"
     ]
    }
   ],
   "source": [
    "dict = {}\n",
    "\n",
    "for i in range(0,4):\n",
    "  name = input('Enter name : ')\n",
    "  age = input('Enter age : ')\n",
    "  shoe = input('Enter shoe : ')\n",
    "  dict[name]={'Age':age,'Shoe':shoe}\n",
    "\n",
    "name2 = input('Remove name')\n",
    "del dict[name2]\n",
    "for i in dict.items():\n",
    "    print(i, end='\\n')"
   ]
  },
  {
   "cell_type": "code",
   "execution_count": 40,
   "metadata": {},
   "outputs": [
    {
     "name": "stdout",
     "output_type": "stream",
     "text": [
      "Italy\n",
      "Germany\n",
      "Spain\n",
      "\n"
     ]
    }
   ],
   "source": [
    "# Reading and Writing to a File\n",
    "\n",
    "# It is all very well being able to define a list, make changes and add new data,\n",
    "# but if the next time the program is run it returns to the original data and your\n",
    "# changes are lost then it is not a lot of use. Therefore, It is sometimes necessary \n",
    "# to save the data outside of the program and this way the data can be stored,\n",
    "# along with any changes that are made.\n",
    "\n",
    "file = open('Countries.txt', 'w')\n",
    "file.write('Italy\\n')\n",
    "file.write('Germany\\n')\n",
    "file.write('Spain\\n')\n",
    "file.close()\n",
    "file = open('Countries.txt', 'r')\n",
    "print(file.read())\n"
   ]
  },
  {
   "cell_type": "code",
   "execution_count": 3,
   "metadata": {},
   "outputs": [
    {
     "name": "stdout",
     "output_type": "stream",
     "text": [
      "\n",
      "math\n",
      "English\n",
      "Error\n"
     ]
    }
   ],
   "source": [
    "# Display the following menu to the user:\n",
    "#      1) Create a new file\n",
    "#      2) Display the file\n",
    "#      3) Add a new item to the file\n",
    "#      Make a selection\n",
    "file = open('Subject.txt', 'w')\n",
    "\n",
    "while True:\n",
    "    ans = input(\"Enter the number (1) Create a new file \\n2) Display the file \\n3) Add a new item to the file\")\n",
    "    if '1' in ans:\n",
    "        sch = input('enter a school subject')\n",
    "        file = open('Subject.txt', 'w')\n",
    "        file.write(sch)\n",
    "\n",
    "    if '2' in ans:\n",
    "        file = open('subject.txt', 'r')\n",
    "        print(file.read())\n",
    "\n",
    "    if '3' in ans:\n",
    "        sub = input(\"enter a new subject\")\n",
    "        file = open('Subject.txt', 'w')\n",
    "        file.write(sub)\n",
    "        file = open('Subject.txt', 'r')\n",
    "        print(file.read())\n",
    "\n",
    "    if '1' not in ans and '2' not in ans and '3' not in ans:\n",
    "        print(\"Error\")\n",
    "        break\n",
    "    if 'break' in ans:\n",
    "        break\n",
    "\n"
   ]
  }
 ],
 "metadata": {
  "interpreter": {
   "hash": "513dc2e41d739bb2c947903f3c0bbf636d03aa53ab50e61c694a27481c81805e"
  },
  "kernelspec": {
   "display_name": "Python 3.9.7 ('base')",
   "language": "python",
   "name": "python3"
  },
  "language_info": {
   "codemirror_mode": {
    "name": "ipython",
    "version": 3
   },
   "file_extension": ".py",
   "mimetype": "text/x-python",
   "name": "python",
   "nbconvert_exporter": "python",
   "pygments_lexer": "ipython3",
   "version": "3.9.7"
  },
  "orig_nbformat": 4
 },
 "nbformat": 4,
 "nbformat_minor": 2
}
