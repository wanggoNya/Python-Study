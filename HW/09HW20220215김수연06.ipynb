{
 "cells": [
  {
   "cell_type": "code",
   "execution_count": null,
   "metadata": {},
   "outputs": [],
   "source": [
    "#496 b\n",
    "#497 c\n",
    "#498 c\n",
    "#499 d\n",
    "#500 d\n",
    "#501 a\n",
    "#502 c\n",
    "#503 d\n",
    "#504 c\n",
    "#505 b\n",
    "#506 a\n",
    "#507 c\n",
    "#508 a\n",
    "#509 a\n",
    "#510 d\n",
    "#511 b\n",
    "#512 b\n",
    "#513 a\n",
    "#514 b\n",
    "#515 c"
   ]
  },
  {
   "cell_type": "code",
   "execution_count": 3,
   "metadata": {},
   "outputs": [
    {
     "name": "stdout",
     "output_type": "stream",
     "text": [
      "삼각형이 아닙니다\n",
      "\n"
     ]
    }
   ],
   "source": [
    "def search (x,y,z):\n",
    "    if x+y+z!= 180 or x==0 or y==0 or z==0:\n",
    "        print('삼각형아님')\n",
    "    \n",
    "    else:\n",
    "        if max(x,y,z)>90 :\n",
    "            print('둔각삼각형')\n",
    "        elif max(x,y,z)==90:\n",
    "            print('직각삼각형')\n",
    "        else:\n",
    "            print('예각삼각형')\n",
    "    return \"\"\n",
    "\n",
    "x=int(input('제1각을 입력하세요'))\n",
    "y=int(input('제2각을 입력하세요'))\n",
    "z=int(input('제3각을 입력하세요'))\n",
    "print(search(x,y,z))"
   ]
  }
 ],
 "metadata": {
  "interpreter": {
   "hash": "513dc2e41d739bb2c947903f3c0bbf636d03aa53ab50e61c694a27481c81805e"
  },
  "kernelspec": {
   "display_name": "Python 3.9.7 ('base')",
   "language": "python",
   "name": "python3"
  },
  "language_info": {
   "codemirror_mode": {
    "name": "ipython",
    "version": 3
   },
   "file_extension": ".py",
   "mimetype": "text/x-python",
   "name": "python",
   "nbconvert_exporter": "python",
   "pygments_lexer": "ipython3",
   "version": "3.9.7"
  },
  "orig_nbformat": 4
 },
 "nbformat": 4,
 "nbformat_minor": 2
}
