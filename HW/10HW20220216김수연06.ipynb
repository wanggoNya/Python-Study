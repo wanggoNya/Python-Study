{
 "cells": [
  {
   "cell_type": "code",
   "execution_count": null,
   "metadata": {},
   "outputs": [],
   "source": [
    "#516 c\n",
    "#517 d\n",
    "#518 d\n",
    "#519 c\n",
    "#520 b\n",
    "#521 a\n",
    "#522 b\n",
    "#523 a\n",
    "#524 d\n",
    "#525 a\n",
    "#526 c\n",
    "#527 c\n",
    "#528 b\n",
    "#529 d\n",
    "#530 a\n",
    "#531 a\n",
    "#532 a\n",
    "#533 b\n",
    "#534 a\n",
    "#535 b"
   ]
  },
  {
   "cell_type": "code",
   "execution_count": 44,
   "metadata": {},
   "outputs": [
    {
     "name": "stdout",
     "output_type": "stream",
     "text": [
      "math error\n"
     ]
    }
   ],
   "source": [
    "try:\n",
    "    num = input(\"숫자 입력하셈\")\n",
    "    if '.' == num[-1]:\n",
    "        print(\"math error\")\n",
    "    elif '.' in num:\n",
    "        num1 = float(num)\n",
    "        print('소수입니다')\n",
    "    elif '.' not in num:\n",
    "        num1 = int(num)\n",
    "        print('정수입니다')  \n",
    "except:\n",
    "    print(\"math error\")"
   ]
  },
  {
   "cell_type": "code",
   "execution_count": null,
   "metadata": {},
   "outputs": [],
   "source": [
    "try:\n",
    "    num = eval(input(\"입력\"))\n",
    "    if (num - int(num)) != 0:\n",
    "        print(\"소수\")\n",
    "    else:\n",
    "        print(\"정수\")\n",
    "except:\n",
    "    print('math error')"
   ]
  }
 ],
 "metadata": {
  "interpreter": {
   "hash": "513dc2e41d739bb2c947903f3c0bbf636d03aa53ab50e61c694a27481c81805e"
  },
  "kernelspec": {
   "display_name": "Python 3.9.7 ('base')",
   "language": "python",
   "name": "python3"
  },
  "language_info": {
   "codemirror_mode": {
    "name": "ipython",
    "version": 3
   },
   "file_extension": ".py",
   "mimetype": "text/x-python",
   "name": "python",
   "nbconvert_exporter": "python",
   "pygments_lexer": "ipython3",
   "version": "3.9.7"
  },
  "orig_nbformat": 4
 },
 "nbformat": 4,
 "nbformat_minor": 2
}
