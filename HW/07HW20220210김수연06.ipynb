{
 "cells": [
  {
   "cell_type": "code",
   "execution_count": null,
   "metadata": {},
   "outputs": [],
   "source": [
    "#456 d\n",
    "#457 a\n",
    "#458 b\n",
    "#459 b / c, shuffle은 인자로 받은 List만 섞어줄 뿐, 따로 Return하지는 않음.\n",
    "#460 c #왜 none??? / b\n",
    "#461 b / a\n",
    "#462 d\n",
    "#463 a\n",
    "#464 b\n",
    "#465 c\n",
    "#466 c\n",
    "#467 d / b, int([0, 1) * 10) = int([0, 10)) = 0,1,...,9\n",
    "#468 b / d, 1,2,...,10\n",
    "#469 a\n",
    "#470 c\n",
    "#471 d\n",
    "#472 a\n",
    "#473 d\n",
    "#474 d\n",
    "#475 #들여쓰기 ???"
   ]
  },
  {
   "cell_type": "code",
   "execution_count": null,
   "metadata": {},
   "outputs": [],
   "source": []
  },
  {
   "cell_type": "code",
   "execution_count": null,
   "metadata": {},
   "outputs": [],
   "source": [
    "\n",
    "li = [0, 1] # 최초 li 정의\n",
    "\n",
    "zero = str(li[-1]) + \", \"\n",
    "print(zero)"
   ]
  },
  {
   "cell_type": "code",
   "execution_count": 2,
   "metadata": {},
   "outputs": [],
   "source": [
    "# 피보나치 수열이란, 첫 번째 항의 값이 0이고 두 번째 항의 값이 1일 때, \n",
    "# 이후의 항들은 이전의 두 항을 더한 값으로 이루어지는 수열을 말한다.\n",
    "# 인풋을 정수 n으로 받았을때, n 이하까지의 피보나치 수열을 출력하는 \n",
    "# 프로그램을 작성하세요\n",
    "# n = int(input(\"num? : \"))\n",
    "# num? : 13\n",
    "# 0, 1, 1, 2, 3, 5, 8, 13"
   ]
  },
  {
   "cell_type": "code",
   "execution_count": 3,
   "metadata": {},
   "outputs": [
    {
     "name": "stdout",
     "output_type": "stream",
     "text": [
      "19까지의 피보나치 수열은 0, 1, 2, 3, 5, 8, 13"
     ]
    }
   ],
   "source": [
    "# 첫번째 프린트방법\n",
    "\n",
    "n = int(input(\"num? : \")) # n 입력\n",
    "li = [0, 1] # 최초 li 정의\n",
    "print(f'{n}까지의 피보나치 수열은 0',end='') # 최초 0부터 프린트\n",
    "while (li[0]+li[1]) <= n: # 마지막 숫자가 n을 넘지 않을때까지 반복\n",
    "    li = [li[1], (li[0]+li[1])] #리스트 안에 숫자 2개를 피보나치 수열의 규칙에 맞게 정의해줌\n",
    "    print(f', {li[-1]}', end='') # 연결해서 출력\n",
    "    "
   ]
  },
  {
   "cell_type": "code",
   "execution_count": 56,
   "metadata": {},
   "outputs": [
    {
     "name": "stdout",
     "output_type": "stream",
     "text": [
      "0, 1, 1, 2, 3, 5, 8, 13, 21, 34, 55, 89\n"
     ]
    }
   ],
   "source": [
    "# 두번째 프린트방법\n",
    "\n",
    "n = int(input(\"num? : \")) # n 입력\n",
    "li = [0, 1] # 최초 li 정의\n",
    "zero = \"0, 1, \" #최초 프린트값 정해줌\n",
    "while (li[0]+li[1]) <= n: # 마지막 숫자가 n을 넘지 않을때까지 반복\n",
    "    li = [li[1], (li[0]+li[1])] #리스트 안에 숫자 2개를 피보나치 수열의 규칙에 맞게 정의해줌\n",
    "    zero += str(li[-1]) + \", \" #zero 안에 수열을 계속 저장해줌\n",
    "zero = zero[:-2] #마지막에 쉼표 하나를 빼기 위해 [-2]까지 다시 정의해줌\n",
    "print(zero) # 연결해서 출력\n",
    "    \n",
    "    "
   ]
  },
  {
   "cell_type": "code",
   "execution_count": null,
   "metadata": {},
   "outputs": [],
   "source": [
    "import random\n",
    "ran = random.randint(1,5)\n",
    "num = int(input(\"Enter the number\"))\n",
    "while ran == num:\n",
    "    num = int(input(\"Enter the number\"))\n",
    "    print(\"well done\")"
   ]
  },
  {
   "cell_type": "code",
   "execution_count": 8,
   "metadata": {},
   "outputs": [
    {
     "name": "stdout",
     "output_type": "stream",
     "text": [
      "you win\n"
     ]
    }
   ],
   "source": [
    "import random\n",
    "cho = random.choice(['h','t'])\n",
    "you = input(\"Choice (h/t)\")\n",
    "if cho == you:\n",
    "    print(\"you win\")\n",
    "elif cho != you:\n",
    "    print(\"bad luck\")"
   ]
  },
  {
   "cell_type": "code",
   "execution_count": 15,
   "metadata": {},
   "outputs": [
    {
     "ename": "ValueError",
     "evalue": "invalid literal for int() with base 10: ''",
     "output_type": "error",
     "traceback": [
      "\u001b[1;31m---------------------------------------------------------------------------\u001b[0m",
      "\u001b[1;31mValueError\u001b[0m                                Traceback (most recent call last)",
      "\u001b[1;32mC:\\Users\\SOOYEO~1\\AppData\\Local\\Temp/ipykernel_4144/981738878.py\u001b[0m in \u001b[0;36m<module>\u001b[1;34m\u001b[0m\n\u001b[0;32m      2\u001b[0m \u001b[0mnum1\u001b[0m \u001b[1;33m=\u001b[0m \u001b[0mrandom\u001b[0m\u001b[1;33m.\u001b[0m\u001b[0mrandint\u001b[0m\u001b[1;33m(\u001b[0m\u001b[1;36m0\u001b[0m\u001b[1;33m,\u001b[0m\u001b[1;36m10\u001b[0m\u001b[1;33m)\u001b[0m\u001b[1;33m\u001b[0m\u001b[1;33m\u001b[0m\u001b[0m\n\u001b[0;32m      3\u001b[0m \u001b[0mnum2\u001b[0m \u001b[1;33m=\u001b[0m \u001b[0mrandom\u001b[0m\u001b[1;33m.\u001b[0m\u001b[0mrandint\u001b[0m\u001b[1;33m(\u001b[0m\u001b[1;36m0\u001b[0m\u001b[1;33m,\u001b[0m\u001b[1;36m10\u001b[0m\u001b[1;33m)\u001b[0m\u001b[1;33m\u001b[0m\u001b[1;33m\u001b[0m\u001b[0m\n\u001b[1;32m----> 4\u001b[1;33m \u001b[0mans\u001b[0m \u001b[1;33m=\u001b[0m \u001b[0mint\u001b[0m\u001b[1;33m(\u001b[0m\u001b[0minput\u001b[0m\u001b[1;33m(\u001b[0m\u001b[1;34mf\"{num1}+{num2} = What answer?\"\u001b[0m\u001b[1;33m)\u001b[0m\u001b[1;33m)\u001b[0m\u001b[1;33m\u001b[0m\u001b[1;33m\u001b[0m\u001b[0m\n\u001b[0m\u001b[0;32m      5\u001b[0m \u001b[0mquiz\u001b[0m \u001b[1;33m=\u001b[0m \u001b[1;36m1\u001b[0m\u001b[1;33m\u001b[0m\u001b[1;33m\u001b[0m\u001b[0m\n\u001b[0;32m      6\u001b[0m \u001b[0mscore\u001b[0m \u001b[1;33m=\u001b[0m \u001b[1;36m0\u001b[0m\u001b[1;33m\u001b[0m\u001b[1;33m\u001b[0m\u001b[0m\n",
      "\u001b[1;31mValueError\u001b[0m: invalid literal for int() with base 10: ''"
     ]
    }
   ],
   "source": [
    "import random\n",
    "num1 = random.randint(0,10)\n",
    "num2 = random.randint(0,10)\n",
    "ans = int(input(f\"{num1}+{num2} = What answer?\"))\n",
    "quiz = 1\n",
    "score = 0\n",
    "while quiz < 5:\n",
    "    quiz += 1\n",
    "    num1 = random.randint(0,10)\n",
    "    num2 = random.randint(0,10)\n",
    "    ans = int(input(f\"{num1}+{num2} = What answer?\"))\n",
    "    if ans == (num1 + num2):\n",
    "        score += 1\n",
    "print(score)\n",
    "\n"
   ]
  }
 ],
 "metadata": {
  "interpreter": {
   "hash": "513dc2e41d739bb2c947903f3c0bbf636d03aa53ab50e61c694a27481c81805e"
  },
  "kernelspec": {
   "display_name": "Python 3.9.7 ('base')",
   "language": "python",
   "name": "python3"
  },
  "language_info": {
   "codemirror_mode": {
    "name": "ipython",
    "version": 3
   },
   "file_extension": ".py",
   "mimetype": "text/x-python",
   "name": "python",
   "nbconvert_exporter": "python",
   "pygments_lexer": "ipython3",
   "version": "3.9.7"
  },
  "orig_nbformat": 4
 },
 "nbformat": 4,
 "nbformat_minor": 2
}
