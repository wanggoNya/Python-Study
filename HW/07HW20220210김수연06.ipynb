{
 "cells": [
  {
   "cell_type": "code",
   "execution_count": null,
   "metadata": {},
   "outputs": [],
   "source": [
    "#456 d\n",
    "#457 a\n",
    "#458 b\n",
    "#459 b\n",
    "#460 c #왜 none???\n",
    "#461 b\n",
    "#462 d\n",
    "#463 a\n",
    "#464 b\n",
    "#465 c\n",
    "#466 c\n",
    "#467 d\n",
    "#468 b\n",
    "#469 a\n",
    "#470 c\n",
    "#471 d\n",
    "#472 a\n",
    "#473 d\n",
    "#474 d\n",
    "#475 "
   ]
  },
  {
   "cell_type": "code",
   "execution_count": 40,
   "metadata": {},
   "outputs": [
    {
     "name": "stdout",
     "output_type": "stream",
     "text": [
      "1, \n"
     ]
    }
   ],
   "source": [
    "\n",
    "li = [0, 1] # 최초 li 정의\n",
    "\n",
    "zero = str(li[-1]) + \", \"\n",
    "print(zero)"
   ]
  },
  {
   "cell_type": "code",
   "execution_count": null,
   "metadata": {},
   "outputs": [],
   "source": []
  },
  {
   "cell_type": "code",
   "execution_count": 2,
   "metadata": {},
   "outputs": [],
   "source": [
    "# 피보나치 수열이란, 첫 번째 항의 값이 0이고 두 번째 항의 값이 1일 때, \n",
    "# 이후의 항들은 이전의 두 항을 더한 값으로 이루어지는 수열을 말한다.\n",
    "# 인풋을 정수 n으로 받았을때, n 이하까지의 피보나치 수열을 출력하는 \n",
    "# 프로그램을 작성하세요\n",
    "# n = int(input(\"num? : \"))\n",
    "# num? : 13\n",
    "# 0, 1, 1, 2, 3, 5, 8, 13"
   ]
  },
  {
   "cell_type": "code",
   "execution_count": 39,
   "metadata": {},
   "outputs": [
    {
     "name": "stdout",
     "output_type": "stream",
     "text": [
      "0, 1, 2, 3, 5, 8, 13, 21, 34, 55, 89"
     ]
    }
   ],
   "source": [
    "# 첫번째 프린트방법\n",
    "\n",
    "n = int(input(\"num? : \")) # n 입력\n",
    "li = [0, 1] # 최초 li 정의\n",
    "print('0',end='') # 최초 0부터 프린트\n",
    "while (li[0]+li[1]) <= n: # 마지막 숫자가 n을 넘지 않을때까지 반복\n",
    "    li = [li[1], (li[0]+li[1])] #리스트 안에 숫자 2개를 피보나치 수열의 규칙에 맞게 정의해줌\n",
    "    print(f', {li[-1]}', end='') # 연결해서 출력\n",
    "    "
   ]
  },
  {
   "cell_type": "code",
   "execution_count": 56,
   "metadata": {},
   "outputs": [
    {
     "name": "stdout",
     "output_type": "stream",
     "text": [
      "0, 1, 1, 2, 3, 5, 8, 13, 21, 34, 55, 89\n"
     ]
    }
   ],
   "source": [
    "# 두번째 프린트방법\n",
    "\n",
    "n = int(input(\"num? : \")) # n 입력\n",
    "li = [0, 1] # 최초 li 정의\n",
    "zero = \"0, 1, \" #최초 프린트값 정해줌\n",
    "while (li[0]+li[1]) <= n: # 마지막 숫자가 n을 넘지 않을때까지 반복\n",
    "    li = [li[1], (li[0]+li[1])] #리스트 안에 숫자 2개를 피보나치 수열의 규칙에 맞게 정의해줌\n",
    "    zero += str(li[-1]) + \", \" #zero 안에 수열을 계속 저장해줌\n",
    "zero = zero[:-2] #마지막에 쉼표 하나를 빼기 위해 [-2]까지 다시 정의해줌\n",
    "print(zero) # 연결해서 출력\n",
    "    "
   ]
  }
 ],
 "metadata": {
  "interpreter": {
   "hash": "513dc2e41d739bb2c947903f3c0bbf636d03aa53ab50e61c694a27481c81805e"
  },
  "kernelspec": {
   "display_name": "Python 3.9.7 ('base')",
   "language": "python",
   "name": "python3"
  },
  "language_info": {
   "codemirror_mode": {
    "name": "ipython",
    "version": 3
   },
   "file_extension": ".py",
   "mimetype": "text/x-python",
   "name": "python",
   "nbconvert_exporter": "python",
   "pygments_lexer": "ipython3",
   "version": "3.9.7"
  },
  "orig_nbformat": 4
 },
 "nbformat": 4,
 "nbformat_minor": 2
}
