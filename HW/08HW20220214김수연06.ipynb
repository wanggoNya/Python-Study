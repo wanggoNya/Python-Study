{
 "cells": [
  {
   "cell_type": "code",
   "execution_count": 53,
   "metadata": {},
   "outputs": [],
   "source": [
    "#476 a\n",
    "#477 \n",
    "#478\n",
    "#479 b\n",
    "#480\n",
    "#481\n",
    "#482 #들여쓰기 ???\n",
    "#483 c\n",
    "#484 d\n",
    "#485 c\n",
    "#486 a\n",
    "#487 d\n",
    "#488 d\n",
    "#489 c\n",
    "#490 b\n",
    "#491 b\n",
    "#492 a \n",
    "#493 c\n",
    "#494 a\n",
    "#495 d"
   ]
  },
  {
   "cell_type": "code",
   "execution_count": 58,
   "metadata": {},
   "outputs": [
    {
     "name": "stdout",
     "output_type": "stream",
     "text": [
      "[3, 4, 5, 6, 7] = 홀수 3개, 짝수 2개\n",
      "[12, 16, 22, 24, 29] = 홀수 1개, 짝수 4개\n",
      "[41, 43, 45, 47, 49] = 홀수 5개, 짝수 0개\n"
     ]
    }
   ],
   "source": [
    "def func (numlist):\n",
    "    zzac = 0\n",
    "    hol = 0\n",
    "    for i in numlist:\n",
    "        if i % 2 == 0:\n",
    "            zzac += 1\n",
    "        else:\n",
    "            hol += 1\n",
    "    print(numlist,f'= 홀수 {hol}개, 짝수 {zzac}개')\n",
    "\n",
    "func([3, 4, 5, 6, 7])\n",
    "func([12, 16, 22, 24, 29])\n",
    "func([41, 43, 45, 47, 49])"
   ]
  }
 ],
 "metadata": {
  "interpreter": {
   "hash": "513dc2e41d739bb2c947903f3c0bbf636d03aa53ab50e61c694a27481c81805e"
  },
  "kernelspec": {
   "display_name": "Python 3.9.7 ('base')",
   "language": "python",
   "name": "python3"
  },
  "language_info": {
   "name": "python",
   "version": "3.9.7"
  },
  "orig_nbformat": 4
 },
 "nbformat": 4,
 "nbformat_minor": 2
}
