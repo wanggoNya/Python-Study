{
 "cells": [
  {
   "cell_type": "code",
   "execution_count": null,
   "metadata": {},
   "outputs": [],
   "source": [
    "# name\n",
    "# d\n",
    "# b\n",
    "# b\n",
    "# b\n",
    "# a\n",
    "# ??\n",
    "# d\n",
    "# a\n",
    "# d\n",
    "# b\n",
    "# 233168"
   ]
  },
  {
   "cell_type": "code",
   "execution_count": 25,
   "metadata": {},
   "outputs": [
    {
     "name": "stdout",
     "output_type": "stream",
     "text": [
      "233168\n"
     ]
    }
   ],
   "source": [
    "three = 3\n",
    "five = 5\n",
    "th = 0\n",
    "fi = 0\n",
    "set1 = {0}\n",
    "\n",
    "n = 0\n",
    "while True:\n",
    "    n +=1\n",
    "    th_mul = three * n\n",
    "    if th_mul < 1000:\n",
    "        th += th_mul\n",
    "        set1.add(th_mul)\n",
    "    else:\n",
    "        break\n",
    "n = 0\n",
    "while True:\n",
    "    n +=1\n",
    "    fi_mul = five * n\n",
    "    if fi_mul < 1000:\n",
    "        fi += fi_mul\n",
    "        set1.add(fi_mul)\n",
    "    else:\n",
    "        break\n",
    "print(sum(list(set1)))"
   ]
  }
 ],
 "metadata": {
  "interpreter": {
   "hash": "513dc2e41d739bb2c947903f3c0bbf636d03aa53ab50e61c694a27481c81805e"
  },
  "kernelspec": {
   "display_name": "Python 3.9.7 ('base')",
   "language": "python",
   "name": "python3"
  },
  "language_info": {
   "codemirror_mode": {
    "name": "ipython",
    "version": 3
   },
   "file_extension": ".py",
   "mimetype": "text/x-python",
   "name": "python",
   "nbconvert_exporter": "python",
   "pygments_lexer": "ipython3",
   "version": "3.9.7"
  },
  "orig_nbformat": 4
 },
 "nbformat": 4,
 "nbformat_minor": 2
}
