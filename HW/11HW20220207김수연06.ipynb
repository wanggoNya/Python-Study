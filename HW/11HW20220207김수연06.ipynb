{
 "cells": [
  {
   "cell_type": "code",
   "execution_count": null,
   "metadata": {},
   "outputs": [],
   "source": [
    "# b\n",
    "# a\n",
    "# c\n",
    "# a\n",
    "# b\n",
    "\n",
    "# d\n",
    "# c\n",
    "# b\n",
    "# c\n",
    "# a\n",
    "\n",
    "# b\n",
    "# a\n",
    "# b\n",
    "# d\n",
    "# d\n",
    "\n",
    "# c\n",
    "# d\n",
    "# a\n",
    "# d\n",
    "# c"
   ]
  },
  {
   "cell_type": "code",
   "execution_count": 15,
   "metadata": {},
   "outputs": [
    {
     "name": "stdout",
     "output_type": "stream",
     "text": [
      "123\n",
      "asvs\n"
     ]
    }
   ],
   "source": [
    "sen = input(\"문자와 숫자가 섞인 문장을 입력\")\n",
    "intt = ''\n",
    "st = ''\n",
    "for i in sen[0:]:\n",
    "    if i.isdigit():\n",
    "        intt += i\n",
    "    else:\n",
    "        st += i\n",
    "print(intt)\n",
    "print(st)"
   ]
  }
 ],
 "metadata": {
  "interpreter": {
   "hash": "513dc2e41d739bb2c947903f3c0bbf636d03aa53ab50e61c694a27481c81805e"
  },
  "kernelspec": {
   "display_name": "Python 3.9.7 ('base')",
   "language": "python",
   "name": "python3"
  },
  "language_info": {
   "codemirror_mode": {
    "name": "ipython",
    "version": 3
   },
   "file_extension": ".py",
   "mimetype": "text/x-python",
   "name": "python",
   "nbconvert_exporter": "python",
   "pygments_lexer": "ipython3",
   "version": "3.9.7"
  },
  "orig_nbformat": 4
 },
 "nbformat": 4,
 "nbformat_minor": 2
}
