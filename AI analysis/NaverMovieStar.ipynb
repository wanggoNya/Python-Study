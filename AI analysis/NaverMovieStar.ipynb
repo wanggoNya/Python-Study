{
 "cells": [
  {
   "cell_type": "code",
   "execution_count": null,
   "metadata": {},
   "outputs": [],
   "source": [
    "# pipi install selenium\n",
    "from selenium import webdriver\n",
    "\n",
    "from bs4 import BeautifulSoup as bs # 분석 용이하게 정렬\n",
    "\n",
    "driver = webdriver.Chrome('chromedriver.exe')\n",
    "driver.get('https://movie.naver.com/movie/sdb/rank/rmovie.naver')\n",
    "html = driver.page_source\n",
    "soup = bs(html)\n",
    "\n",
    "movie_data = []\n",
    "rank = 0\n",
    "\n",
    "movies = soup.select('td.title')\n",
    "\n",
    "for movie in movies:\n",
    "    movierank = movie.select('div.tit3')[0].a.text\n",
    "    rank += 1\n",
    "    movie_data.append([rank, movierank])\n",
    "\n",
    "import pandas as pd\n",
    "print(movie_data)\n",
    "df = pd.DataFrame(movie_data, columns = ['순위', '영화명'])\n",
    "df.to_excel('NaverMovie.xlsx', index = False)\n",
    "df\n"
   ]
  }
 ],
 "metadata": {
  "language_info": {
   "name": "python"
  },
  "orig_nbformat": 4
 },
 "nbformat": 4,
 "nbformat_minor": 2
}
