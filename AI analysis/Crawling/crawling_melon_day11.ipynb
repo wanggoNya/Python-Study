{
 "cells": [
  {
   "cell_type": "code",
   "execution_count": 45,
   "metadata": {},
   "outputs": [],
   "source": [
    "from selenium import webdriver # selenium 라이브러리에서 webdriver 명령어 import\n",
    "from bs4 import BeautifulSoup as bs # BeautifulSoup 라이브러리에서 bs4 명령어 bs로 import"
   ]
  },
  {
   "cell_type": "code",
   "execution_count": null,
   "metadata": {},
   "outputs": [],
   "source": [
    "driver = webdriver.Chrome('chromedriver.exe') # chromedirver 사용설정\n",
    "driver.get('https://www.melon.com/chart/index.htm') # 멜론 차트 웹페이지 열기\n",
    "html = driver.page_source # 멜론 차트 웹페이지의 html code 가져오기\n",
    "soup = bs(html) # html code를 BeautifulSoup 라이브러리를 이용해 파싱\n",
    "soup"
   ]
  },
  {
   "cell_type": "code",
   "execution_count": null,
   "metadata": {},
   "outputs": [],
   "source": [
    "len(soup.select('tr.lst50')) # tr.lst50 안에 몇 위까지 있는지 확인\n",
    "len(soup.select('tr.lst100')) # tr.lst100 안에 몇 위까지 있는지 확인"
   ]
  },
  {
   "cell_type": "code",
   "execution_count": null,
   "metadata": {},
   "outputs": [],
   "source": [
    "song_data = [] # 빈 리스트 생성\n",
    "rank = 0 # 1 ~ 50위를 표현할 변수\n",
    "rank2 = 50 # 51 ~ 100위를 표현할 변수\n",
    "songs = soup.select('tr.lst50') # 1 ~ 50위 곡 정보 가져옴\n",
    "songs2 = soup.select('tr.lst100') # 51 ~ 100위 곡 정보 가져옴\n",
    "\n",
    "for song in songs: # 1 ~ 50위 곡 정보에 대해 반복\n",
    "    singer = song.select('div.wrap_song_info')[0].select('span.checkEllipsis')[0].text \n",
    "    # 가수명을 찾기위해 div 태그 안의 wrap_song_info 클래스를 찾은 후, 그 안에 span 태그의 checkEllipsis 클래스 text를 가져옴\n",
    "\n",
    "    title = song.select('div.wrap_song_info')[0].select('div.ellipsis')[0].a.text\n",
    "    # 곡명을 찾기위해 div 태그 안의 wrap_song_info 클래스를 찾은 후, 그 안에 div 태그의 ellipsis 클래스 a값을 가져옴\n",
    "\n",
    "    rank += 1 # 순위 매김\n",
    "    song_data.append([rank, title, singer]) # 빈 리스트에 1 ~ 50위 추가\n",
    "\n",
    "for song in songs2:\n",
    "    singer = song.select('div.wrap_song_info')[0].select('span.checkEllipsis')[0].text\n",
    "    # 가수명을 찾기위해 div 태그 안의 wrap_song_info 클래스를 찾은 후, 그 안에 span 태그의 checkEllipsis 클래스 text를 가져옴\n",
    "\n",
    "    title = song.select('div.wrap_song_info')[0].select('div.ellipsis')[0].a.text\n",
    "    # 곡명을 찾기위해 div 태그 안의 wrap_song_info 클래스를 찾은 후, 그 안에 div 태그의 ellipsis 클래스 a값을 가져옴\n",
    "\n",
    "    rank2 += 1 # 순위 매김\n",
    "    song_data.append([rank2, title, singer]) # 빈 리스트에 51 ~ 100위 추가\n",
    "\n",
    "import pandas as pd # pandas 라이브러리를 pd로 import\n",
    "df = pd.DataFrame(song_data, columns = ['순위', '타이틀', '가수']) # DataFrame을 이용해 song_data를 순위, 타이틀, 가수의 3열로 되어있는 구조체 변환 후 df에 저장\n",
    "df.to_excel('Melon.xlsx', index = False) # df를 Melon.xlsx로 저장하여 엑셀파일 생성\n",
    "df # 결과 확인을 위해 df 출력\n"
   ]
  }
 ],
 "metadata": {
  "interpreter": {
   "hash": "513dc2e41d739bb2c947903f3c0bbf636d03aa53ab50e61c694a27481c81805e"
  },
  "kernelspec": {
   "display_name": "Python 3.9.7 ('base')",
   "language": "python",
   "name": "python3"
  },
  "language_info": {
   "codemirror_mode": {
    "name": "ipython",
    "version": 3
   },
   "file_extension": ".py",
   "mimetype": "text/x-python",
   "name": "python",
   "nbconvert_exporter": "python",
   "pygments_lexer": "ipython3",
   "version": "3.9.7"
  },
  "orig_nbformat": 4
 },
 "nbformat": 4,
 "nbformat_minor": 2
}
