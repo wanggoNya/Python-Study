{
 "cells": [
  {
   "cell_type": "code",
   "execution_count": 41,
   "metadata": {},
   "outputs": [],
   "source": [
    "from selenium import webdriver\n",
    "from bs4 import BeautifulSoup as bs\n"
   ]
  },
  {
   "cell_type": "code",
   "execution_count": null,
   "metadata": {},
   "outputs": [],
   "source": [
    "driver = webdriver.Chrome('chromedriver.exe')\n",
    "driver.get('https://www.melon.com/chart/index.htm')\n",
    "html = driver.page_source\n",
    "soup = bs(html)\n",
    "soup"
   ]
  },
  {
   "cell_type": "code",
   "execution_count": null,
   "metadata": {},
   "outputs": [],
   "source": [
    "len(soup.select('tr.lst50'))\n",
    "\n",
    "songs = soup.select('tr.lst50')\n",
    "title = soup.select('div.wrap_song_info')\n",
    "songs\n",
    "title"
   ]
  },
  {
   "cell_type": "code",
   "execution_count": null,
   "metadata": {},
   "outputs": [],
   "source": [
    "\n",
    "song_data = []\n",
    "rank = 0\n",
    "rank2 = 50\n",
    "songs = soup.select('tr.lst50')\n",
    "songs2 = soup.select('tr.lst100')\n",
    "\n",
    "for song in songs:\n",
    "    singer = song.select('div.wrap_song_info')[0].select('span.checkEllipsis')[0].text\n",
    "    title = song.select('div.wrap_song_info')[0].select('div.ellipsis')[0].a.text\n",
    "    rank += 1\n",
    "    song_data.append([rank, title, singer])\n",
    "\n",
    "for song in songs2:\n",
    "    singer = song.select('div.wrap_song_info')[0].select('span.checkEllipsis')[0].text\n",
    "    title = song.select('div.wrap_song_info')[0].select('div.ellipsis')[0].a.text\n",
    "    rank2 += 1\n",
    "    song_data.append([rank2, title, singer])\n",
    "\n",
    "import pandas as pd\n",
    "# print(song_data)\n",
    "df = pd.DataFrame(song_data, columns = ['순위', '타이틀', '가수'])\n",
    "df.to_excel('Melon.xlsx', index = False)\n",
    "df\n"
   ]
  }
 ],
 "metadata": {
  "interpreter": {
   "hash": "513dc2e41d739bb2c947903f3c0bbf636d03aa53ab50e61c694a27481c81805e"
  },
  "kernelspec": {
   "display_name": "Python 3.9.7 ('base')",
   "language": "python",
   "name": "python3"
  },
  "language_info": {
   "codemirror_mode": {
    "name": "ipython",
    "version": 3
   },
   "file_extension": ".py",
   "mimetype": "text/x-python",
   "name": "python",
   "nbconvert_exporter": "python",
   "pygments_lexer": "ipython3",
   "version": "3.9.7"
  },
  "orig_nbformat": 4
 },
 "nbformat": 4,
 "nbformat_minor": 2
}
