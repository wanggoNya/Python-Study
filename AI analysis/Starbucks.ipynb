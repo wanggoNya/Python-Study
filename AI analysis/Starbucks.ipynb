{
 "cells": [
  {
   "cell_type": "code",
   "execution_count": null,
   "metadata": {},
   "outputs": [],
   "source": [
    "# pipi install selenium\n",
    "from selenium import webdriver\n",
    "\n",
    "from bs4 import BeautifulSoup as bs # 분석 용이하게 정렬\n",
    "\n",
    "import pandas as pd\n",
    "driver = webdriver.Chrome('chromedriver.exe')\n",
    "driver.get('https://www.starbucks.co.kr/store/store_map.do')\n",
    "html = driver.page_source\n",
    "soup = bs(html)\n",
    "soup\n"
   ]
  },
  {
   "cell_type": "code",
   "execution_count": null,
   "metadata": {},
   "outputs": [],
   "source": [
    "# 지역 검색\n",
    "area_btn = '#container > div > form > fieldset > div > section > article.find_store_cont > article > header.loca_search > h3 > a'\n",
    "driver.find_element_by_css_selector(area_btn).click() # 홈페이지 버튼 누르기"
   ]
  },
  {
   "cell_type": "code",
   "execution_count": null,
   "metadata": {},
   "outputs": [],
   "source": [
    "# 지역 누르기\n",
    "seoul_btn = '#container > div > form > fieldset > div > section > article.find_store_cont > article > article:nth-child(4) > div.loca_step1 > div.loca_step1_cont > ul > li:nth-child(1) > a'\n",
    "driver.find_element_by_css_selector(seoul_btn).click()\n"
   ]
  },
  {
   "cell_type": "code",
   "execution_count": null,
   "metadata": {},
   "outputs": [],
   "source": [
    "#그 지역의 전체 지점\n",
    "all_btn = '#mCSB_2_container > ul > li:nth-child(1) > a'\n",
    "driver.find_element_by_css_selector(all_btn).click()"
   ]
  },
  {
   "cell_type": "code",
   "execution_count": null,
   "metadata": {},
   "outputs": [],
   "source": [
    "# 전체 페이지 주소 읽어오기\n",
    "html = driver.page_source \n",
    "soup = bs(html)\n",
    "stars = soup.select('ul.quickSearchResultBoxSidoGugun > li.quickResultLstCon')\n",
    "stars[0]"
   ]
  },
  {
   "cell_type": "code",
   "execution_count": null,
   "metadata": {},
   "outputs": [],
   "source": [
    "star_data = []\n",
    "num = 0\n",
    "for star in stars:\n",
    "    name= star.select('ul.quickSearchResultBoxSidoGugun > li.quickResultLstCon > strong')[0].text.strip()\n",
    "    addr = star.select('p.result_details')[0].find_all(text=True)[0]\n",
    "    tel = star.select('p.result_details')[0].find_all(text=True)[1] #전화번호\n",
    "    lat = star['data-lat']#위도\n",
    "    lng = star['data-long']\n",
    "    num += 1\n",
    "    star_data.append([num, name, addr, tel, lat, lng])\n",
    "\n",
    "import pandas as pd # pandas 라이브러리를 pd로 import\n",
    "df = pd.DataFrame(star_data, columns = ['번호', '지점명', '주소', '전화번호', '위도', '경도']) # DataFrame을 이용해 song_data를 순위, 타이틀, 가수의 3열로 되어있는 구조체 변환 후 df에 저장\n",
    "df.to_excel('Starbucks.xlsx', index = False)\n",
    "df\n"
   ]
  },
  {
   "cell_type": "code",
   "execution_count": null,
   "metadata": {},
   "outputs": [],
   "source": [
    "# # name= soup.select('ul.quickSearchResultBoxSidoGugun > li.quickResultLstCon > strong')[0].text.strip()\n",
    "# # addr = soup.select('p.result_details')[0].find_all(text=True)[0]\n",
    "# # tel = soup.select('p.result_details')[0].find_all(text=True)[1] #전화번호\n",
    "# # lat = star['data-lat']#위도\n",
    "# # lng = star['data-long']\n",
    "# # print(name)\n",
    "# # print(addr)\n",
    "# # print(tel)\n",
    "# # print(lat)\n",
    "# # print(lng)\n",
    "\n",
    "# name= soup.select('ul.quickSearchResultBoxSidoGugun > li.quickResultLstCon > strong')[0].text.strip()\n",
    "# addr = soup.select('p.result_details')[0].find_all(text=True)[0]\n",
    "# tel = soup.select('p.result_details')[0].find_all(text=True)[1] #전화번호\n",
    "# lat = star['data-lat']#위도\n",
    "# lng = star['data-long']\n",
    "# print(name)\n",
    "# print(addr)\n",
    "# print(tel)\n",
    "# print(lat)\n",
    "# print(lng)"
   ]
  }
 ],
 "metadata": {
  "interpreter": {
   "hash": "513dc2e41d739bb2c947903f3c0bbf636d03aa53ab50e61c694a27481c81805e"
  },
  "kernelspec": {
   "display_name": "Python 3.9.7 ('base')",
   "language": "python",
   "name": "python3"
  },
  "language_info": {
   "codemirror_mode": {
    "name": "ipython",
    "version": 3
   },
   "file_extension": ".py",
   "mimetype": "text/x-python",
   "name": "python",
   "nbconvert_exporter": "python",
   "pygments_lexer": "ipython3",
   "version": "3.9.7"
  },
  "orig_nbformat": 4
 },
 "nbformat": 4,
 "nbformat_minor": 2
}
