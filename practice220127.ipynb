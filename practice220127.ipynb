{
  "cells": [
    {
      "cell_type": "markdown",
      "metadata": {
        "id": "view-in-github",
        "colab_type": "text"
      },
      "source": [
        "<a href=\"https://colab.research.google.com/github/wanggoNya/ai/blob/main/practice220127.ipynb\" target=\"_parent\"><img src=\"https://colab.research.google.com/assets/colab-badge.svg\" alt=\"Open In Colab\"/></a>"
      ]
    },
    {
      "cell_type": "markdown",
      "metadata": {
        "id": "FteNjIyY5lju"
      },
      "source": [
        ""
      ]
    },
    {
      "cell_type": "code",
      "execution_count": null,
      "metadata": {
        "id": "x_sN3Szk0Kmy"
      },
      "outputs": [],
      "source": [
        "# ####### 복습\n",
        "\n",
        "# Collection : 많은 데이터(elements)를 저장하는...\n",
        "\n",
        "# 리스트 list       튜플 tuple        딕셔너리 dict     셋 set\n",
        "#                                     ★★★\n",
        "# []                ()                {}                {}\n",
        "# mutable           immutable         mutable           mutable\n",
        "# indexing/slicing  indexing/slicing  Nope 순서개념 X   Nope 순서개념 X\n",
        "#                   (1.)              {key:value}       리스트로 바꿀 수 d\n",
        "#                                                       중복데이터X, 중복제거o\n",
        "\n",
        "#List\n",
        "list1 = [1,2,3,4,5]\n",
        "list2 = [2,3,'하나','둘',True,False]\n",
        "\n",
        "print(list1[0]) #indexing ★비파괴적\n",
        "print(list2[2:4]) #slicing [시작:끝(미만)] ★비파괴적\n",
        "\n",
        "#리스트 수정 가능 ★파괴적\n",
        "list1[0] = 9\n",
        "print(list1) \n",
        "\n",
        "#리스트 연산 가능\n",
        "print(list1*3)\n",
        "\n",
        "# 리스트 마지막에 추가 ★파괴적\n",
        "list1.append(8) #append 는 마지막에 추가\n",
        "# insert로 추가 ★파괴적\n",
        "list1.insert(0, 10) #insert 는 특정 위치 지정하여 추가\n",
        "\n",
        "#파괴적이지 않고 원본 유지하는 법\n",
        "list1 = list3\n",
        "print(list1)\n",
        "print(list3) #복사본 만들기\n",
        "\n",
        "#리스트 삭제가능\n",
        "list1 = list3\n",
        "print(list1)\n",
        "print(list3)\n",
        "\n",
        "del list3[0] #삭제\n",
        "print(list1)\n",
        "print(list3) #list1까지 수정되므로, \n"
      ]
    },
    {
      "cell_type": "code",
      "execution_count": null,
      "metadata": {
        "colab": {
          "base_uri": "https://localhost:8080/"
        },
        "id": "zx4qybO67y7-",
        "outputId": "eeefe066-670d-43bd-81f5-996294e71cf0"
      },
      "outputs": [
        {
          "name": "stdout",
          "output_type": "stream",
          "text": [
            "[1, 2, 3, 4, 5]\n",
            "[1, 2, 3, 4, 5]\n",
            "[2, 3, 4, 5]\n",
            "[2, 3, 4, 5]\n"
          ]
        }
      ],
      "source": [
        "list1 = [1,2,3,4,5]\n",
        "list2 = [2,3,'하나','둘',True,False]\n",
        "#리스트 삭제가능\n",
        "list3 = list1 \n",
        "print(list1)\n",
        "print(list4)\n",
        "\n",
        "del list3[0] #삭제\n",
        "print(list1) \n",
        "print(list4) #list1까지 수정된다\n",
        "# list1  -----> [9,2,3,4,5,8] <----- list3\n",
        "# 변수는 특정 위치를 가리킴\n",
        "\n",
        "list4 = list1.copy"
      ]
    },
    {
      "cell_type": "code",
      "execution_count": null,
      "metadata": {
        "id": "1E-MhRnQ8y8w"
      },
      "outputs": [],
      "source": [
        "#튜플 tuple \n",
        "#수정 삭제 불가능 \n",
        "t1 = ('대한', '민국')\n",
        "type(t1)\n",
        "t2 = (1,)\n",
        "print(type(t2))\n",
        " \n",
        "# t1.pop() #파괴적"
      ]
    },
    {
      "cell_type": "code",
      "execution_count": null,
      "metadata": {
        "colab": {
          "base_uri": "https://localhost:8080/"
        },
        "id": "EMGNBnWX_DjN",
        "outputId": "38388362-12b3-443e-8d2b-6f9f25d336c9"
      },
      "outputs": [
        {
          "name": "stdout",
          "output_type": "stream",
          "text": [
            "{'key': 'value'}\n",
            "value\n",
            "{'key': 'value', 'newkey': 'ai'}\n"
          ]
        }
      ],
      "source": [
        "#dict 수정가능!\n",
        "dict = {\n",
        "    'key': 'value'\n",
        "}\n",
        "print(dict)\n",
        "print(dict['key'])\n",
        "\n",
        "dict['newkey'] = 'ai' \n",
        "print(dict)\n",
        "\n",
        "del dict['key']"
      ]
    },
    {
      "cell_type": "code",
      "execution_count": null,
      "metadata": {
        "id": "pJ3GUsNc_AcC"
      },
      "outputs": [],
      "source": [
        "# set\n",
        "set = {1,1,2,2,2,3}\n",
        "print(set)\n",
        "# print(set[0]) 오류가 생겨버림.. "
      ]
    },
    {
      "cell_type": "code",
      "execution_count": null,
      "metadata": {
        "colab": {
          "base_uri": "https://localhost:8080/"
        },
        "id": "h9Xs7wHPD2GS",
        "outputId": "4cdc9ef5-51ab-4079-de18-09e92f033b13"
      },
      "outputs": [
        {
          "name": "stdout",
          "output_type": "stream",
          "text": [
            "40\n",
            "하\n"
          ]
        }
      ],
      "source": [
        "###################\n",
        "# if 조건문\n",
        "\n",
        "# if True:\n",
        "#   print('1st')\n",
        "# elif False:\n",
        "#   print('2nd')\n",
        "# elif False:\n",
        "#   print('3rd')\n",
        "# else:\n",
        "#   print('etc')\n",
        "\n",
        "#중첩 (좋은 방법은 아님)\n",
        "score = int(input())\n",
        "if score >= 100:\n",
        "  print('상')\n",
        "else:\n",
        "  if score >= 50:\n",
        "    print('중')\n",
        "  else:\n",
        "    print('하')\n"
      ]
    },
    {
      "cell_type": "code",
      "execution_count": null,
      "metadata": {
        "id": "8kunuQsbM2Wy"
      },
      "outputs": [],
      "source": [
        "#########################\n",
        "# while\n",
        "# 반복문은 작업 수행을 한 번이 아니라 계속해서 수행해야 할 때 사용\n",
        "# while 반복 작업을 몇 번 수행할지 확실하지 않을 때 주로 사용\n",
        "\n",
        "# while 조건식 : \n",
        "# 실행 구문\n",
        "\n",
        "while True:\n",
        "  print('운동장 돌기') #print 구문이 계속 반복"
      ]
    },
    {
      "cell_type": "code",
      "execution_count": null,
      "metadata": {
        "id": "rdwsj23gUTaP"
      },
      "outputs": [],
      "source": [
        "n = 1\n",
        "while n <= 10:\n",
        "  print(n)\n",
        "  n = n+1"
      ]
    },
    {
      "cell_type": "code",
      "execution_count": null,
      "metadata": {
        "colab": {
          "base_uri": "https://localhost:8080/"
        },
        "id": "dtB7NqQ8UZ-V",
        "outputId": "b617f842-4524-4b7c-def3-f743840c57b8"
      },
      "outputs": [
        {
          "name": "stdout",
          "output_type": "stream",
          "text": [
            "10\n",
            "8\n",
            "6\n",
            "4\n",
            "2\n"
          ]
        }
      ],
      "source": [
        "n = 10\n",
        "while n>=1:\n",
        "  print(n)\n",
        "  n -=2"
      ]
    },
    {
      "cell_type": "code",
      "execution_count": null,
      "metadata": {
        "colab": {
          "base_uri": "https://localhost:8080/"
        },
        "id": "r98WE4kPVTj7",
        "outputId": "e5e08441-8494-47ee-c6ad-7c7f1001e28a"
      },
      "outputs": [
        {
          "name": "stdout",
          "output_type": "stream",
          "text": [
            "정수입력1\n",
            "정수입력2\n",
            "정수입력3\n",
            "정수입력4\n",
            "정수입력0\n",
            "[1, 2, 3, 4]\n"
          ]
        }
      ],
      "source": [
        "arr =[]\n",
        "n = 1\n",
        "\n",
        "while n!= 0:\n",
        "  n =int(input('정수입력'))\n",
        "\n",
        "\n",
        "  if n!= 0:\n",
        "    arr.append(n)\n",
        "\n",
        "print(arr)\n"
      ]
    },
    {
      "cell_type": "code",
      "execution_count": null,
      "metadata": {
        "id": "Vd2_A3oKVigN"
      },
      "outputs": [],
      "source": [
        "# while 중첩\n",
        "# while 내부에 또 다른 while을 사용하는 것을 중첩이라고 한다. \n",
        "#1~3일차 각각 1~3교시 출력\n",
        "n = 1\n",
        "while day <= 3:\n",
        "  c = 1\n",
        "  while c <= 3:\n",
        "    print(f'{n}day {c}class')\n",
        "    c += 1\n",
        "  n += 1\n"
      ]
    },
    {
      "cell_type": "code",
      "execution_count": null,
      "metadata": {
        "id": "ord9C1M_uRaN"
      },
      "outputs": [],
      "source": [
        "\n",
        "#구구단출력\n",
        "n = 1\n",
        "a = n*c\n",
        "while n <= 9:\n",
        "  c = 1\n",
        "  while c <= 9:\n",
        "    a = n*c\n",
        "    print(f'{n} X {c} = {a}')\n",
        "    c += 1\n",
        "  n += 1"
      ]
    },
    {
      "cell_type": "code",
      "execution_count": null,
      "metadata": {
        "colab": {
          "background_save": true
        },
        "id": "G3E8BAzswQFf"
      },
      "outputs": [],
      "source": [
        "# 7단\n",
        "n = 7\n",
        "a = 1\n",
        "ans = 0\n",
        "while ans < 101:\n",
        "  a += 1\n",
        "  ans = n*a\n",
        "  print (ans)\n"
      ]
    },
    {
      "cell_type": "code",
      "execution_count": null,
      "metadata": {
        "id": "1TAEkBw6574G"
      },
      "outputs": [],
      "source": [
        "#구구단출력\n",
        "n = 1\n",
        "\n",
        "while n <= 9:\n",
        "  c = 1\n",
        "  while c <= 9:\n",
        "    a = n*c\n",
        "    print(f'{n} X {c} = {a}')\n",
        "    c += 1\n",
        "  n += 1\n"
      ]
    },
    {
      "cell_type": "markdown",
      "metadata": {
        "id": "wkHmJ01P5xcT"
      },
      "source": [
        ""
      ]
    },
    {
      "cell_type": "code",
      "execution_count": null,
      "metadata": {
        "id": "SydMBaXG6ro4"
      },
      "outputs": [],
      "source": [
        "#헬로\n",
        "hello = int(input(\"몇 번의 hello를 출력하시겠습니까 >> \"))\n",
        "n = 0\n",
        "while n < hello:\n",
        "  n += 1\n",
        "  print(f'{n}번째 hello')\n",
        "if hello < 1:\n",
        "    print(\"잘못된 입력입니다.\")\n"
      ]
    },
    {
      "cell_type": "code",
      "execution_count": null,
      "metadata": {
        "colab": {
          "base_uri": "https://localhost:8080/"
        },
        "id": "d7bknx4w6xmA",
        "outputId": "7a8e6250-628d-4116-a707-954e5dd20165"
      },
      "outputs": [
        {
          "name": "stdout",
          "output_type": "stream",
          "text": [
            "자판기에 얼마를 넣을까요 >>> 1200\n",
            "커피 2잔, 잔돈 900원\n",
            "커피 3잔, 잔돈 600원\n",
            "커피 4잔, 잔돈 300원\n",
            "커피 5잔, 잔돈 0원\n"
          ]
        }
      ],
      "source": [
        "# 자판기\n",
        "put = int(input(\"자판기에 얼마를 넣을까요 >>> \"))\n",
        "per = n * 300\n",
        "\n",
        "while per < put:\n",
        "  per = n * 300\n",
        "  jan = put - per\n",
        "  n += 1\n",
        "  print(f'커피 {n}잔, 잔돈 {jan}원')"
      ]
    },
    {
      "cell_type": "code",
      "execution_count": null,
      "metadata": {
        "colab": {
          "base_uri": "https://localhost:8080/",
          "height": 266
        },
        "id": "YTJrdkP484wF",
        "outputId": "39d0e385-57c9-43fa-f846-8aea6d46f02d"
      },
      "outputs": [
        {
          "name": "stdout",
          "output_type": "stream",
          "text": [
            "0부터 9까지 정수 입력 >>> asd\n"
          ]
        },
        {
          "ename": "TypeError",
          "evalue": "ignored",
          "output_type": "error",
          "traceback": [
            "\u001b[0;31m---------------------------------------------------------------------------\u001b[0m",
            "\u001b[0;31mTypeError\u001b[0m                                 Traceback (most recent call last)",
            "\u001b[0;32m<ipython-input-98-b9d7ba78160e>\u001b[0m in \u001b[0;36m<module>\u001b[0;34m()\u001b[0m\n\u001b[0;32m----> 1\u001b[0;31m \u001b[0mn\u001b[0m \u001b[0;34m=\u001b[0m \u001b[0mset\u001b[0m\u001b[0;34m(\u001b[0m\u001b[0minput\u001b[0m\u001b[0;34m(\u001b[0m\u001b[0;34m\"0부터 9까지 정수 입력 >>> \"\u001b[0m\u001b[0;34m)\u001b[0m\u001b[0;34m)\u001b[0m\u001b[0;34m\u001b[0m\u001b[0;34m\u001b[0m\u001b[0m\n\u001b[0m\u001b[1;32m      2\u001b[0m \u001b[0;32mwhile\u001b[0m \u001b[0mlen\u001b[0m\u001b[0;34m(\u001b[0m\u001b[0mn\u001b[0m\u001b[0;34m)\u001b[0m \u001b[0;34m<\u001b[0m\u001b[0;36m5\u001b[0m\u001b[0;34m:\u001b[0m\u001b[0;34m\u001b[0m\u001b[0;34m\u001b[0m\u001b[0m\n\u001b[1;32m      3\u001b[0m   \u001b[0mprint\u001b[0m\u001b[0;34m(\u001b[0m\u001b[0;34m\"중복되지않게 다시 입력하세요.\"\u001b[0m\u001b[0;34m)\u001b[0m\u001b[0;34m\u001b[0m\u001b[0;34m\u001b[0m\u001b[0m\n\u001b[1;32m      4\u001b[0m   \u001b[0mn\u001b[0m \u001b[0;34m=\u001b[0m \u001b[0mset\u001b[0m\u001b[0;34m(\u001b[0m\u001b[0minput\u001b[0m\u001b[0;34m(\u001b[0m\u001b[0;34m\"0부터 9까지 정수 입력 >>> \"\u001b[0m\u001b[0;34m)\u001b[0m\u001b[0;34m)\u001b[0m\u001b[0;34m\u001b[0m\u001b[0;34m\u001b[0m\u001b[0m\n\u001b[1;32m      5\u001b[0m   \u001b[0mprint\u001b[0m\u001b[0;34m(\u001b[0m\u001b[0mn\u001b[0m\u001b[0;34m)\u001b[0m\u001b[0;34m\u001b[0m\u001b[0;34m\u001b[0m\u001b[0m\n",
            "\u001b[0;31mTypeError\u001b[0m: 'dict' object is not callable"
          ]
        }
      ],
      "source": [
        "n = set(input(\"0부터 9까지 정수 입력 >>> \"))\n",
        "while len(n) <5:\n",
        "  print(\"중복되지않게 다시 입력하세요.\")\n",
        "  n = set(input(\"0부터 9까지 정수 입력 >>> \"))\n",
        "  print(n)"
      ]
    },
    {
      "cell_type": "code",
      "execution_count": null,
      "metadata": {
        "id": "28H8x-kQA0B3"
      },
      "outputs": [],
      "source": [
        "num = set([])\n",
        "while len(num) <= 4:\n",
        "  no = int(input('0~9 사이의 정수를 입력하세용 '))\n",
        "  num.add(no)\n",
        "  print(num)\n",
        "\n",
        "print(num)"
      ]
    },
    {
      "cell_type": "code",
      "execution_count": null,
      "metadata": {
        "colab": {
          "base_uri": "https://localhost:8080/"
        },
        "id": "0v9ESzO79Ghw",
        "outputId": "dcb9b36c-1de4-464b-87e3-0a96a9789fbb"
      },
      "outputs": [
        {
          "name": "stdout",
          "output_type": "stream",
          "text": [
            "1    2    3    4    5    6    7    8    9    10    "
          ]
        }
      ],
      "source": [
        "g=0\n",
        "n=0\n",
        "while n < 100:\n",
        "  n += 1\n",
        "  while g < 10:\n",
        "    g += 1\n",
        "    print(f'{n*g}',end='    ')"
      ]
    },
    {
      "cell_type": "code",
      "execution_count": null,
      "metadata": {
        "colab": {
          "base_uri": "https://localhost:8080/"
        },
        "id": "3fUX_VxlFAV-",
        "outputId": "d883cf25-e91d-45ad-8c3f-61e29f53b3c6"
      },
      "outputs": [
        {
          "name": "stdout",
          "output_type": "stream",
          "text": [
            "1\t2\t3\t4\t5\t6\t7\t8\t9\t10\n",
            "11\t12\t13\t14\t15\t16\t17\t18\t19\t20\n",
            "21\t22\t23\t24\t25\t26\t27\t28\t29\t30\n",
            "31\t32\t33\t34\t35\t36\t37\t38\t39\t40\n",
            "41\t42\t43\t44\t45\t46\t47\t48\t49\t50\n",
            "51\t52\t53\t54\t55\t56\t57\t58\t59\t60\n",
            "61\t62\t63\t64\t65\t66\t67\t68\t69\t70\n",
            "71\t72\t73\t74\t75\t76\t77\t78\t79\t80\n",
            "81\t82\t83\t84\t85\t86\t87\t88\t89\t90\n",
            "91\t92\t93\t94\t95\t96\t97\t98\t99\t100\n"
          ]
        }
      ],
      "source": [
        "n = 1\n",
        "while n<= 100:\n",
        "  if n % 10 != 0:\n",
        "    print(n, end='\\t')\n",
        "  else:\n",
        "    print(n)\n",
        "  n += 1"
      ]
    },
    {
      "cell_type": "code",
      "execution_count": null,
      "metadata": {
        "colab": {
          "base_uri": "https://localhost:8080/"
        },
        "id": "zFzUpS3fKdLw",
        "outputId": "3443b11f-3209-437c-af87-98ca9acd270b"
      },
      "outputs": [
        {
          "name": "stdout",
          "output_type": "stream",
          "text": [
            "1\t2\t3\t4\t5\t6\t7\t8\t9\t10\t\n",
            "11\t12\t13\t14\t15\t16\t17\t18\t19\t20\t\n",
            "21\t22\t23\t24\t25\t26\t27\t28\t29\t30\t\n",
            "31\t32\t33\t34\t35\t36\t37\t38\t39\t40\t\n",
            "41\t42\t43\t44\t45\t46\t47\t48\t49\t50\t\n",
            "51\t52\t53\t54\t55\t56\t57\t58\t59\t60\t\n",
            "61\t62\t63\t64\t65\t66\t67\t68\t69\t70\t\n",
            "71\t72\t73\t74\t75\t76\t77\t78\t79\t80\t\n",
            "81\t82\t83\t84\t85\t86\t87\t88\t89\t90\t\n",
            "91\t92\t93\t94\t95\t96\t97\t98\t99\t100\t\n"
          ]
        }
      ],
      "source": [
        "n = 1\n",
        "while n<= 100:\n",
        "  t=0\n",
        "  while t < 10:\n",
        "    print(n, end='\\t')\n",
        "    t += 1\n",
        "    n += 1\n",
        "  print(\"\")"
      ]
    },
    {
      "cell_type": "code",
      "execution_count": null,
      "metadata": {
        "colab": {
          "base_uri": "https://localhost:8080/",
          "height": 137
        },
        "id": "_iP4B7JOLoqB",
        "outputId": "4625619d-649e-408f-9d5f-8956ae26ddd4"
      },
      "outputs": [
        {
          "ename": "SyntaxError",
          "evalue": "ignored",
          "output_type": "error",
          "traceback": [
            "\u001b[0;36m  File \u001b[0;32m\"<ipython-input-6-7849251a473a>\"\u001b[0;36m, line \u001b[0;32m8\u001b[0m\n\u001b[0;31m    print i\u001b[0m\n\u001b[0m          ^\u001b[0m\n\u001b[0;31mSyntaxError\u001b[0m\u001b[0;31m:\u001b[0m Missing parentheses in call to 'print'. Did you mean print(i)?\n"
          ]
        }
      ],
      "source": [
        "#########################\n",
        "#for 문\n",
        "\n",
        "# 몇 번 반복시킬지 그 횟수가 명확할 때 주로 사용한다.\n",
        "# for 변수 in 반복시킬 값들 :\n",
        "#       반복 실행문\n",
        "for i in [1,2,3]:\n",
        "  print i\n",
        "  "
      ]
    },
    {
      "cell_type": "code",
      "execution_count": null,
      "metadata": {
        "colab": {
          "base_uri": "https://localhost:8080/"
        },
        "id": "4eBmQt_DM5IB",
        "outputId": "db178963-31fb-46d3-f8c1-2bf0c834401f"
      },
      "outputs": [
        {
          "name": "stdout",
          "output_type": "stream",
          "text": [
            "5\n",
            "7\n"
          ]
        }
      ],
      "source": [
        "for i in range(5,8,2): #range(시작(생략가능)), 끝(미만), 스텝(생략가능))\n",
        " print(i)"
      ]
    },
    {
      "cell_type": "code",
      "execution_count": null,
      "metadata": {
        "id": "fg-oQX8nNov_"
      },
      "outputs": [],
      "source": [
        "# for에 넣을 수 없는 것들\n",
        "# set\n",
        "# dict\n",
        "# 순서와 상관 없이는 사용 가능"
      ]
    },
    {
      "cell_type": "code",
      "execution_count": null,
      "metadata": {
        "colab": {
          "base_uri": "https://localhost:8080/"
        },
        "id": "a49gpt-7ONxV",
        "outputId": "ea5afac2-dd4f-4ea6-b356-3d1418ddbe37"
      },
      "outputs": [
        {
          "name": "stdout",
          "output_type": "stream",
          "text": [
            "비밀번호를 입력asd2t\n",
            "사용가능한 비밀번호\n"
          ]
        }
      ],
      "source": [
        "pw =  input(\"비밀번호를 입력\")\n",
        "ch_count = 0\n",
        "no_count = 0\n",
        "\n",
        "for ch in pw:\n",
        "  if ch.isalpha():\n",
        "    ch_count += 1\n",
        "\n",
        "  elif ch.isnumeric():\n",
        "    no_count += 1\n",
        "\n",
        "if ch_count > 0 and no_count > 0:\n",
        "  print(\"사용가능한 비밀번호\")\n",
        "else:\n",
        "  print(\"사용불가능\")"
      ]
    },
    {
      "cell_type": "code",
      "execution_count": null,
      "metadata": {
        "id": "cwyOvqhpRg9o"
      },
      "outputs": [],
      "source": [
        "# #range ([start], stop, [step])[생략가능1\n",
        "# 1. 숫자들을 컬렉션으로 만든다.\n",
        "# 2. strart를 생략하면 0부터 시작\n",
        "# 3. stop은 생략할 수 없다.\n",
        "# 4. step을 생략하면 1씩 증가한다]"
      ]
    },
    {
      "cell_type": "code",
      "execution_count": null,
      "metadata": {
        "colab": {
          "base_uri": "https://localhost:8080/"
        },
        "id": "JxBgYNSPWst7",
        "outputId": "2ba6045a-ad57-4f1b-9a80-05ad6e43e31d"
      },
      "outputs": [
        {
          "name": "stdout",
          "output_type": "stream",
          "text": [
            "계산할 구구단 입력3\n",
            "3 x 1 = 3\n",
            "3 x 2 = 6\n",
            "3 x 3 = 9\n",
            "3 x 4 = 12\n",
            "3 x 5 = 15\n",
            "3 x 6 = 18\n",
            "3 x 7 = 21\n",
            "3 x 8 = 24\n",
            "3 x 9 = 27\n"
          ]
        }
      ],
      "source": [
        "dan = int(input(\"계산할 구구단 입력\"))\n",
        " \n",
        "for i in range(1,10,1):\n",
        "  print(f'{dan} x {i} = {dan*i}')"
      ]
    },
    {
      "cell_type": "code",
      "execution_count": null,
      "metadata": {
        "colab": {
          "base_uri": "https://localhost:8080/"
        },
        "id": "M_e9R7h1YqP_",
        "outputId": "447d55ac-464f-4af1-a77c-ce41b8ae83a3"
      },
      "outputs": [
        {
          "name": "stdout",
          "output_type": "stream",
          "text": [
            "name\n",
            "age\n",
            "에밀리\n",
            "20\n"
          ]
        }
      ],
      "source": [
        "#dict\n",
        "person = {\n",
        "    'name' : '에밀리',\n",
        "    'age':'20'\n",
        "}\n",
        "\n",
        "for i in person :\n",
        "  print(i)\n",
        "for i in person :\n",
        "  print(person[i])"
      ]
    },
    {
      "cell_type": "code",
      "execution_count": null,
      "metadata": {
        "colab": {
          "base_uri": "https://localhost:8080/"
        },
        "id": "2wLNfmSEZN8L",
        "outputId": "aa1f436d-79a8-4d13-fe17-7ad3c125abf4"
      },
      "outputs": [
        {
          "name": "stdout",
          "output_type": "stream",
          "text": [
            "정수입력23\n",
            "276\n"
          ]
        }
      ],
      "source": [
        "#그 수까지의 모든 합계\n",
        "put = int(input(\"정수입력\"))\n",
        "sum = 0\n",
        "for i in range(1,put+1):\n",
        "  sum = sum + i\n",
        "  \n",
        "print(sum)"
      ]
    },
    {
      "cell_type": "code",
      "execution_count": null,
      "metadata": {
        "colab": {
          "base_uri": "https://localhost:8080/"
        },
        "id": "P7uR9y4wau6d",
        "outputId": "d43f3aa4-0673-4f4a-bef4-b0c573ed8b9b"
      },
      "outputs": [
        {
          "name": "stdout",
          "output_type": "stream",
          "text": [
            "몇개의 과일 저장? 3\n",
            "i번째 과일을 입력하세요바나나\n",
            "i번째 과일을 입력하세요사과\n",
            "i번째 과일을 입력하세요배\n",
            "['바나나', '사과', '배']\n"
          ]
        }
      ],
      "source": [
        "put = int(input(\"몇개의 과일 저장? \"))\n",
        "f=[]\n",
        "for i in range(1,put+1):\n",
        "  fr = input('i번째 과일을 입력하세요')\n",
        "  f.append(fr)\n",
        "print(f)"
      ]
    },
    {
      "cell_type": "code",
      "execution_count": null,
      "metadata": {
        "colab": {
          "base_uri": "https://localhost:8080/"
        },
        "id": "BajxrkdWctjx",
        "outputId": "04f96d60-f1d4-4416-d991-3440bb8bafe8"
      },
      "outputs": [
        {
          "output_type": "stream",
          "name": "stdout",
          "text": [
            "1\t2\t3\t4\t5\t6\t7\t8\t9\t10\n",
            "11\t12\t13\t14\t15\t16\t17\t18\t19\t20\n",
            "21\t22\t23\t24\t25\t26\t27\t28\t29\t30\n",
            "31\t32\t33\t34\t35\t36\t37\t38\t39\t40\n",
            "41\t42\t43\t44\t45\t46\t47\t48\t49\t50\n",
            "51\t52\t53\t54\t55\t56\t57\t58\t59\t60\n",
            "61\t62\t63\t64\t65\t66\t67\t68\t69\t70\n",
            "71\t72\t73\t74\t75\t76\t77\t78\t79\t80\n",
            "81\t82\t83\t84\t85\t86\t87\t88\t89\t90\n",
            "91\t92\t93\t94\t95\t96\t97\t98\t99\t100\n"
          ]
        }
      ],
      "source": [
        "for i in range(1,101):\n",
        "  if i %10 != 0:\n",
        "    if......ahfmrpTDj\n",
        "    print(i ,end='\\t')\n",
        "  else:\n",
        "    print(i)"
      ]
    },
    {
      "cell_type": "code",
      "execution_count": null,
      "metadata": {
        "id": "8-gzMfiMdsSk"
      },
      "outputs": [],
      "source": [
        ""
      ]
    }
  ],
  "metadata": {
    "colab": {
      "collapsed_sections": [],
      "name": "practice220127.ipynb",
      "provenance": [],
      "authorship_tag": "ABX9TyMHyffhuT7G9njzLoQyxGj9",
      "include_colab_link": true
    },
    "kernelspec": {
      "display_name": "Python 3",
      "name": "python3"
    },
    "language_info": {
      "name": "python"
    }
  },
  "nbformat": 4,
  "nbformat_minor": 0
}