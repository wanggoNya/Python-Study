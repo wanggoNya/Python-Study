{
 "cells": [
  {
   "cell_type": "code",
   "execution_count": null,
   "metadata": {},
   "outputs": [],
   "source": [
    "# 1. 알고리즘이란\n",
    "# - 문제나 과제를 해결하기 위한 처리 절차를 구체적인 순서로 표현한 아이디어 또는 생각\n",
    "# - 알고리즘 자체는 일상생활에서도 많이 이미 사용하고 있다.\n",
    "# - 요리의 레시피, 음악의 악보, 가전제품 사용설명서 등\n",
    "# - 문자, 기호, 일러스트 등으로 나타낸다.\n",
    "\n",
    "# 2. 알고리즘과 프로그램\n",
    "# - 알고리즘을 프로그래밍 언어로 기술하면 프로그램이 된다.\n",
    "# - 프로그래밍 언어(파이썬, 자바, 씨...)는 컴퓨터에 지시하기 위한 인공 언어이다.\n",
    "\n",
    "# 3. 프로그램 작성에서의 알고리즘\n",
    "# - 프로그램 작성은 기획, 설계(*), 프로그래밍, 디버그 로 진행한다\n",
    "# - 알고리즘은 설계 단계에서 필요하다.\n",
    "\n",
    "# 4. 좋은 알고리즘이란 ??\n",
    "# - 알기쉽다. (쉬운이해)\n",
    "# - 속도가 빠르다.\n",
    "# - 효율적이다. (메모리를 작게 사용한다)\n",
    "# - 재이용이 쉽다. (객체지향 프로그래밍)\n",
    "\n",
    "# 5. 왜 알고리즘을 공부해야 하나\n",
    "# - 좋은 프로그램을만들기위해 (빠르고, 효율적, 범용성)\n",
    "# - 프로그램의 좋고 나쁨을 판단하기 위해\n",
    "# - 프로그램 작성 과정 전체를 효율화하기 위해\n",
    "# - 프로그램 기술을 향상시키기 위해\n",
    "\n",
    "# 6. 알고리즘의 조건\n",
    "# - 정확한 결과를 얻을 수 있어야 한다.\n",
    "#   (알고리즘은 문제나 과제를 해결하기 위한)\n",
    "# - 반드시 종료되어야 한다.\n",
    "#   (중간 처리나 절차가 잘못 만들어지면 영원히 끝나지 않는다.)\n",
    "\n",
    "# 7. 알고리즘의 기본형 3가지\n",
    "# - 순차 구조 : 처음부터 순서대로 처리하는 절차\n",
    "#   예 > 심부름\n",
    "#   1) 슈퍼마켓에 간다.\n",
    "#   2) 라면을 산다.\n",
    "#   3) 집으로 돌아온다.\n",
    "#   실행을 원하는 처리를 위로부터 순서대로 작성한다.\n",
    "#   알고리즘 중에서도 가장 많이 사용한다.\n",
    "# - 선택 구조 : 조건식으로 판단해 실행할 절차를 전환하는 구조\n",
    "# - 반복 구조 : 조건을 만족하는 동안 같은 처리를 반복하는 절차"
   ]
  },
  {
   "cell_type": "markdown",
   "metadata": {},
   "source": [
    "![](./images/순차선택반복.png)"
   ]
  },
  {
   "cell_type": "code",
   "execution_count": null,
   "metadata": {},
   "outputs": [],
   "source": [
    "# 의사코드 pseudo code\n",
    "# 1. 순차 구조\n",
    "# - 슈퍼마켓에 간다.\n",
    "# - 라면을 산다.\n",
    "# - 집으로 돌아온다.\n",
    "\n",
    "# 2. 선택 구조\n",
    "# - 슈퍼마켓에 간다\n",
    "# - 라면이 있나?\n",
    "#     라면을 산다\n",
    "#     ==========\n",
    "#     떡을 산다\n",
    "# - 집으로 돌아온다\n",
    "\n",
    "# 3. 반복 구조\n",
    "# - 슈퍼마켓에 간다\n",
    "# - 라면이 있나?\n",
    "#     라면을 산다\n",
    "#     ==========\n",
    "#     떡을 산다\n",
    "\n",
    "#     거스름 돈이 500원보다 많다\n",
    "#         - 붕어빵을 산다.\n",
    "#     집으로 돌아온다."
   ]
  },
  {
   "cell_type": "code",
   "execution_count": null,
   "metadata": {},
   "outputs": [],
   "source": [
    "# 1 삼각형의 면적을 계산하는 알고리즘\n",
    "# 삼각형의 면적 = 밑변 * 높이 / 2\n",
    "\n",
    "# 의사코드로 작성\n",
    "\n",
    "# - 밑변과 높이를 입력\n",
    "# - area <- base * height /2\n",
    "# - area 출력\n",
    "\n",
    "#  플로우 차트로 작성 ``"
   ]
  },
  {
   "cell_type": "markdown",
   "metadata": {},
   "source": [
    "![](./images/삼각형면적.png)"
   ]
  },
  {
   "cell_type": "code",
   "execution_count": 2,
   "metadata": {},
   "outputs": [
    {
     "name": "stdout",
     "output_type": "stream",
     "text": [
      "1.0\n"
     ]
    }
   ],
   "source": [
    "b = int(input(\"밑변 입력\"))\n",
    "h = int(input(\"높이 입력\"))\n",
    "a = (b * h)/2\n",
    "print(a)"
   ]
  },
  {
   "cell_type": "code",
   "execution_count": 1,
   "metadata": {},
   "outputs": [
    {
     "name": "stdout",
     "output_type": "stream",
     "text": [
      "hello\n"
     ]
    }
   ],
   "source": [
    "# 두수의 비교\n",
    "\n",
    "a = 3\n",
    "b = 2\n",
    "\n",
    "if a>b:\n",
    "  print('a가 큽니다.')\n",
    "elif a<b:\n",
    "  print('b가 큽니다.')\n",
    "else:\n",
    "  print('a와 b는 같습니다')"
   ]
  },
  {
   "cell_type": "markdown",
   "metadata": {},
   "source": [
    "![](./images/두수비교.png)"
   ]
  }
 ],
 "metadata": {
  "interpreter": {
   "hash": "c7403ed3ec6f0476861331df1418e20bce1800c5ae35bc49552f92e0b1f2e90a"
  },
  "kernelspec": {
   "display_name": "Python 3.9.10 64-bit (windows store)",
   "language": "python",
   "name": "python3"
  },
  "language_info": {
   "codemirror_mode": {
    "name": "ipython",
    "version": 3
   },
   "file_extension": ".py",
   "mimetype": "text/x-python",
   "name": "python",
   "nbconvert_exporter": "python",
   "pygments_lexer": "ipython3",
   "version": "3.9.7"
  },
  "orig_nbformat": 4
 },
 "nbformat": 4,
 "nbformat_minor": 2
}
