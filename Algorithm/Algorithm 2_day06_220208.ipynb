{
 "cells": [
  {
   "cell_type": "code",
   "execution_count": 1,
   "metadata": {},
   "outputs": [
    {
     "name": "stdout",
     "output_type": "stream",
     "text": [
      "a= 1\n",
      "b= 2\n",
      "a= 2\n",
      "b= 1\n",
      "a= 1\n",
      "b= 2\n"
     ]
    }
   ],
   "source": [
    "# 두 변수의 데이터를 교환 #\n",
    "\n",
    "a = 1\n",
    "b = 2\n",
    "print('a=', a)\n",
    "print('b=', b)\n",
    "\n",
    "t = a #파이썬 말고 다른 언어는 임시 변수 사용해야함\n",
    "a = b\n",
    "b = t\n",
    "print('a=', a)\n",
    "print('b=', b)\n",
    "\n",
    "a, b = b, a #파이썬 스타일\n",
    "\n",
    "print('a=', a)\n",
    "print('b=', b)"
   ]
  },
  {
   "cell_type": "markdown",
   "metadata": {},
   "source": [
    "![](./images/두수데이터교환.png)"
   ]
  },
  {
   "cell_type": "code",
   "execution_count": null,
   "metadata": {},
   "outputs": [],
   "source": [
    "# # 합계값을 계산하는 알고리즘\n",
    "\n",
    "# 첨자 index 0 1 2 3 4\n",
    "# 데이터 12 13 11 14 10 \n",
    "\n",
    "# 데이터들의 합계를 구하는 가장 단순한 알고리즘은 .. sum 이지만,\n",
    "\n",
    "# arr[0]+arr[1]+arr[2]+arr[3]+arr[4]\n",
    "# 로도 표현 할 수 있다.\n",
    "# 그렇지만 배열의 개수가 늘어나면 사용하기 힘들다.\n",
    "# 먼저 반복 구조로 변형하자.\n",
    "\n",
    "# arr[0] -> sum\n",
    "# sum + arr[1] -> sum\n",
    "# sum + arr[2] -> sum\n",
    "# sum + arr[3] -> sum\n",
    "# sum + arr[4] -> sum"
   ]
  },
  {
   "cell_type": "markdown",
   "metadata": {},
   "source": [
    "![](./images/합계값계산.png)"
   ]
  },
  {
   "cell_type": "code",
   "execution_count": 5,
   "metadata": {},
   "outputs": [
    {
     "name": "stdout",
     "output_type": "stream",
     "text": [
      "60\n"
     ]
    }
   ],
   "source": [
    "arr = [12, 13, 11, 14, 10]\n",
    "\n",
    "sum = 0\n",
    "\n",
    "for i in arr:\n",
    "  sum = sum + i\n",
    "\n",
    "print(sum)"
   ]
  },
  {
   "cell_type": "code",
   "execution_count": 7,
   "metadata": {},
   "outputs": [
    {
     "name": "stdout",
     "output_type": "stream",
     "text": [
      "14\n"
     ]
    }
   ],
   "source": [
    "# 최대값을 찾는 알고리즘\n",
    "arr = [12, 13, 11, 14, 10]\n",
    "max = 0\n",
    "for i in arr:\n",
    "    if i > max:\n",
    "        max = i\n",
    "print (max)"
   ]
  },
  {
   "cell_type": "markdown",
   "metadata": {},
   "source": [
    "![](./images/최대값.png)"
   ]
  },
  {
   "cell_type": "code",
   "execution_count": null,
   "metadata": {},
   "outputs": [],
   "source": [
    "# 유명한 알고리즘\n",
    "# 기본적인 처리 절차를 가지고 있는 좋은 알고리즘이다.\n",
    "# 좋은 프로그램을 만들기 위한 사고방식이나 힌트나 많이 포함되어 있다.\n",
    "# 유명한 알고리즘을 학습하는 것은 프로그래밍 기술 향상에 커다란 도움이 된다.\n",
    "\n",
    "# 탐색 search\n",
    "# Linear Search 선형 탐색법 - 앞에서부터 순서대로 찾는다.\n",
    "# Binary Search 이진 탐색법 - 범위를 절반식 주여서 찾는다. 단, 데이터가 정렬이 되어 이어야한다.\n",
    "# Hash Search 해시 탐색법 - 검색 즉시 찾는다. 단, 저장할 때 가공해서 저장한다.\n",
    "\n",
    "# 정렬 Sort\n",
    "# Selection Sort 단순 선택법 - 최소 / 최대값을 선택하여 앞/뒤부터 순서대로 나열\n",
    "# Bubble sort 단순 교환법 - 옆에 있는 데이터를 교환하면서 자리를 바꾼다.\n",
    "# Insertion Sort 단순 삽입법 - 데ㅣ터를 올바른 위치에 삽입하면서 자리를 바꾼다.\n",
    "# Quick Sort 퀵정렬 - 기준 데이터를 기반으로 대소 분할을 반복하여 자리를 바꾼다.\n",
    "\n",
    "# 에라토스테네스의 체 Sieve of Eratosthenes - 소수 구하는 알고리즘\n",
    "# 유클리드 알고리즘 - 최대 공약수를 구하는 알고리즘"
   ]
  },
  {
   "cell_type": "code",
   "execution_count": 9,
   "metadata": {},
   "outputs": [
    {
     "name": "stdout",
     "output_type": "stream",
     "text": [
      "3\n"
     ]
    }
   ],
   "source": [
    "# Linear Search 선형 탐색법\n",
    "\n",
    "# 보관된 데이터를 맨 앞으로 순서대로 원하는 값을 찾을 때까지 탐색한다.\n",
    "# 탐색 처리는 반복 구조를 사용하여 기술한다.\n",
    "# 반복 구조에서는 종료 조건을 잊지 말자.\n",
    "\n",
    "# 첨자 (방번호) 0 1 2 3 4\n",
    "# 데이터        4 2 3 5 1 찾을 데이터 : 5\n",
    "\n",
    "arr = [4,2,3,5,1]\n",
    "for i in range(0,5):\n",
    "    if arr[i] == 5:\n",
    "        print(i '번째 요소가 일치')\n",
    "        break\n",
    "    else:\n",
    "        i += 1\n"
   ]
  },
  {
   "cell_type": "markdown",
   "metadata": {},
   "source": [
    "![](./images/선형탐색법.png)"
   ]
  },
  {
   "cell_type": "code",
   "execution_count": 13,
   "metadata": {},
   "outputs": [
    {
     "name": "stdout",
     "output_type": "stream",
     "text": [
      "못찾음\n",
      "None\n"
     ]
    }
   ],
   "source": [
    "def linear_search(no, list):\n",
    "    for i in range(len(list)):\n",
    "        if no == list[i]:\n",
    "            print(i,'번째 요소가 일치')\n",
    "            return\n",
    "    print('못찾음')\n",
    "    return\n",
    "print(linear_search(5,[4,2,3,6,1]))"
   ]
  },
  {
   "cell_type": "code",
   "execution_count": null,
   "metadata": {},
   "outputs": [],
   "source": [
    "# Binary Search 이진 탐색법\n",
    "\n",
    "# 이진 탐색법은 탐색하는 범위를 절반씩 줄여서 탐색하는 방법이다.\n",
    "# 데이터들이 먼저 오름차순이나 내림차순으로 정렬되어 있어야만 쓸 수 있다.\n",
    "\n",
    "# 11, 13, 17 19, 23, 29 ,31 <- 찾는 값은 17\n",
    "\n",
    "# 0 1 2 3 4 5 6 제일 가운데 있는 3번을 열어본다\n",
    "#       --\n",
    "#       19 <==== 찾고 있는 17이 아니다.\n",
    "\n",
    "# 0 1 2\n",
    "#   --\n",
    "#   13 <==== 찾고 있는 17이 아니다.\n",
    "\n",
    "# 2\n",
    "# --\n",
    "# 17 <==== 찾고 있는 17을 발견\n",
    "\n",
    "# #이진 탐색법의 알고리즘\n",
    "# 1. 가운데 요소를 선택\n",
    "# 2. 가운데 요소의 데이터와 찾는 데이터를 비교\n",
    "# 3. 탐색 범위를 절반으로 줄이는 처리"
   ]
  },
  {
   "cell_type": "markdown",
   "metadata": {},
   "source": [
    "![](./images/이진탐색법.png)"
   ]
  }
 ],
 "metadata": {
  "interpreter": {
   "hash": "513dc2e41d739bb2c947903f3c0bbf636d03aa53ab50e61c694a27481c81805e"
  },
  "kernelspec": {
   "display_name": "Python 3.9.7 ('base')",
   "language": "python",
   "name": "python3"
  },
  "language_info": {
   "codemirror_mode": {
    "name": "ipython",
    "version": 3
   },
   "file_extension": ".py",
   "mimetype": "text/x-python",
   "name": "python",
   "nbconvert_exporter": "python",
   "pygments_lexer": "ipython3",
   "version": "3.9.7"
  },
  "orig_nbformat": 4
 },
 "nbformat": 4,
 "nbformat_minor": 2
}
