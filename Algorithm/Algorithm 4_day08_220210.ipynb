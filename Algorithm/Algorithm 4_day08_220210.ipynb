{
 "cells": [
  {
   "cell_type": "code",
   "execution_count": null,
   "metadata": {},
   "outputs": [],
   "source": [
    "############\n",
    "# 정렬 알고리즘 sort algorithms\n",
    "\n",
    "# 데이터를 오름차순 또는 내림차순으로 나열하는 알고리즘\n",
    "# 검색엔진 엑셀, 워드,, 이미 많이 사용 중"
   ]
  },
  {
   "cell_type": "code",
   "execution_count": null,
   "metadata": {},
   "outputs": [],
   "source": [
    "# 단순 선택법 - 정렬되지 않은 데이터 중 가장 작은 데이터를 선택하여 맨 앞부터 순서대로\n",
    "#               정렬해 나가는 알고리즘이다. 선택정렬, 선택법, 단순 선택법"
   ]
  },
  {
   "cell_type": "code",
   "execution_count": null,
   "metadata": {},
   "outputs": [],
   "source": [
    "0   1   2   3   4\n",
    "12  13  11  14  10\n",
    "\n",
    "12  13  11  14  10\n",
    "                __\n",
    "                먼저 가장 작은 숫자의 공을 첫번째 공과 교환한다.\n",
    "12  13  11  14  10\n",
    "__              __\n",
    "\n",
    "10              13  11  14  12\n",
    "                    __\n",
    "\n",
    "10  11          13  14  12\n",
    "                        __\n",
    "10  11  12      14  13\n",
    "                    __\n",
    "10  11  12  13  14 <= 정렬 끝\n",
    "\n",
    "# 단순선택법 알고리즘\n",
    "\n",
    "1 탐색 범위에서 최소값을 찾는 처리\n",
    "2 탐색 범위의 맨 앞 요소와 최소값을 교환하는 처리\n"
   ]
  },
  {
   "cell_type": "markdown",
   "metadata": {},
   "source": [
    "![](./images/정렬-단순선택.png)"
   ]
  },
  {
   "cell_type": "code",
   "execution_count": null,
   "metadata": {},
   "outputs": [],
   "source": [
    "# 잠정적인 최소값의 인덱스를 저장하는 변수 indexMin 을 준비한다. \n",
    "# 그때그때 마다의 최소값의 첨자를 저장할 변수 indexMin를 만든다. \n",
    "\n",
    "# arr[indexMin] 와 요소들의 비교처리는 같은 절차의 반복이다. i  는 0에서 4까지 순차적으로\n",
    "# 변하면서 반복된다. 이 변하는 구조의 첨자는 변수 k로 나타내 보자. \n",
    "# k의 초기값은 1 최대 4까지이다. "
   ]
  },
  {
   "cell_type": "markdown",
   "metadata": {},
   "source": [
    "![](./images/정렬-단순선택2.png)"
   ]
  },
  {
   "cell_type": "code",
   "execution_count": null,
   "metadata": {},
   "outputs": [],
   "source": [
    "# 잠정 최소값과 비교하는 요소의 첨자를 변수 k로 치환하여 반복 구조로 만들었다. \n",
    "# 이대로라면 k에 무한루프가 발생된다. 반복 구조는 언제나 종료 조건이 필수이다. \n",
    "\n",
    "# i 가 0일때 k는 1부터 4까지 변하게 된다. k는 5가되는일은 절대 없다. 따라서\n",
    "# 종료 조건은 k < 5으로 설계한다. \n"
   ]
  },
  {
   "cell_type": "markdown",
   "metadata": {},
   "source": [
    "![](./images/정렬-단순선택3.png)"
   ]
  },
  {
   "cell_type": "code",
   "execution_count": null,
   "metadata": {},
   "outputs": [],
   "source": [
    "# 최소값과 arr[i]의 데이터를 교환"
   ]
  },
  {
   "cell_type": "markdown",
   "metadata": {},
   "source": [
    "![](./images/정렬-단순선택최종.png)"
   ]
  },
  {
   "cell_type": "code",
   "execution_count": null,
   "metadata": {},
   "outputs": [],
   "source": [
    "###############################################\n",
    "# 단순 교환법 Bubble Sort\n",
    "###############################################\n",
    "# 인접한 데이터를 교환하는 처리를 반복한다. \n",
    "\n",
    "# 0    1    2    3    4 index\n",
    "# 5    3    4    1    2 data\n",
    "\n",
    "\n",
    "# 5    3    4    1    2     이미 정렬이 된 상태임에 따라 정렬할 필요가 없다. \n",
    "#                 --    --\n",
    "\n",
    "# 5    3    4    1    2     정렬이 되지 않은 상태임에 따라 교환한다. \n",
    "#           --    --\n",
    "\n",
    "# 5    3    1    4    2      정렬이 되지 않은 상태임에 따라 교환한다. \n",
    "#      --   --      \n",
    "\n",
    "# 5    1    3    4    2      정렬이 되지 않은 상태임에 따라 교환한다. \n",
    "# --   --\n",
    "\n",
    "# 1 |  5     3    4    2     1은 정렬이 완전히 끝난 상태로 확정되었다. \n",
    "\n",
    "# 1 |  5     3    2    4\n",
    "\n",
    "# 1 |  5     2    3    4\n",
    "\n",
    "# 1    2  |   5    3    4    2는 정렬이 완전히 끝난 상태로 확정되었다. \n",
    "\n",
    "# 1    2  |   5    3    4 \n",
    "\n",
    "# 1    2      3  |  5    4   3은 정렬이 완전히 끝난 상태로 확정되었다. \n",
    "\n",
    "# 1    2      3     4  |  5  모든 정렬이 완전히 이루어 졌다. \n"
   ]
  },
  {
   "cell_type": "code",
   "execution_count": null,
   "metadata": {},
   "outputs": [],
   "source": [
    "# 단순 교환법 bubble sort 알고리즘\n",
    "\n",
    "# 1. 오른쪽 끝부터 순서대로 인접한 공 2개를 오름차순 정렬한다.\n",
    "# 2. 왼쪽 끝 칸 부터 순서대로 들어갈 공을 확정시켜 나간다.  \n",
    "\n",
    "\n",
    "# 0    1    2    3    4 index\n",
    "# 5    3    4    1    2 data\n",
    "\n",
    "오른쪽 끝 인접한 공 2개\n",
    "오른쪽 요소 i        arr[i]\n",
    "왼쪽 요소    i-1     arr[i-1]\n",
    "\n",
    "정렬이 이미 되어있는 상태인지의 여부를 확인하려면\n",
    "     '왼쪽 요소가 오른쪽 요소보다 작은가??'\n",
    "                      arr[i-1] < arr[i]\n",
    "\n",
    "                      "
   ]
  },
  {
   "cell_type": "markdown",
   "metadata": {},
   "source": [
    "![](./images/정렬-단순교환.png)"
   ]
  },
  {
   "cell_type": "markdown",
   "metadata": {},
   "source": [
    "![](./images/정렬-단순교환2.png)"
   ]
  },
  {
   "cell_type": "code",
   "execution_count": null,
   "metadata": {},
   "outputs": [],
   "source": [
    "# 여기까지는 순조롭게 비교와 교환처리가 진행된다. \n",
    "# 마지막에  i - 1 이 0 이 되고 i 가 1이 되면\n",
    "# 이미 확정된 arr[0]과 arr[1] 을 비교하게 된다. 이것은 쓸데 없는 낭비가 된다. \n",
    "# 그러면 어디를 수정해야 할까....     i > 0 조건식이 문제로 보인다. \n",
    "# 따라서 ....\n",
    "# arr[1]를 확정하는 반복 처리부터는 i>0를 i>1로 바꾸어야 한다.\n",
    "# 반복할 때마다, i>0, i>1, i>2 처럼 늘려가야한다\n",
    "# 변수 k로 표현하여 k의 초기값은 0부터 시작한다."
   ]
  },
  {
   "cell_type": "markdown",
   "metadata": {},
   "source": [
    "![](./images/정렬-단순교환법최종.png)"
   ]
  },
  {
   "cell_type": "code",
   "execution_count": null,
   "metadata": {},
   "outputs": [],
   "source": []
  }
 ],
 "metadata": {
  "interpreter": {
   "hash": "513dc2e41d739bb2c947903f3c0bbf636d03aa53ab50e61c694a27481c81805e"
  },
  "kernelspec": {
   "display_name": "Python 3.9.7 ('base')",
   "language": "python",
   "name": "python3"
  },
  "language_info": {
   "name": "python",
   "version": "3.9.7"
  },
  "orig_nbformat": 4
 },
 "nbformat": 4,
 "nbformat_minor": 2
}
