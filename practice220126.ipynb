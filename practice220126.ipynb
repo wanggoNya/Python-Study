{
  "nbformat": 4,
  "nbformat_minor": 0,
  "metadata": {
    "colab": {
      "name": "practice220126",
      "provenance": [],
      "collapsed_sections": [],
      "authorship_tag": "ABX9TyPHt/W9GRvVMJ7ESJT4+9L0",
      "include_colab_link": true
    },
    "kernelspec": {
      "name": "python3",
      "display_name": "Python 3"
    },
    "language_info": {
      "name": "python"
    }
  },
  "cells": [
    {
      "cell_type": "markdown",
      "metadata": {
        "id": "view-in-github",
        "colab_type": "text"
      },
      "source": [
        "<a href=\"https://colab.research.google.com/github/wanggoNya/ai/blob/main/practice220126.ipynb\" target=\"_parent\"><img src=\"https://colab.research.google.com/assets/colab-badge.svg\" alt=\"Open In Colab\"/></a>"
      ]
    },
    {
      "cell_type": "code",
      "execution_count": 2,
      "metadata": {
        "colab": {
          "base_uri": "https://localhost:8080/"
        },
        "id": "sykZgHa-vD-3",
        "outputId": "56c55bf7-0cf3-403c-b3aa-a8a0a25ae1c2"
      },
      "outputs": [
        {
          "output_type": "stream",
          "name": "stdout",
          "text": [
            "r\n",
            "d\n",
            "d\n",
            "2\n",
            "강남구\n",
            "좋은 저녁 입니다.\n",
            "좋은 저녁 입니다,\n",
            "좋은 저녁 입니다,\n",
            "좋은 저녁 입니다,\n"
          ]
        }
      ],
      "source": [
        "##복습\n",
        "#comment 주석 - 코드에 대한 설명, 컴퓨터는 읽지 않고 사람만 읽는 내용,\n",
        "#         또 다른 용법으로는코드를 임시로 실행하지 않고, 감추고 에러를 확인\n",
        "#         본인이 기록한 내용을 나중에 확인할 때 도 다른 팀원이 작성한 내용을\n",
        "#         파악하기 용이하게 만든다.\n",
        "\n",
        "# 변수 Variable\n",
        "# 어떤 값을 저장하는 저장소\n",
        "# 숫자가 먼저오면 안되며, 언더바는 가능, 한글은 되도록 안 쓸 것.\n",
        "stumathsum = 350\n",
        "stu_math_sum = 350 # 스네이크 케이스\n",
        "StuMathSum = 350 # 캐멀 케이스\n",
        "\n",
        "# 인덱싱 (슬라이싱)\n",
        "s = 'world'\n",
        "print(s[2]) # 파이썬 : 인덱싱 시작이 0\n",
        "print(s[-1])\n",
        "print(s[4])\n",
        "\n",
        "ss = '900101-2345677'\n",
        "print(ss[7]) # 하나만 추출할 때는 indexing\n",
        "addr = '서울시 강남구 역삼동 1번지'\n",
        "print(addr[4:7])\n",
        "\n",
        "# print\n",
        "when = '저녁'\n",
        "print('좋은', when, '입니다.')\n",
        "when = '저녁'\n",
        "print('좋은 %s 입니다,' % when)\n",
        "print('좋은 {} 입니다,' .format(when))\n",
        "print(f'좋은 {when} 입니다,')"
      ]
    },
    {
      "cell_type": "code",
      "source": [
        "#리스트\n",
        "\n",
        "list = [1,2,3,4,5]\n",
        "print(list)\n",
        "score = [80,90,70,60]\n",
        "print(score)\n",
        "\n",
        "print(score[0])\n",
        "print(score[0:2])\n",
        "\n",
        "score[0] = 100\n",
        "print([score])\n",
        "score[-1] = 100 #-1은 맨 마지막 번호\n",
        "print([score])\n",
        "#score[4] = 100 # indexerror 아주 많이 접하게 될 에러(예외)\n",
        "\n",
        "#리스트의 연산\n",
        "list_a = [1,2,3]\n",
        "list_b = [4,5,6]\n",
        "print('list_a = ', list_a)\n",
        "print('list_b = ', list_b)\n",
        "print(list_a + list_b)\n",
        "print(list_a  *3)\n",
        "print(len(list_a))\n"
      ],
      "metadata": {
        "colab": {
          "base_uri": "https://localhost:8080/"
        },
        "id": "YdZdOXA3vPyn",
        "outputId": "83bd8fd7-fb51-4df8-d851-798a96a9d89a"
      },
      "execution_count": 13,
      "outputs": [
        {
          "output_type": "stream",
          "name": "stdout",
          "text": [
            "[1, 2, 3, 4, 5]\n",
            "[80, 90, 70, 60]\n",
            "80\n",
            "[80, 90]\n",
            "[[100, 90, 70, 60]]\n",
            "[[100, 90, 70, 100]]\n",
            "list_a =  [1, 2, 3]\n",
            "list_b =  [4, 5, 6]\n",
            "[1, 2, 3, 4, 5, 6]\n",
            "[1, 2, 3, 1, 2, 3, 1, 2, 3]\n",
            "3\n"
          ]
        }
      ]
    },
    {
      "cell_type": "code",
      "source": [
        "score = [80,90,70,60]\n",
        "print(score)\n",
        "score.append(60)\n",
        "print(score)\n",
        "score.append(70)"
      ],
      "metadata": {
        "colab": {
          "base_uri": "https://localhost:8080/"
        },
        "id": "hxbksq-gIuxa",
        "outputId": "f09cf202-a2f6-408c-a92b-ac0999f2f2b9"
      },
      "execution_count": 6,
      "outputs": [
        {
          "output_type": "stream",
          "name": "stdout",
          "text": [
            "[80, 90, 70, 60]\n",
            "[80, 90, 70, 60, 60]\n"
          ]
        }
      ]
    },
    {
      "cell_type": "code",
      "source": [
        "score = [80,90,70,60]\n",
        "score.insert(-1, 50)\n",
        "print(score)"
      ],
      "metadata": {
        "colab": {
          "base_uri": "https://localhost:8080/"
        },
        "id": "MoXpSqQwJYZx",
        "outputId": "50b9d1ac-452c-4e9e-d947-4ef0117fa674"
      },
      "execution_count": 9,
      "outputs": [
        {
          "output_type": "stream",
          "name": "stdout",
          "text": [
            "[80, 90, 70, 50, 60]\n"
          ]
        }
      ]
    },
    {
      "cell_type": "code",
      "source": [
        "list = []\n",
        "list.insert(0, 10)\n",
        "print(list)\n",
        "list.insert(1,50)\n",
        "print(list)"
      ],
      "metadata": {
        "colab": {
          "base_uri": "https://localhost:8080/"
        },
        "id": "cOEGkr1hKTjq",
        "outputId": "f7a76b85-5a62-41f4-d2f1-5cc63fd10e89"
      },
      "execution_count": 11,
      "outputs": [
        {
          "output_type": "stream",
          "name": "stdout",
          "text": [
            "[10]\n",
            "[10, 50]\n"
          ]
        }
      ]
    },
    {
      "cell_type": "code",
      "source": [
        "list_a = [1,2,3]\n",
        "list_a.extend([4, 5, 6])\n",
        "list_a"
      ],
      "metadata": {
        "colab": {
          "base_uri": "https://localhost:8080/"
        },
        "id": "enAycMkqKhwK",
        "outputId": "da8eb5de-07c1-4294-9c35-b922dc3e3861"
      },
      "execution_count": 14,
      "outputs": [
        {
          "output_type": "execute_result",
          "data": {
            "text/plain": [
              "[1, 2, 3, 4, 5, 6]"
            ]
          },
          "metadata": {},
          "execution_count": 14
        }
      ]
    },
    {
      "cell_type": "code",
      "source": [
        "list_a = [1,2,3]\n",
        "list_b = [4,5,6]\n",
        "print(list_a + list_b)\n",
        "print(list_a)"
      ],
      "metadata": {
        "colab": {
          "base_uri": "https://localhost:8080/"
        },
        "id": "jF2IbRYqKu7Z",
        "outputId": "96738bbd-967b-474b-c80e-505bcf386543"
      },
      "execution_count": 15,
      "outputs": [
        {
          "output_type": "stream",
          "name": "stdout",
          "text": [
            "[1, 2, 3, 4, 5, 6]\n",
            "[1, 2, 3]\n"
          ]
        }
      ]
    },
    {
      "cell_type": "code",
      "source": [
        "list_a = [0,1,2,3,4,5]\n",
        "del list_a[1] #1index 값으로 위치값 삭제\n",
        "del list_a[1:3]\n",
        "del list_a[:]\n",
        "list_a"
      ],
      "metadata": {
        "colab": {
          "base_uri": "https://localhost:8080/"
        },
        "id": "KKvo_HLKMXT2",
        "outputId": "bb5ade2c-bcb3-48f7-9cae-863c174df39f"
      },
      "execution_count": 22,
      "outputs": [
        {
          "output_type": "execute_result",
          "data": {
            "text/plain": [
              "[]"
            ]
          },
          "metadata": {},
          "execution_count": 22
        }
      ]
    },
    {
      "cell_type": "code",
      "source": [
        "list_a.pop()\n",
        "list_a\n",
        "\n",
        "list_a.pop(1)\n",
        "list_a"
      ],
      "metadata": {
        "colab": {
          "base_uri": "https://localhost:8080/",
          "height": 242
        },
        "id": "4sLltxtZNEgK",
        "outputId": "341d98a2-51d6-4276-f3bb-b6c8b199ef61"
      },
      "execution_count": 23,
      "outputs": [
        {
          "output_type": "error",
          "ename": "IndexError",
          "evalue": "ignored",
          "traceback": [
            "\u001b[0;31m---------------------------------------------------------------------------\u001b[0m",
            "\u001b[0;31mIndexError\u001b[0m                                Traceback (most recent call last)",
            "\u001b[0;32m<ipython-input-23-f400c41cb7ba>\u001b[0m in \u001b[0;36m<module>\u001b[0;34m()\u001b[0m\n\u001b[0;32m----> 1\u001b[0;31m \u001b[0mlist_a\u001b[0m\u001b[0;34m.\u001b[0m\u001b[0mpop\u001b[0m\u001b[0;34m(\u001b[0m\u001b[0;34m)\u001b[0m\u001b[0;34m\u001b[0m\u001b[0;34m\u001b[0m\u001b[0m\n\u001b[0m\u001b[1;32m      2\u001b[0m \u001b[0mlist_a\u001b[0m\u001b[0;34m\u001b[0m\u001b[0;34m\u001b[0m\u001b[0m\n\u001b[1;32m      3\u001b[0m \u001b[0;34m\u001b[0m\u001b[0m\n\u001b[1;32m      4\u001b[0m \u001b[0mlist_a\u001b[0m\u001b[0;34m.\u001b[0m\u001b[0mpop\u001b[0m\u001b[0;34m(\u001b[0m\u001b[0;36m1\u001b[0m\u001b[0;34m)\u001b[0m\u001b[0;34m\u001b[0m\u001b[0;34m\u001b[0m\u001b[0m\n\u001b[1;32m      5\u001b[0m \u001b[0mlist_a\u001b[0m\u001b[0;34m\u001b[0m\u001b[0;34m\u001b[0m\u001b[0m\n",
            "\u001b[0;31mIndexError\u001b[0m: pop from empty list"
          ]
        }
      ]
    },
    {
      "cell_type": "code",
      "source": [
        "list_c=[1,2,1,2]\n",
        "list_c.remove(2)\n",
        "print(list_c)\n",
        "#요소의 값을 찾아 삭제\n",
        "#동일한 값이 여러 개 있을 때는 하나씩 순차적으로 삭제"
      ],
      "metadata": {
        "colab": {
          "base_uri": "https://localhost:8080/"
        },
        "id": "klWTntzUOXH1",
        "outputId": "2ac912ff-e747-4cfe-828b-9d2a18708651"
      },
      "execution_count": 26,
      "outputs": [
        {
          "output_type": "stream",
          "name": "stdout",
          "text": [
            "[1, 1, 2]\n"
          ]
        }
      ]
    },
    {
      "cell_type": "code",
      "source": [
        "list = [222,434,65,123,547,876]\n",
        "print(222 in list)\n",
        "list = [222,434,65,123,547,876]\n",
        "print(221 in list)\n",
        "print(221 not in list)"
      ],
      "metadata": {
        "colab": {
          "base_uri": "https://localhost:8080/"
        },
        "id": "Ow7Gx_a2Qc4c",
        "outputId": "064444bd-f22a-41e7-ca29-f5db075b9ce5"
      },
      "execution_count": 29,
      "outputs": [
        {
          "output_type": "stream",
          "name": "stdout",
          "text": [
            "True\n",
            "False\n",
            "True\n"
          ]
        }
      ]
    },
    {
      "cell_type": "code",
      "source": [
        ""
      ],
      "metadata": {
        "id": "4Z3wEjC6RkUf"
      },
      "execution_count": null,
      "outputs": []
    }
  ]
}