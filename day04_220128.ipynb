{
 "cells": [
  {
   "cell_type": "code",
   "execution_count": 12,
   "metadata": {},
   "outputs": [
    {
     "name": "stdout",
     "output_type": "stream",
     "text": [
      "True\n",
      "\n"
     ]
    }
   ],
   "source": [
    "print(\"가방\" == \"가방\")\n",
    "print(\"가방\" )"
   ]
  },
  {
   "cell_type": "code",
   "execution_count": 22,
   "metadata": {},
   "outputs": [
    {
     "name": "stdout",
     "output_type": "stream",
     "text": [
      "0 입니다.\n"
     ]
    }
   ],
   "source": [
    "# if 조건문\n",
    "# 조건에 따라 특정 코드를 실행하거나 특정 코드를 실행하지 않게 만들고 싶을 때 사용\n",
    "# 코드의 실행 흐름을 변경시키는 것을 조건 분기라고 한다.\n",
    "num = int(input('정수를 입력하세요 >>'))\n",
    "if num > 0:\n",
    "    print('양수입니다.')\n",
    "if num < 0:\n",
    "    print('음수입니다.')\n",
    "if num == 0:\n",
    "    print('0 입니다.')"
   ]
  },
  {
   "cell_type": "code",
   "execution_count": 29,
   "metadata": {},
   "outputs": [
    {
     "name": "stdout",
     "output_type": "stream",
     "text": [
      "2022-01-28 14:33:36.428298\n",
      "2022\n",
      "1\n",
      "28\n",
      "14\n"
     ]
    }
   ],
   "source": [
    "# # 날짜 시간과 관련된 기능을 가져온다.\n",
    "# import datetime\n",
    "\n",
    "# #  현재의 날짜와 시간 구하는 함수\n",
    "# now = datetime.datetime.now()\n",
    "# print(now)\n",
    "# print(now.year)\n",
    "# print(now.month)\n",
    "# print(now.day)\n",
    "# print(now.hour)"
   ]
  },
  {
   "cell_type": "code",
   "execution_count": 38,
   "metadata": {},
   "outputs": [
    {
     "name": "stdout",
     "output_type": "stream",
     "text": [
      "현재 시각은 14 시 41 분 오후 입니다.\n"
     ]
    }
   ],
   "source": [
    "import datetime\n",
    "\n",
    "now = datetime.datetime.now() \n",
    "# 위 두줄이 나와야 현재 시각이 실시간으로 찍힘\n",
    "if now.hour <12:\n",
    "    m = \"오전\"\n",
    "if now.hour > 12:\n",
    "    m = \"오후\"\n",
    "    print(\"현재 시각은\", now.hour,'시',now.minute,'분',m,\"입니다.\")"
   ]
  },
  {
   "cell_type": "code",
   "execution_count": 55,
   "metadata": {},
   "outputs": [
    {
     "name": "stdout",
     "output_type": "stream",
     "text": [
      "이번 달은 1 월로 겨울 입니다.\n"
     ]
    }
   ],
   "source": [
    "import datetime\n",
    "\n",
    "now = datetime.datetime.now() \n",
    "# 위 두줄이 나와야 현재 시각이 실시간으로 찍힘\n",
    "if int(now.month) < 3:\n",
    "    m = \"겨울\"\n",
    "elif int(now.month) < 6:\n",
    "    m = \"봄\"\n",
    "elif int(now.month) < 9:\n",
    "    m = \"여름\"\n",
    "    \n",
    "elif int(now.month) < 12:\n",
    "    m = \"가을\"\n",
    "else:\n",
    "    m = \"겨울\"\n",
    "print(\"이번 달은\",now.month,'월로',m,'입니다.')\n"
   ]
  },
  {
   "cell_type": "code",
   "execution_count": 83,
   "metadata": {},
   "outputs": [
    {
     "name": "stdout",
     "output_type": "stream",
     "text": [
      "12\n",
      "짝수입니다.\n"
     ]
    }
   ],
   "source": [
    "n = input(\"정수를 입력하세요>> \")\n",
    "print(n)\n",
    "if (\"2\" in n[-1]) or (\"4\" in n[-1]) or (\"6\" in n[-1]) or ('8'in n[-1]) or ('0' in n[-1]):\n",
    "    print ('짝수입니다.')\n",
    "else:\n",
    "    print ('홀수입니다.')\n",
    "#pass를 이용하면 if -> 참 일 때 pass 가능"
   ]
  },
  {
   "cell_type": "code",
   "execution_count": 93,
   "metadata": {},
   "outputs": [
    {
     "ename": "TypeError",
     "evalue": "'int' object is not subscriptable",
     "output_type": "error",
     "traceback": [
      "\u001b[1;31m---------------------------------------------------------------------------\u001b[0m",
      "\u001b[1;31mTypeError\u001b[0m                                 Traceback (most recent call last)",
      "\u001b[1;32mC:\\Users\\SOOYEO~1\\AppData\\Local\\Temp/ipykernel_15432/913763405.py\u001b[0m in \u001b[0;36m<module>\u001b[1;34m\u001b[0m\n\u001b[0;32m      2\u001b[0m \u001b[0mli\u001b[0m \u001b[1;33m=\u001b[0m \u001b[1;33m[\u001b[0m\u001b[1;36m1\u001b[0m\u001b[1;33m,\u001b[0m\u001b[1;36m2\u001b[0m\u001b[1;33m,\u001b[0m\u001b[1;36m3\u001b[0m\u001b[1;33m,\u001b[0m\u001b[1;36m4\u001b[0m\u001b[1;33m,\u001b[0m\u001b[1;36m5\u001b[0m\u001b[1;33m]\u001b[0m \u001b[1;31m# collection, mutable, ordered\u001b[0m\u001b[1;33m\u001b[0m\u001b[1;33m\u001b[0m\u001b[0m\n\u001b[0;32m      3\u001b[0m \u001b[1;32mfor\u001b[0m \u001b[0mi\u001b[0m \u001b[1;32min\u001b[0m \u001b[0mli\u001b[0m\u001b[1;33m[\u001b[0m\u001b[1;36m0\u001b[0m\u001b[1;33m:\u001b[0m\u001b[1;33m]\u001b[0m\u001b[1;33m:\u001b[0m\u001b[1;33m\u001b[0m\u001b[1;33m\u001b[0m\u001b[0m\n\u001b[1;32m----> 4\u001b[1;33m     \u001b[1;32mfor\u001b[0m \u001b[0mi2\u001b[0m \u001b[1;32min\u001b[0m \u001b[0mi\u001b[0m\u001b[1;33m[\u001b[0m\u001b[1;36m0\u001b[0m\u001b[1;33m:\u001b[0m\u001b[1;33m]\u001b[0m\u001b[1;33m:\u001b[0m\u001b[1;33m\u001b[0m\u001b[1;33m\u001b[0m\u001b[0m\n\u001b[0m\u001b[0;32m      5\u001b[0m         \u001b[0mprint\u001b[0m\u001b[1;33m(\u001b[0m\u001b[0mi2\u001b[0m\u001b[1;33m,\u001b[0m \u001b[0mend\u001b[0m\u001b[1;33m=\u001b[0m\u001b[1;34m' '\u001b[0m\u001b[1;33m)\u001b[0m\u001b[1;33m\u001b[0m\u001b[1;33m\u001b[0m\u001b[0m\n",
      "\u001b[1;31mTypeError\u001b[0m: 'int' object is not subscriptable"
     ]
    }
   ],
   "source": [
    "# 리스트와 반복문\n",
    "li = [1,2,3,4,5] # collection, mutable, ordered\n",
    "for i in li[0:]:\n",
    "    for i2 in i[0:]:\n",
    "        print(i2, end=' ')\n"
   ]
  },
  {
   "cell_type": "code",
   "execution_count": 97,
   "metadata": {},
   "outputs": [],
   "source": [
    "\n",
    "# 딕셔너리와 반복문\n",
    "dict = {\n",
    "    1 : '홍길동',\n",
    "    2 : '이몽룡'\n",
    "}"
   ]
  },
  {
   "cell_type": "code",
   "execution_count": 98,
   "metadata": {},
   "outputs": [
    {
     "name": "stdout",
     "output_type": "stream",
     "text": [
      "1 홍길동\n",
      "2 이몽룡\n"
     ]
    }
   ],
   "source": [
    "for i in dict:\n",
    "    print(i, dict[i])"
   ]
  },
  {
   "cell_type": "code",
   "execution_count": null,
   "metadata": {},
   "outputs": [],
   "source": [
    "list(range(5)) # 시작을 생략하면 0 부터 5 미만, 증감값 생략하면 1씩 증가"
   ]
  },
  {
   "cell_type": "code",
   "execution_count": null,
   "metadata": {},
   "outputs": [],
   "source": [
    "# for : 반복횟수를 정확히 알고 있을 때 주로 사용\n",
    "# while : 반복횟수를 정확히 알 수 없을 때 주로 사용"
   ]
  },
  {
   "cell_type": "code",
   "execution_count": 119,
   "metadata": {},
   "outputs": [
    {
     "name": "stdout",
     "output_type": "stream",
     "text": [
      "0번째 반복\n",
      "1번째 반복\n",
      "2번째 반복\n",
      "2번째 반복\n",
      "1번째 반복\n",
      "0번째 반복\n"
     ]
    }
   ],
   "source": [
    "n = -1\n",
    "while n < 2:\n",
    "    n += 1\n",
    "    print(f'{n}번째 반복')\n",
    "\n",
    "for i in range(2,-1,-1):\n",
    "    print(f'{i}번째 반복')\n"
   ]
  },
  {
   "cell_type": "code",
   "execution_count": null,
   "metadata": {},
   "outputs": [],
   "source": []
  },
  {
   "cell_type": "code",
   "execution_count": 239,
   "metadata": {},
   "outputs": [
    {
     "name": "stdout",
     "output_type": "stream",
     "text": [
      "1\t  2\t  짝\t  4\t  5\t  짝\t  7\t  8\t  짝\t  10\n",
      "11\t  12\t  짝\t  14\t  15\t  짝\t  17\t  18\t  짝\t  20\n",
      "21\t  22\t  짝\t  24\t  25\t  짝\t  27\t  28\t  짝\t  짝\n",
      "짝\t  짝\t  짝짝\t  짝\t  짝\t  짝짝\t  짝\t  짝\t  짝짝\t  40\n",
      "41\t  42\t  짝\t  44\t  45\t  짝\t  47\t  48\t  짝\t  50\n",
      "51\t  52\t  짝\t  54\t  55\t  짝\t  57\t  58\t  짝\t  짝\n",
      "짝\t  짝\t  짝짝\t  짝\t  짝\t  짝짝\t  짝\t  짝\t  짝짝\t  70\n",
      "71\t  72\t  짝\t  74\t  75\t  짝\t  77\t  78\t  짝\t  80\n",
      "81\t  82\t  짝\t  84\t  85\t  짝\t  87\t  88\t  짝\t  짝\n",
      "짝\t  짝\t  짝짝\t  짝\t  짝\t  짝짝\t  짝\t  짝\t  짝짝\t  100\n"
     ]
    }
   ],
   "source": [
    "#369게임\n",
    "for i in range(1,101):\n",
    "    t = int(i / 10) #십의자리\n",
    "    o = int(i % 10) #일의자리\n",
    "\n",
    "    if ((t == 3) or (t == 6) or (t == 9)):\n",
    "        if ((o == 3) or (o == 6) or (o == 9)):\n",
    "            i = '짝짝'\n",
    "        else:\n",
    "            i = '짝'\n",
    "    elif ((o == 3) or (o == 6) or (o == 9)):\n",
    "        i = '짝'\n",
    "    \n",
    "    if(o == 0):\n",
    "        print(i)\n",
    "    else:\n",
    "        print(i,end=\"\\t  \")"
   ]
  },
  {
   "cell_type": "code",
   "execution_count": 139,
   "metadata": {},
   "outputs": [
    {
     "name": "stdout",
     "output_type": "stream",
     "text": [
      "0번째 반복입니다.\n",
      "1번째 반복입니다.\n",
      "2번째 반복입니다.\n",
      "반복을 종료합니다.\n"
     ]
    }
   ],
   "source": [
    "# break / continue\n",
    "# break 반복문 종료\n",
    "i = 0\n",
    "\n",
    "while True:\n",
    "    print(f'{i}번째 반복입니다.')\n",
    "    i += 1\n",
    "\n",
    "    inp = input('종료할까요(y)>>')\n",
    "    if inp in['Y','y']:\n",
    "        print('반복을 종료합니다.')\n",
    "        break"
   ]
  },
  {
   "cell_type": "code",
   "execution_count": 149,
   "metadata": {},
   "outputs": [
    {
     "name": "stdout",
     "output_type": "stream",
     "text": [
      "1\n",
      "3\n",
      "5\n",
      "7\n",
      "9\n"
     ]
    }
   ],
   "source": [
    "# continue 현재 반복을 중지, 다음 반복으로 넘어갈 때 사용\n",
    "# 전체 반복에서 부분을 빼고 실행할 때 사용\n",
    "for num in range(1,11):\n",
    "    if num % 2 == 0 :\n",
    "        continue\n",
    "    print(num) "
   ]
  },
  {
   "cell_type": "code",
   "execution_count": 178,
   "metadata": {},
   "outputs": [
    {
     "name": "stdout",
     "output_type": "stream",
     "text": [
      "0번 진구\n",
      "1번 철수\n",
      "2번 미애\n",
      "3번 형구\n",
      "4번 진수\n",
      "0번 진구\n",
      "1번 철수\n",
      "2번 미애\n",
      "3번 형구\n",
      "4번 진수\n"
     ]
    }
   ],
   "source": [
    "# enumerate()\n",
    "\n",
    "student =['진구','철수','미애','형구','진수']\n",
    "n = -1\n",
    "for i in student[0:]:\n",
    "    n+=1\n",
    "    print(f'{n}번 {i}')\n",
    "\n",
    "for n,i in enumerate(student):\n",
    "    print(f'{n}번 {i}')"
   ]
  },
  {
   "cell_type": "code",
   "execution_count": 177,
   "metadata": {},
   "outputs": [
    {
     "name": "stdout",
     "output_type": "stream",
     "text": [
      "홍길동는 185입니다.\n",
      "이몽룡는 189입니다.\n",
      "성춘향는 168입니다.\n",
      "0는 홍길동입니다.\n",
      "1는 이몽룡입니다.\n",
      "2는 성춘향입니다.\n",
      "홍길동는 185입니다.\n",
      "이몽룡는 189입니다.\n",
      "성춘향는 168입니다.\n"
     ]
    }
   ],
   "source": [
    "# items() 딕셔너리는 items() 함수를 사용하여 key와 value 값을 한 번 추출할 수 있다.\n",
    "dic = {\n",
    "    '홍길동' : 185,\n",
    "    '이몽룡' : 189,\n",
    "    '성춘향' : 168\n",
    "}\n",
    "for i in dict:\n",
    "    print(f'{i}는 {dic[i]}입니다.')\n",
    "\n",
    "for name,height in enumerate(dic):\n",
    "    print(f'{name}는 {height}입니다.')\n",
    "\n",
    "for name,height in dic.items():\n",
    "    print(f'{name}는 {height}입니다.')"
   ]
  },
  {
   "cell_type": "code",
   "execution_count": 182,
   "metadata": {},
   "outputs": [
    {
     "name": "stdout",
     "output_type": "stream",
     "text": [
      "[0, 2, 4, 6, 8, 10, 12, 14, 16, 18]\n"
     ]
    }
   ],
   "source": [
    "# #list 내포\n",
    "# array = []\n",
    "# for i in range(0,20,2):\n",
    "#     array.append(i):\n",
    "# array\n",
    "\n",
    "# 이랬던 것을\n",
    "array = [i for i in range(0,20,2)]\n",
    "print(array)\n",
    "#로 줄일 수 있다."
   ]
  },
  {
   "cell_type": "code",
   "execution_count": 186,
   "metadata": {},
   "outputs": [
    {
     "name": "stdout",
     "output_type": "stream",
     "text": [
      "['사과', '체리', '바나나']\n"
     ]
    }
   ],
   "source": [
    "# list 내포 2\n",
    "# 조건 설정하기\n",
    "array = ['사과', '체리', '바나나', '과자']\n",
    "output = [i for i in array if i !='과자']\n",
    "print(output)"
   ]
  }
 ],
 "metadata": {
  "interpreter": {
   "hash": "513dc2e41d739bb2c947903f3c0bbf636d03aa53ab50e61c694a27481c81805e"
  },
  "kernelspec": {
   "display_name": "Python 3.9.7 64-bit ('base': conda)",
   "language": "python",
   "name": "python3"
  },
  "language_info": {
   "name": "python",
   "version": "3.9.7"
  },
  "orig_nbformat": 4
 },
 "nbformat": 4,
 "nbformat_minor": 2
}
