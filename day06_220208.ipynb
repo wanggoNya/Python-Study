{
 "cells": [
  {
   "cell_type": "code",
   "execution_count": 1,
   "metadata": {},
   "outputs": [
    {
     "ename": "SyntaxError",
     "evalue": "invalid syntax (Temp/ipykernel_17616/1652645696.py, line 5)",
     "output_type": "error",
     "traceback": [
      "\u001b[1;36m  File \u001b[1;32m\"C:\\Users\\SOOYEO~1\\AppData\\Local\\Temp/ipykernel_17616/1652645696.py\"\u001b[1;36m, line \u001b[1;32m5\u001b[0m\n\u001b[1;33m    print (에러 강제 발생\")\u001b[0m\n\u001b[1;37m              ^\u001b[0m\n\u001b[1;31mSyntaxError\u001b[0m\u001b[1;31m:\u001b[0m invalid syntax\n"
     ]
    }
   ],
   "source": [
    "# 예외 처리 ( 에러처리, 오류처리, 버그처리 )\n",
    "# 프로그램 실행 전에 발생하는 오류 - 구문 오류 syntax error\n",
    "# 프로그램 실행 중에 발생하는 오류 - 런타임 오류 runtime error, 예외 Exception\n",
    "\n",
    "# print (에러 강제 발생\")\n",
    "# syntax 에러 - 실행 조차 되지 않는 오류\n",
    "\n",
    "\n"
   ]
  },
  {
   "cell_type": "code",
   "execution_count": 28,
   "metadata": {},
   "outputs": [
    {
     "ename": "ValueError",
     "evalue": "invalid literal for int() with base 10: ''",
     "output_type": "error",
     "traceback": [
      "\u001b[1;31m---------------------------------------------------------------------------\u001b[0m",
      "\u001b[1;31mValueError\u001b[0m                                Traceback (most recent call last)",
      "\u001b[1;32mC:\\Users\\SOOYEO~1\\AppData\\Local\\Temp/ipykernel_17616/3001103136.py\u001b[0m in \u001b[0;36m<module>\u001b[1;34m\u001b[0m\n\u001b[1;32m----> 1\u001b[1;33m \u001b[0mnum_input\u001b[0m \u001b[1;33m=\u001b[0m \u001b[0mint\u001b[0m\u001b[1;33m(\u001b[0m\u001b[0minput\u001b[0m\u001b[1;33m(\u001b[0m\u001b[1;34m'정수 입력 >'\u001b[0m\u001b[1;33m)\u001b[0m\u001b[1;33m)\u001b[0m\u001b[1;33m\u001b[0m\u001b[1;33m\u001b[0m\u001b[0m\n\u001b[0m\u001b[0;32m      2\u001b[0m \u001b[1;33m\u001b[0m\u001b[0m\n\u001b[0;32m      3\u001b[0m \u001b[0mprint\u001b[0m\u001b[1;33m(\u001b[0m\u001b[1;34m'원의 반지름 :'\u001b[0m\u001b[1;33m,\u001b[0m \u001b[0mnum_input\u001b[0m\u001b[1;33m)\u001b[0m\u001b[1;33m\u001b[0m\u001b[1;33m\u001b[0m\u001b[0m\n\u001b[0;32m      4\u001b[0m \u001b[0mprint\u001b[0m\u001b[1;33m(\u001b[0m\u001b[1;34m'원의 둘레'\u001b[0m\u001b[1;33m,\u001b[0m \u001b[1;36m2\u001b[0m\u001b[1;33m*\u001b[0m\u001b[1;36m3.14\u001b[0m\u001b[1;33m*\u001b[0m\u001b[0mnum_input\u001b[0m\u001b[1;33m)\u001b[0m\u001b[1;33m\u001b[0m\u001b[1;33m\u001b[0m\u001b[0m\n\u001b[0;32m      5\u001b[0m \u001b[0mprint\u001b[0m\u001b[1;33m(\u001b[0m\u001b[1;34m'원의 넓이'\u001b[0m\u001b[1;33m,\u001b[0m \u001b[1;36m3.14\u001b[0m\u001b[1;33m*\u001b[0m\u001b[0mnum_input\u001b[0m\u001b[1;33m*\u001b[0m\u001b[0mnum_input\u001b[0m\u001b[1;33m)\u001b[0m\u001b[1;33m\u001b[0m\u001b[1;33m\u001b[0m\u001b[0m\n",
      "\u001b[1;31mValueError\u001b[0m: invalid literal for int() with base 10: ''"
     ]
    }
   ],
   "source": [
    "num_input = int(input('정수 입력 >'))\n",
    "\n",
    "print('원의 반지름 :', num_input)\n",
    "print('원의 둘레', 2*3.14*num_input)\n",
    "print('원의 넓이', 3.14*num_input*num_input)\n"
   ]
  },
  {
   "cell_type": "code",
   "execution_count": null,
   "metadata": {},
   "outputs": [
    {
     "name": "stdout",
     "output_type": "stream",
     "text": [
      "정수를 입력\n"
     ]
    }
   ],
   "source": [
    "# if로 예외 처리하기\n",
    "num_input = (input('정수입력 >'))\n",
    "\n",
    "if  num_input.isdigit():\n",
    "    num_in = int(num_input)\n",
    "\n",
    "    print('원의 반지름 :', num_in)\n",
    "    print('원의 둘레', 2*3.14*num_in)\n",
    "    print('원의 넓이', 3.14*num_in*num_in)\n",
    "else:\n",
    "    print('정수를 입력')"
   ]
  },
  {
   "cell_type": "code",
   "execution_count": null,
   "metadata": {},
   "outputs": [],
   "source": [
    "# try except 구문\n",
    "\n",
    "try:\n",
    "  num_input = input('정수 입력 >')\n",
    "\n",
    "  num_a = int(num_input)\n",
    "\n",
    "  print('원의 반지름 : ', num_a)\n",
    "  print('원의 둘레', 2 * 3.14 * num_a)\n",
    "  print('원의 넓이', 3.14 * num_a * num_a)\n",
    "else:\n",
    "  print('정수를 입력하세요')\n"
   ]
  },
  {
   "cell_type": "code",
   "execution_count": null,
   "metadata": {},
   "outputs": [],
   "source": [
    "# 숫자만 추출하는 프로그램\n",
    "\n",
    "list_all = ['52','273','32','스파이','103']\n",
    "\n",
    "list_num = []\n",
    "\n",
    "for i in list_all:\n",
    "  try:\n",
    "    float(i)\n",
    "    list_num.append(i)\n",
    "  except:\n",
    "    pass\n",
    "\n",
    "print(list_num)"
   ]
  },
  {
   "cell_type": "code",
   "execution_count": null,
   "metadata": {},
   "outputs": [],
   "source": [
    "list = ['52','273','32','스파이','103']\n",
    "try:\n",
    "  print(list[5])\n",
    "except:\n",
    "  print('존재하지 않는 인덱스 번호입니다.')"
   ]
  },
  {
   "cell_type": "code",
   "execution_count": null,
   "metadata": {},
   "outputs": [],
   "source": [
    "try:\n",
    "# 예외가 발생할 가능성이 있는 코드\n",
    "\n",
    "except:\n",
    "# 예외가 발생했을 때 실행할 코드\n",
    "\n",
    "else:\n",
    "# 예외가 발생하지 않았을 때 실행할 코드 \n",
    "\n",
    "finally:\n",
    "# 항상 실행시킬 코드\n",
    "\n",
    "# try + except\n",
    "# try + except + else   \n",
    "# try + except + finally\n",
    "# try + except + else + finally\n",
    "# try + finally"
   ]
  },
  {
   "cell_type": "code",
   "execution_count": null,
   "metadata": {},
   "outputs": [
    {
     "name": "stdout",
     "output_type": "stream",
     "text": [
      "정수입력하라고 ㅡㅡ\n",
      "프로그램이 완전히 종료되었건말건 진서랑 밥먹고싶은데 언제 끝나?\n"
     ]
    }
   ],
   "source": [
    "try:\n",
    "    num = int(input('정수를 입력하세요 >'))\n",
    "except:\n",
    "    print('정수입력하라고 ㅡㅡ')\n",
    "else:\n",
    "    print('입력한 정수는',num,'입니다')\n",
    "finally:\n",
    "    print('프로그램이 완전히 종료되어써용')\n",
    "# else는 다른 대부분의 언어에서는 없다. else 사용을 권장하지 않는다.\n",
    "        "
   ]
  },
  {
   "cell_type": "code",
   "execution_count": 32,
   "metadata": {},
   "outputs": [
    {
     "name": "stdout",
     "output_type": "stream",
     "text": [
      "test()함수의 첫 줄입니다.\n",
      "try 구문이 실행되었습니다.\n",
      "finally 구문이 실행되었습니다.\n"
     ]
    }
   ],
   "source": [
    "def test():\n",
    "  print('test()함수의 첫 줄입니다.')\n",
    "  try:\n",
    "    print('try 구문이 실행되었습니다.')\n",
    "\n",
    "    return\n",
    "    print('try 구문의 return 아래입니다.')\n",
    "  except:\n",
    "    print('except구문이 실행되었습니다.')\n",
    "  else:\n",
    "    print('else구문이 실행되었습니다.')\n",
    "  finally:\n",
    "    print('finally 구문이 실행되었습니다.')\n",
    "  print('test()함수의 마지막 줄입니다.')\n",
    "\n",
    "test()def test():\n",
    "  print('test()함수의 첫 줄입니다.')\n",
    "  try:\n",
    "    print('try  구문이 실행되었습니다.')\n",
    "    return\n",
    "    print('try 구문의 return 아래입니다.')\n",
    "  except:\n",
    "    print('except구문이 실행되었습니다.')\n",
    "  else:\n",
    "    print('else구문이 실행되었습니다.')\n",
    "  finally:\n",
    "    print('finally 구문이 실행되었습니다.')\n",
    "  print('test()함수의 마지막 줄입니다.')\n",
    "\n",
    "test()"
   ]
  },
  {
   "cell_type": "code",
   "execution_count": null,
   "metadata": {},
   "outputs": [],
   "source": [
    "# 예외 만들기\n",
    "\n",
    "class MyError(Exception): # 상속\n",
    "  pass\n",
    "\n",
    "def say_nick(nick):\n",
    "  if nick == '바보':\n",
    "    raise MyError()\n",
    "  print(nick)\n",
    "\n",
    "say_nick('바보')"
   ]
  }
 ],
 "metadata": {
  "interpreter": {
   "hash": "513dc2e41d739bb2c947903f3c0bbf636d03aa53ab50e61c694a27481c81805e"
  },
  "kernelspec": {
   "display_name": "Python 3.9.7 ('base')",
   "language": "python",
   "name": "python3"
  },
  "language_info": {
   "codemirror_mode": {
    "name": "ipython",
    "version": 3
   },
   "file_extension": ".py",
   "mimetype": "text/x-python",
   "name": "python",
   "nbconvert_exporter": "python",
   "pygments_lexer": "ipython3",
   "version": "3.9.7"
  },
  "orig_nbformat": 4
 },
 "nbformat": 4,
 "nbformat_minor": 2
}
